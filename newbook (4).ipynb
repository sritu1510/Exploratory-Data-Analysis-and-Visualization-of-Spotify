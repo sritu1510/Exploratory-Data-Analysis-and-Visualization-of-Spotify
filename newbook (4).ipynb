{
 "cells": [
  {
   "cell_type": "markdown",
   "metadata": {
    "id": "uiJ-xt5KSMBV"
   },
   "source": [
    "#  Spotify Huge Database Daily Charts Over 3 Years\n",
    "\n",
    "![](https://bigdataandspotify.files.wordpress.com/2018/11/spotify1.jpg)\n",
    "\n",
    "## Introduction\n",
    "In this project, we will analyze the Spotify Huge Database Daily Charts Over 3 Years  from Kaggle.This huge dataset contains all the songs in Spotify's Daily Top 200 charts in 35+1 (global) countries around the world for a period of over 3 years (2017-2020). The data set can be viewed using this link:\n",
    "https://www.kaggle.com/datasets/pepepython/spotify-huge-database-daily-charts-over-3-years?select=Final+database.csv\n",
    "\n",
    "\n",
    "## Exploratory Data Analysis (EDA)\n",
    "\n",
    "![](https://pianalytix.com/wp-content/uploads/2020/11/Exploratory-Data-Analysis.jpg)\n",
    "\n",
    "Exploratory Data Analysis is a process of examining or understanding the data and extracting insights or main characteristics of the data. EDA is generally classified into two methods, i.e. graphical analysis and non-graphical analysis.\n",
    "EDA is very essential because it is a good practice to first understand the problem statement and the various relationships between the data features before getting your hands dirty.\n",
    "\n",
    "## Kaggle\n",
    "\n",
    "![](https://storage.googleapis.com/kaggle-media/bipoc-grant/kaggle-professor-goose.png)\n",
    "\n",
    "\n",
    "Kaggle, a subsidiary of Google LLC, is an online community of data scientists and machine learning practitioners. Kaggle allows users to find and publish data sets, explore and build models in a web-based data-science environment, work with other data scientists and machine learning engineers, and enter competitions to solve data science challenges.\n",
    "\n",
    "\n",
    "\n",
    "**Here is an outline of the steps we'll follow:**\n",
    "\n",
    "- Downloading a dataset from an online source Kaggle.\n",
    "- Data preparation and cleaning\n",
    "- Exploratory Analysis and Visualization.\n",
    "- Asking and Answering questions.\n",
    "- Summary\n",
    "- Inferences and conclusion.\n",
    "- Reference\n",
    "\n",
    "\n",
    " _**\"Final Database\" includes many data for each song. It aggregates the populairty for songs into a single score for each. For each song several variables were retrieved by using Spotify's API (such as artist, country, genre, …)**_\n",
    "\n",
    "\n",
    "\n",
    "\n",
    "Use the \"Run\" button to execute the code."
   ]
  },
  {
   "cell_type": "markdown",
   "metadata": {
    "id": "tUTIzrDRbgml"
   },
   "source": [
    "## Download and Read the Data"
   ]
  },
  {
   "cell_type": "code",
   "execution_count": 1,
   "metadata": {
    "executionInfo": {
     "elapsed": 4187,
     "status": "ok",
     "timestamp": 1673541569984,
     "user": {
      "displayName": "Ritu Singh",
      "userId": "11452320716915109322"
     },
     "user_tz": -330
    },
    "id": "qKeHH1aGSMBw"
   },
   "outputs": [],
   "source": [
    "!pip install opendatasets --upgrade --quiet\n",
    "\n",
    "import opendatasets as od "
   ]
  },
  {
   "cell_type": "code",
   "execution_count": 2,
   "metadata": {
    "colab": {
     "base_uri": "https://localhost:8080/"
    },
    "executionInfo": {
     "elapsed": 99207,
     "status": "ok",
     "timestamp": 1673541669156,
     "user": {
      "displayName": "Ritu Singh",
      "userId": "11452320716915109322"
     },
     "user_tz": -330
    },
    "id": "nz8WEUS7S7-a",
    "outputId": "8a78193a-c605-4ad3-a663-88e7d0c8b937"
   },
   "outputs": [
    {
     "name": "stdout",
     "output_type": "stream",
     "text": [
      "Please provide your Kaggle credentials to download this dataset. Learn more: http://bit.ly/kaggle-creds\n",
      "Your Kaggle username: vikassrivastav\n",
      "Your Kaggle Key: ··········\n",
      "Downloading spotify-huge-database-daily-charts-over-3-years.zip to ./spotify-huge-database-daily-charts-over-3-years\n"
     ]
    },
    {
     "name": "stderr",
     "output_type": "stream",
     "text": [
      "100%|██████████| 191M/191M [00:02<00:00, 92.3MB/s]\n"
     ]
    },
    {
     "name": "stdout",
     "output_type": "stream",
     "text": [
      "\n"
     ]
    }
   ],
   "source": [
    "download_url = 'https://www.kaggle.com/datasets/pepepython/spotify-huge-database-daily-charts-over-3-years?select=Final+database.csv'\n",
    "\n",
    "od.download(download_url)"
   ]
  },
  {
   "cell_type": "code",
   "execution_count": 3,
   "metadata": {
    "executionInfo": {
     "elapsed": 23,
     "status": "ok",
     "timestamp": 1673541669157,
     "user": {
      "displayName": "Ritu Singh",
      "userId": "11452320716915109322"
     },
     "user_tz": -330
    },
    "id": "-JFgCqLUS8Ab"
   },
   "outputs": [],
   "source": [
    "data_filename = './spotify-huge-database-daily-charts-over-3-years/Final database.csv'"
   ]
  },
  {
   "cell_type": "markdown",
   "metadata": {
    "id": "9QNd4AOKTSCA"
   },
   "source": [
    "## Data preparation and Cleaning\n",
    "1. Load the file usin pandas \n",
    "2. Look at some information about the data & the columns \n",
    "3. Fix any missing or incorrect values "
   ]
  },
  {
   "cell_type": "code",
   "execution_count": 4,
   "metadata": {
    "executionInfo": {
     "elapsed": 685,
     "status": "ok",
     "timestamp": 1673541669820,
     "user": {
      "displayName": "Ritu Singh",
      "userId": "11452320716915109322"
     },
     "user_tz": -330
    },
    "id": "ro2dwYOkS8Cp"
   },
   "outputs": [],
   "source": [
    "import pandas as pd"
   ]
  },
  {
   "cell_type": "code",
   "execution_count": 5,
   "metadata": {
    "colab": {
     "base_uri": "https://localhost:8080/",
     "height": 661
    },
    "executionInfo": {
     "elapsed": 2127,
     "status": "ok",
     "timestamp": 1673541671940,
     "user": {
      "displayName": "Ritu Singh",
      "userId": "11452320716915109322"
     },
     "user_tz": -330
    },
    "id": "QCD91jPbS8E6",
    "outputId": "9c90a10a-3c22-4119-9cdd-16a7b6bb0f21"
   },
   "outputs": [
    {
     "data": {
      "text/html": [
       "\n",
       "  <div id=\"df-0dcfbf9d-223c-4fe8-91e1-71e705f16435\">\n",
       "    <div class=\"colab-df-container\">\n",
       "      <div>\n",
       "<style scoped>\n",
       "    .dataframe tbody tr th:only-of-type {\n",
       "        vertical-align: middle;\n",
       "    }\n",
       "\n",
       "    .dataframe tbody tr th {\n",
       "        vertical-align: top;\n",
       "    }\n",
       "\n",
       "    .dataframe thead th {\n",
       "        text-align: right;\n",
       "    }\n",
       "</style>\n",
       "<table border=\"1\" class=\"dataframe\">\n",
       "  <thead>\n",
       "    <tr style=\"text-align: right;\">\n",
       "      <th></th>\n",
       "      <th>Country</th>\n",
       "      <th>Popularity</th>\n",
       "      <th>Title</th>\n",
       "      <th>Artist</th>\n",
       "      <th>Genre</th>\n",
       "      <th>Artist_followers</th>\n",
       "      <th>Release_date</th>\n",
       "      <th>danceability</th>\n",
       "      <th>energy</th>\n",
       "      <th>loudness</th>\n",
       "      <th>tempo</th>\n",
       "      <th>duration_ms</th>\n",
       "    </tr>\n",
       "  </thead>\n",
       "  <tbody>\n",
       "    <tr>\n",
       "      <th>0</th>\n",
       "      <td>Global</td>\n",
       "      <td>31833.95</td>\n",
       "      <td>adan y eva</td>\n",
       "      <td>Paulo Londra</td>\n",
       "      <td>argentine hip hop</td>\n",
       "      <td>11427104.0</td>\n",
       "      <td>2018-11-05</td>\n",
       "      <td>0.767</td>\n",
       "      <td>0.7090000000000001</td>\n",
       "      <td>-4.47</td>\n",
       "      <td>171.993</td>\n",
       "      <td>258639</td>\n",
       "    </tr>\n",
       "    <tr>\n",
       "      <th>1</th>\n",
       "      <td>USA</td>\n",
       "      <td>8.00</td>\n",
       "      <td>adan y eva</td>\n",
       "      <td>Paulo Londra</td>\n",
       "      <td>argentine hip hop</td>\n",
       "      <td>11427104.0</td>\n",
       "      <td>2018-11-05</td>\n",
       "      <td>0.767</td>\n",
       "      <td>0.7090000000000001</td>\n",
       "      <td>-4.47</td>\n",
       "      <td>171.993</td>\n",
       "      <td>258639</td>\n",
       "    </tr>\n",
       "    <tr>\n",
       "      <th>2</th>\n",
       "      <td>Argentina</td>\n",
       "      <td>76924.40</td>\n",
       "      <td>adan y eva</td>\n",
       "      <td>Paulo Londra</td>\n",
       "      <td>argentine hip hop</td>\n",
       "      <td>11427104.0</td>\n",
       "      <td>2018-11-05</td>\n",
       "      <td>0.767</td>\n",
       "      <td>0.7090000000000001</td>\n",
       "      <td>-4.47</td>\n",
       "      <td>171.993</td>\n",
       "      <td>258639</td>\n",
       "    </tr>\n",
       "    <tr>\n",
       "      <th>3</th>\n",
       "      <td>Belgium</td>\n",
       "      <td>849.60</td>\n",
       "      <td>adan y eva</td>\n",
       "      <td>Paulo Londra</td>\n",
       "      <td>argentine hip hop</td>\n",
       "      <td>11427104.0</td>\n",
       "      <td>2018-11-05</td>\n",
       "      <td>0.767</td>\n",
       "      <td>0.7090000000000001</td>\n",
       "      <td>-4.47</td>\n",
       "      <td>171.993</td>\n",
       "      <td>258639</td>\n",
       "    </tr>\n",
       "    <tr>\n",
       "      <th>4</th>\n",
       "      <td>Switzerland</td>\n",
       "      <td>20739.10</td>\n",
       "      <td>adan y eva</td>\n",
       "      <td>Paulo Londra</td>\n",
       "      <td>argentine hip hop</td>\n",
       "      <td>11427104.0</td>\n",
       "      <td>2018-11-05</td>\n",
       "      <td>0.767</td>\n",
       "      <td>0.7090000000000001</td>\n",
       "      <td>-4.47</td>\n",
       "      <td>171.993</td>\n",
       "      <td>258639</td>\n",
       "    </tr>\n",
       "    <tr>\n",
       "      <th>...</th>\n",
       "      <td>...</td>\n",
       "      <td>...</td>\n",
       "      <td>...</td>\n",
       "      <td>...</td>\n",
       "      <td>...</td>\n",
       "      <td>...</td>\n",
       "      <td>...</td>\n",
       "      <td>...</td>\n",
       "      <td>...</td>\n",
       "      <td>...</td>\n",
       "      <td>...</td>\n",
       "      <td>...</td>\n",
       "    </tr>\n",
       "    <tr>\n",
       "      <th>99995</th>\n",
       "      <td>Costa Rica</td>\n",
       "      <td>1242.80</td>\n",
       "      <td>so fresh</td>\n",
       "      <td>Paulo Londra</td>\n",
       "      <td>argentine hip hop</td>\n",
       "      <td>11427104.0</td>\n",
       "      <td>2019-05-23</td>\n",
       "      <td>0.812</td>\n",
       "      <td>0.6809999999999999</td>\n",
       "      <td>-6.869</td>\n",
       "      <td>96.516</td>\n",
       "      <td>167975</td>\n",
       "    </tr>\n",
       "    <tr>\n",
       "      <th>99996</th>\n",
       "      <td>Ecuador</td>\n",
       "      <td>522.40</td>\n",
       "      <td>so fresh</td>\n",
       "      <td>Paulo Londra</td>\n",
       "      <td>argentine hip hop</td>\n",
       "      <td>11427104.0</td>\n",
       "      <td>2019-05-23</td>\n",
       "      <td>0.812</td>\n",
       "      <td>0.6809999999999999</td>\n",
       "      <td>-6.869</td>\n",
       "      <td>96.516</td>\n",
       "      <td>167975</td>\n",
       "    </tr>\n",
       "    <tr>\n",
       "      <th>99997</th>\n",
       "      <td>Spain</td>\n",
       "      <td>6.40</td>\n",
       "      <td>so fresh</td>\n",
       "      <td>Paulo Londra</td>\n",
       "      <td>argentine hip hop</td>\n",
       "      <td>11427104.0</td>\n",
       "      <td>2019-05-23</td>\n",
       "      <td>0.812</td>\n",
       "      <td>0.6809999999999999</td>\n",
       "      <td>-6.869</td>\n",
       "      <td>96.516</td>\n",
       "      <td>167975</td>\n",
       "    </tr>\n",
       "    <tr>\n",
       "      <th>99998</th>\n",
       "      <td>Mexico</td>\n",
       "      <td>0.80</td>\n",
       "      <td>so fresh</td>\n",
       "      <td>Paulo Londra</td>\n",
       "      <td>argentine hip hop</td>\n",
       "      <td>11427104.0</td>\n",
       "      <td>2019-05-23</td>\n",
       "      <td>0.812</td>\n",
       "      <td>0.6809999999999999</td>\n",
       "      <td>-6.869</td>\n",
       "      <td>96.516</td>\n",
       "      <td>167975</td>\n",
       "    </tr>\n",
       "    <tr>\n",
       "      <th>99999</th>\n",
       "      <td>Peru</td>\n",
       "      <td>418.40</td>\n",
       "      <td>so fresh</td>\n",
       "      <td>Paulo Londra</td>\n",
       "      <td>argentine hip hop</td>\n",
       "      <td>11427104.0</td>\n",
       "      <td>2019-05-23</td>\n",
       "      <td>0.812</td>\n",
       "      <td>0.6809999999999999</td>\n",
       "      <td>-6.869</td>\n",
       "      <td>96.516</td>\n",
       "      <td>167975</td>\n",
       "    </tr>\n",
       "  </tbody>\n",
       "</table>\n",
       "<p>100000 rows × 12 columns</p>\n",
       "</div>\n",
       "      <button class=\"colab-df-convert\" onclick=\"convertToInteractive('df-0dcfbf9d-223c-4fe8-91e1-71e705f16435')\"\n",
       "              title=\"Convert this dataframe to an interactive table.\"\n",
       "              style=\"display:none;\">\n",
       "        \n",
       "  <svg xmlns=\"http://www.w3.org/2000/svg\" height=\"24px\"viewBox=\"0 0 24 24\"\n",
       "       width=\"24px\">\n",
       "    <path d=\"M0 0h24v24H0V0z\" fill=\"none\"/>\n",
       "    <path d=\"M18.56 5.44l.94 2.06.94-2.06 2.06-.94-2.06-.94-.94-2.06-.94 2.06-2.06.94zm-11 1L8.5 8.5l.94-2.06 2.06-.94-2.06-.94L8.5 2.5l-.94 2.06-2.06.94zm10 10l.94 2.06.94-2.06 2.06-.94-2.06-.94-.94-2.06-.94 2.06-2.06.94z\"/><path d=\"M17.41 7.96l-1.37-1.37c-.4-.4-.92-.59-1.43-.59-.52 0-1.04.2-1.43.59L10.3 9.45l-7.72 7.72c-.78.78-.78 2.05 0 2.83L4 21.41c.39.39.9.59 1.41.59.51 0 1.02-.2 1.41-.59l7.78-7.78 2.81-2.81c.8-.78.8-2.07 0-2.86zM5.41 20L4 18.59l7.72-7.72 1.47 1.35L5.41 20z\"/>\n",
       "  </svg>\n",
       "      </button>\n",
       "      \n",
       "  <style>\n",
       "    .colab-df-container {\n",
       "      display:flex;\n",
       "      flex-wrap:wrap;\n",
       "      gap: 12px;\n",
       "    }\n",
       "\n",
       "    .colab-df-convert {\n",
       "      background-color: #E8F0FE;\n",
       "      border: none;\n",
       "      border-radius: 50%;\n",
       "      cursor: pointer;\n",
       "      display: none;\n",
       "      fill: #1967D2;\n",
       "      height: 32px;\n",
       "      padding: 0 0 0 0;\n",
       "      width: 32px;\n",
       "    }\n",
       "\n",
       "    .colab-df-convert:hover {\n",
       "      background-color: #E2EBFA;\n",
       "      box-shadow: 0px 1px 2px rgba(60, 64, 67, 0.3), 0px 1px 3px 1px rgba(60, 64, 67, 0.15);\n",
       "      fill: #174EA6;\n",
       "    }\n",
       "\n",
       "    [theme=dark] .colab-df-convert {\n",
       "      background-color: #3B4455;\n",
       "      fill: #D2E3FC;\n",
       "    }\n",
       "\n",
       "    [theme=dark] .colab-df-convert:hover {\n",
       "      background-color: #434B5C;\n",
       "      box-shadow: 0px 1px 3px 1px rgba(0, 0, 0, 0.15);\n",
       "      filter: drop-shadow(0px 1px 2px rgba(0, 0, 0, 0.3));\n",
       "      fill: #FFFFFF;\n",
       "    }\n",
       "  </style>\n",
       "\n",
       "      <script>\n",
       "        const buttonEl =\n",
       "          document.querySelector('#df-0dcfbf9d-223c-4fe8-91e1-71e705f16435 button.colab-df-convert');\n",
       "        buttonEl.style.display =\n",
       "          google.colab.kernel.accessAllowed ? 'block' : 'none';\n",
       "\n",
       "        async function convertToInteractive(key) {\n",
       "          const element = document.querySelector('#df-0dcfbf9d-223c-4fe8-91e1-71e705f16435');\n",
       "          const dataTable =\n",
       "            await google.colab.kernel.invokeFunction('convertToInteractive',\n",
       "                                                     [key], {});\n",
       "          if (!dataTable) return;\n",
       "\n",
       "          const docLinkHtml = 'Like what you see? Visit the ' +\n",
       "            '<a target=\"_blank\" href=https://colab.research.google.com/notebooks/data_table.ipynb>data table notebook</a>'\n",
       "            + ' to learn more about interactive tables.';\n",
       "          element.innerHTML = '';\n",
       "          dataTable['output_type'] = 'display_data';\n",
       "          await google.colab.output.renderOutput(dataTable, element);\n",
       "          const docLink = document.createElement('div');\n",
       "          docLink.innerHTML = docLinkHtml;\n",
       "          element.appendChild(docLink);\n",
       "        }\n",
       "      </script>\n",
       "    </div>\n",
       "  </div>\n",
       "  "
      ],
      "text/plain": [
       "           Country  Popularity       Title        Artist              Genre  \\\n",
       "0           Global    31833.95  adan y eva  Paulo Londra  argentine hip hop   \n",
       "1              USA        8.00  adan y eva  Paulo Londra  argentine hip hop   \n",
       "2        Argentina    76924.40  adan y eva  Paulo Londra  argentine hip hop   \n",
       "3          Belgium      849.60  adan y eva  Paulo Londra  argentine hip hop   \n",
       "4      Switzerland    20739.10  adan y eva  Paulo Londra  argentine hip hop   \n",
       "...            ...         ...         ...           ...                ...   \n",
       "99995   Costa Rica     1242.80    so fresh  Paulo Londra  argentine hip hop   \n",
       "99996      Ecuador      522.40    so fresh  Paulo Londra  argentine hip hop   \n",
       "99997        Spain        6.40    so fresh  Paulo Londra  argentine hip hop   \n",
       "99998       Mexico        0.80    so fresh  Paulo Londra  argentine hip hop   \n",
       "99999         Peru      418.40    so fresh  Paulo Londra  argentine hip hop   \n",
       "\n",
       "       Artist_followers Release_date danceability              energy  \\\n",
       "0            11427104.0   2018-11-05        0.767  0.7090000000000001   \n",
       "1            11427104.0   2018-11-05        0.767  0.7090000000000001   \n",
       "2            11427104.0   2018-11-05        0.767  0.7090000000000001   \n",
       "3            11427104.0   2018-11-05        0.767  0.7090000000000001   \n",
       "4            11427104.0   2018-11-05        0.767  0.7090000000000001   \n",
       "...                 ...          ...          ...                 ...   \n",
       "99995        11427104.0   2019-05-23        0.812  0.6809999999999999   \n",
       "99996        11427104.0   2019-05-23        0.812  0.6809999999999999   \n",
       "99997        11427104.0   2019-05-23        0.812  0.6809999999999999   \n",
       "99998        11427104.0   2019-05-23        0.812  0.6809999999999999   \n",
       "99999        11427104.0   2019-05-23        0.812  0.6809999999999999   \n",
       "\n",
       "      loudness    tempo duration_ms  \n",
       "0        -4.47  171.993      258639  \n",
       "1        -4.47  171.993      258639  \n",
       "2        -4.47  171.993      258639  \n",
       "3        -4.47  171.993      258639  \n",
       "4        -4.47  171.993      258639  \n",
       "...        ...      ...         ...  \n",
       "99995   -6.869   96.516      167975  \n",
       "99996   -6.869   96.516      167975  \n",
       "99997   -6.869   96.516      167975  \n",
       "99998   -6.869   96.516      167975  \n",
       "99999   -6.869   96.516      167975  \n",
       "\n",
       "[100000 rows x 12 columns]"
      ]
     },
     "execution_count": 5,
     "metadata": {},
     "output_type": "execute_result"
    }
   ],
   "source": [
    "selected_columns = ['Country','Popularity','Title','Artist','Genre','Artist_followers','Release_date',\n",
    "                    'danceability','energy','loudness','tempo','duration_ms']\n",
    "df = pd.read_csv(data_filename, low_memory=False, nrows=100000, usecols= selected_columns)\n",
    "\n",
    "df"
   ]
  },
  {
   "cell_type": "code",
   "execution_count": 6,
   "metadata": {
    "colab": {
     "base_uri": "https://localhost:8080/"
    },
    "executionInfo": {
     "elapsed": 58,
     "status": "ok",
     "timestamp": 1673541671942,
     "user": {
      "displayName": "Ritu Singh",
      "userId": "11452320716915109322"
     },
     "user_tz": -330
    },
    "id": "8TXVhYxGS8HB",
    "outputId": "aa2e7508-c710-46fe-ac9a-922745c754a1"
   },
   "outputs": [
    {
     "data": {
      "text/plain": [
       "Index(['Country', 'Popularity', 'Title', 'Artist', 'Genre', 'Artist_followers',\n",
       "       'Release_date', 'danceability', 'energy', 'loudness', 'tempo',\n",
       "       'duration_ms'],\n",
       "      dtype='object')"
      ]
     },
     "execution_count": 6,
     "metadata": {},
     "output_type": "execute_result"
    }
   ],
   "source": [
    "df.columns"
   ]
  },
  {
   "cell_type": "markdown",
   "metadata": {
    "id": "skKSYxUImHrc"
   },
   "source": [
    "### Below you can find a description of every variable:\n",
    "- **Title:** Name of a song\n",
    "- **Country** Global and 34 countries where Spotify operates, namely Argentina, Australia, Austria, Belgium, Brazil, Canada, Chile, Colombia, Costa Rica, Denmark, Ecuador, Finland, France, Germany, Great Britain, Indonesia, Ireland, Italy, Mexico,\n",
    "Malaysia, Netherlands, New Zealand, Norway, Peru, Philippines, Poland, Portugal, Singapore, Spain, Sweden, Switzerland, Taiwan, Turkey, USA\n",
    "- **Popularity_** The popularity score calculated taking into account both the number of days a song stayed in the Top200 and the position it stayed in every day, weighting more the top positions\n",
    "- **Artist:** Name of the songs' artist\n",
    "-**Genre:** The predominant genre of an artist according to Spotify’s classification\n",
    "- **Artistfollowers:** The number of followers the artist has on Spotify on the 5th of November 2020 \n",
    "- **Releasedate:** Date on which the song was published\n",
    "- **Danceability:** How suitable a track is for dancing based on a combination of musical elements including tempo, rhythm stability, beat strength, and overall regularity. A value of 0.0 is least danceable and 1.0 is most danceable\n",
    "- **Energy:** It is a measure from 0.0 to 1.0 and represents a perceptual measure of intensity and activity. Typically, energetic tracks feel fast, loud, and noisy. Perceptual features contributing to this attribute include dynamic range, perceived loudness, timbre, onset rate, and general entropy\n",
    "- **Loudness:** The overall loudness of a track in decibels (dB). Loudness values are averaged across the entire track and are useful for comparing relative loudness of tracks. Loudness is the quality of a sound that is the primary psychological correlate of physical strength (amplitude). Values typical range between -60 and 0 db\n",
    "- **Tempo:** The overall estimated tempo of a track in beats per minute (BPM). In musical terminology, tempo is the speed or pace of a given piece and derives directly from the average beat duration\n",
    "- **Durationms:** The duration of the track in milliseconds -Timesignature: An estimated overall time signature of a track. The time signature (meter) is a notational convention to specify how many beats are in each bar (or measure)\n",
    "\n"
   ]
  },
  {
   "cell_type": "code",
   "execution_count": 7,
   "metadata": {
    "colab": {
     "base_uri": "https://localhost:8080/"
    },
    "executionInfo": {
     "elapsed": 47,
     "status": "ok",
     "timestamp": 1673541671943,
     "user": {
      "displayName": "Ritu Singh",
      "userId": "11452320716915109322"
     },
     "user_tz": -330
    },
    "id": "0PaVq0FdS8J1",
    "outputId": "daf82e58-69a3-48fe-ebec-37ca76542745"
   },
   "outputs": [
    {
     "data": {
      "text/plain": [
       "12"
      ]
     },
     "execution_count": 7,
     "metadata": {},
     "output_type": "execute_result"
    }
   ],
   "source": [
    "len(df.columns)"
   ]
  },
  {
   "cell_type": "code",
   "execution_count": 8,
   "metadata": {
    "colab": {
     "base_uri": "https://localhost:8080/"
    },
    "executionInfo": {
     "elapsed": 43,
     "status": "ok",
     "timestamp": 1673541671944,
     "user": {
      "displayName": "Ritu Singh",
      "userId": "11452320716915109322"
     },
     "user_tz": -330
    },
    "id": "dCEJZ0zzS8M6",
    "outputId": "5fa95626-b359-4570-c98e-c114af5bb717"
   },
   "outputs": [
    {
     "data": {
      "text/plain": [
       "100000"
      ]
     },
     "execution_count": 8,
     "metadata": {},
     "output_type": "execute_result"
    }
   ],
   "source": [
    "len(df)"
   ]
  },
  {
   "cell_type": "code",
   "execution_count": 9,
   "metadata": {
    "colab": {
     "base_uri": "https://localhost:8080/"
    },
    "executionInfo": {
     "elapsed": 40,
     "status": "ok",
     "timestamp": 1673541671945,
     "user": {
      "displayName": "Ritu Singh",
      "userId": "11452320716915109322"
     },
     "user_tz": -330
    },
    "id": "ofc4uAVYS8O8",
    "outputId": "c0ebc7b9-8937-4f7e-a8ce-235c2b2a42e7"
   },
   "outputs": [
    {
     "name": "stdout",
     "output_type": "stream",
     "text": [
      "<class 'pandas.core.frame.DataFrame'>\n",
      "RangeIndex: 100000 entries, 0 to 99999\n",
      "Data columns (total 12 columns):\n",
      " #   Column            Non-Null Count   Dtype  \n",
      "---  ------            --------------   -----  \n",
      " 0   Country           100000 non-null  object \n",
      " 1   Popularity        100000 non-null  float64\n",
      " 2   Title             100000 non-null  object \n",
      " 3   Artist            100000 non-null  object \n",
      " 4   Genre             100000 non-null  object \n",
      " 5   Artist_followers  99991 non-null   float64\n",
      " 6   Release_date      100000 non-null  object \n",
      " 7   danceability      100000 non-null  object \n",
      " 8   energy            100000 non-null  object \n",
      " 9   loudness          100000 non-null  object \n",
      " 10  tempo             100000 non-null  object \n",
      " 11  duration_ms       100000 non-null  object \n",
      "dtypes: float64(2), object(10)\n",
      "memory usage: 9.2+ MB\n"
     ]
    }
   ],
   "source": [
    "df.info()"
   ]
  },
  {
   "cell_type": "markdown",
   "metadata": {
    "id": "UkdsJgN1ikSI"
   },
   "source": [
    "### Changing the datatypes of the columns"
   ]
  },
  {
   "cell_type": "code",
   "execution_count": 10,
   "metadata": {
    "executionInfo": {
     "elapsed": 39,
     "status": "ok",
     "timestamp": 1673541671948,
     "user": {
      "displayName": "Ritu Singh",
      "userId": "11452320716915109322"
     },
     "user_tz": -330
    },
    "id": "qYyG2tT-YRe5"
   },
   "outputs": [],
   "source": [
    "df['Artist_followers'] = pd.to_numeric(df['Artist_followers'])\n",
    "df['duration_ms'] = pd.to_numeric(df['duration_ms'],errors='coerce')\n",
    "df['danceability'] = pd.to_numeric(df['danceability'],errors='coerce')\n",
    "df['energy'] = pd.to_numeric(df['energy'],errors='coerce')\n",
    "df['loudness'] = pd.to_numeric(df['loudness'],errors='coerce')\n",
    "df['Release_date'] = pd.to_datetime(df['Release_date'])"
   ]
  },
  {
   "cell_type": "code",
   "execution_count": 11,
   "metadata": {
    "colab": {
     "base_uri": "https://localhost:8080/"
    },
    "executionInfo": {
     "elapsed": 43,
     "status": "ok",
     "timestamp": 1673541671954,
     "user": {
      "displayName": "Ritu Singh",
      "userId": "11452320716915109322"
     },
     "user_tz": -330
    },
    "id": "-9HriODgS8UW",
    "outputId": "2c6f7d52-e592-4930-cfa6-f931df93475e"
   },
   "outputs": [
    {
     "data": {
      "text/plain": [
       "6"
      ]
     },
     "execution_count": 11,
     "metadata": {},
     "output_type": "execute_result"
    }
   ],
   "source": [
    "numerics = ['int16','int32','int64','float16','float32','float64']\n",
    "\n",
    "numeric_df= df.select_dtypes(include = numerics)\n",
    "\n",
    "len(numeric_df.columns)"
   ]
  },
  {
   "cell_type": "code",
   "execution_count": 12,
   "metadata": {
    "colab": {
     "base_uri": "https://localhost:8080/"
    },
    "executionInfo": {
     "elapsed": 46,
     "status": "ok",
     "timestamp": 1673541671961,
     "user": {
      "displayName": "Ritu Singh",
      "userId": "11452320716915109322"
     },
     "user_tz": -330
    },
    "id": "YibewGR-nbtX",
    "outputId": "47cc4415-5a7f-489b-c6e1-45e2966691b8"
   },
   "outputs": [
    {
     "name": "stdout",
     "output_type": "stream",
     "text": [
      "<class 'pandas.core.frame.DataFrame'>\n",
      "RangeIndex: 100000 entries, 0 to 99999\n",
      "Data columns (total 12 columns):\n",
      " #   Column            Non-Null Count   Dtype         \n",
      "---  ------            --------------   -----         \n",
      " 0   Country           100000 non-null  object        \n",
      " 1   Popularity        100000 non-null  float64       \n",
      " 2   Title             100000 non-null  object        \n",
      " 3   Artist            100000 non-null  object        \n",
      " 4   Genre             100000 non-null  object        \n",
      " 5   Artist_followers  99991 non-null   float64       \n",
      " 6   Release_date      100000 non-null  datetime64[ns]\n",
      " 7   danceability      99988 non-null   float64       \n",
      " 8   energy            99988 non-null   float64       \n",
      " 9   loudness          99988 non-null   float64       \n",
      " 10  tempo             100000 non-null  object        \n",
      " 11  duration_ms       99988 non-null   float64       \n",
      "dtypes: datetime64[ns](1), float64(6), object(5)\n",
      "memory usage: 9.2+ MB\n"
     ]
    }
   ],
   "source": [
    "df.info()"
   ]
  },
  {
   "cell_type": "markdown",
   "metadata": {
    "id": "sWcn1RF2jDJG"
   },
   "source": [
    "### Dealing with the missing values."
   ]
  },
  {
   "cell_type": "code",
   "execution_count": 13,
   "metadata": {
    "executionInfo": {
     "elapsed": 44,
     "status": "ok",
     "timestamp": 1673541671962,
     "user": {
      "displayName": "Ritu Singh",
      "userId": "11452320716915109322"
     },
     "user_tz": -330
    },
    "id": "HyJRW8yCjCR5"
   },
   "outputs": [],
   "source": [
    "followers=df.Artist_followers.mean()\n",
    "df['Artist_followers']=df.Artist_followers.fillna(followers)"
   ]
  },
  {
   "cell_type": "code",
   "execution_count": 14,
   "metadata": {
    "executionInfo": {
     "elapsed": 46,
     "status": "ok",
     "timestamp": 1673541671964,
     "user": {
      "displayName": "Ritu Singh",
      "userId": "11452320716915109322"
     },
     "user_tz": -330
    },
    "id": "K7D6wvnytmoS"
   },
   "outputs": [],
   "source": [
    "duration = df.duration_ms.mean()\n",
    "df['duration_ms'] = df.duration_ms.fillna(duration)   "
   ]
  },
  {
   "cell_type": "code",
   "execution_count": 15,
   "metadata": {
    "executionInfo": {
     "elapsed": 497,
     "status": "ok",
     "timestamp": 1673541672416,
     "user": {
      "displayName": "Ritu Singh",
      "userId": "11452320716915109322"
     },
     "user_tz": -330
    },
    "id": "Mi4Nodjxtm4B"
   },
   "outputs": [],
   "source": [
    "loud= df.loudness.mean()\n",
    "df['loudness'] = df.loudness.fillna(loud)  \n"
   ]
  },
  {
   "cell_type": "code",
   "execution_count": 16,
   "metadata": {
    "executionInfo": {
     "elapsed": 48,
     "status": "ok",
     "timestamp": 1673541672417,
     "user": {
      "displayName": "Ritu Singh",
      "userId": "11452320716915109322"
     },
     "user_tz": -330
    },
    "id": "Tj23hCr9tnHR"
   },
   "outputs": [],
   "source": [
    "Energy = df.energy.mean()\n",
    "df['energy']= df.energy.fillna(Energy)"
   ]
  },
  {
   "cell_type": "code",
   "execution_count": 17,
   "metadata": {
    "executionInfo": {
     "elapsed": 47,
     "status": "ok",
     "timestamp": 1673541672419,
     "user": {
      "displayName": "Ritu Singh",
      "userId": "11452320716915109322"
     },
     "user_tz": -330
    },
    "id": "b27bYHZ3tnYg"
   },
   "outputs": [],
   "source": [
    "dance= df.danceability.mean()\n",
    "df['danceability']= df.danceability.fillna(dance)"
   ]
  },
  {
   "cell_type": "code",
   "execution_count": 18,
   "metadata": {
    "colab": {
     "base_uri": "https://localhost:8080/"
    },
    "executionInfo": {
     "elapsed": 47,
     "status": "ok",
     "timestamp": 1673541672420,
     "user": {
      "displayName": "Ritu Singh",
      "userId": "11452320716915109322"
     },
     "user_tz": -330
    },
    "id": "J6VpjVCXssif",
    "outputId": "9b83f2c8-9736-4b92-ca0f-60b92a139321"
   },
   "outputs": [
    {
     "data": {
      "text/plain": [
       "Country             0\n",
       "Popularity          0\n",
       "Title               0\n",
       "Artist              0\n",
       "Genre               0\n",
       "Artist_followers    0\n",
       "Release_date        0\n",
       "danceability        0\n",
       "energy              0\n",
       "loudness            0\n",
       "tempo               0\n",
       "duration_ms         0\n",
       "dtype: int64"
      ]
     },
     "execution_count": 18,
     "metadata": {},
     "output_type": "execute_result"
    }
   ],
   "source": [
    "df.isna().sum()"
   ]
  },
  {
   "cell_type": "code",
   "execution_count": 19,
   "metadata": {
    "colab": {
     "base_uri": "https://localhost:8080/",
     "height": 300
    },
    "executionInfo": {
     "elapsed": 37,
     "status": "ok",
     "timestamp": 1673541672421,
     "user": {
      "displayName": "Ritu Singh",
      "userId": "11452320716915109322"
     },
     "user_tz": -330
    },
    "id": "oZrc3N7fS8Rz",
    "outputId": "9875a966-0bcb-4524-ebdb-07697b9dd0c4"
   },
   "outputs": [
    {
     "data": {
      "text/html": [
       "\n",
       "  <div id=\"df-62a5e40b-48ba-4687-9946-276cc48b9127\">\n",
       "    <div class=\"colab-df-container\">\n",
       "      <div>\n",
       "<style scoped>\n",
       "    .dataframe tbody tr th:only-of-type {\n",
       "        vertical-align: middle;\n",
       "    }\n",
       "\n",
       "    .dataframe tbody tr th {\n",
       "        vertical-align: top;\n",
       "    }\n",
       "\n",
       "    .dataframe thead th {\n",
       "        text-align: right;\n",
       "    }\n",
       "</style>\n",
       "<table border=\"1\" class=\"dataframe\">\n",
       "  <thead>\n",
       "    <tr style=\"text-align: right;\">\n",
       "      <th></th>\n",
       "      <th>Popularity</th>\n",
       "      <th>Artist_followers</th>\n",
       "      <th>danceability</th>\n",
       "      <th>energy</th>\n",
       "      <th>loudness</th>\n",
       "      <th>duration_ms</th>\n",
       "    </tr>\n",
       "  </thead>\n",
       "  <tbody>\n",
       "    <tr>\n",
       "      <th>count</th>\n",
       "      <td>100000.000000</td>\n",
       "      <td>1.000000e+05</td>\n",
       "      <td>100000.000000</td>\n",
       "      <td>100000.000000</td>\n",
       "      <td>100000.000000</td>\n",
       "      <td>100000.000000</td>\n",
       "    </tr>\n",
       "    <tr>\n",
       "      <th>mean</th>\n",
       "      <td>6569.895474</td>\n",
       "      <td>1.316799e+07</td>\n",
       "      <td>0.667467</td>\n",
       "      <td>0.638036</td>\n",
       "      <td>-6.413095</td>\n",
       "      <td>207988.973847</td>\n",
       "    </tr>\n",
       "    <tr>\n",
       "      <th>std</th>\n",
       "      <td>14514.355630</td>\n",
       "      <td>1.486155e+07</td>\n",
       "      <td>0.144358</td>\n",
       "      <td>0.172263</td>\n",
       "      <td>2.622268</td>\n",
       "      <td>48801.000164</td>\n",
       "    </tr>\n",
       "    <tr>\n",
       "      <th>min</th>\n",
       "      <td>0.800000</td>\n",
       "      <td>0.000000e+00</td>\n",
       "      <td>0.080700</td>\n",
       "      <td>0.005430</td>\n",
       "      <td>-34.475000</td>\n",
       "      <td>30133.000000</td>\n",
       "    </tr>\n",
       "    <tr>\n",
       "      <th>25%</th>\n",
       "      <td>96.900000</td>\n",
       "      <td>2.521509e+06</td>\n",
       "      <td>0.580000</td>\n",
       "      <td>0.534000</td>\n",
       "      <td>-7.513000</td>\n",
       "      <td>180953.000000</td>\n",
       "    </tr>\n",
       "    <tr>\n",
       "      <th>50%</th>\n",
       "      <td>706.125000</td>\n",
       "      <td>6.858400e+06</td>\n",
       "      <td>0.681000</td>\n",
       "      <td>0.656000</td>\n",
       "      <td>-5.943000</td>\n",
       "      <td>204564.000000</td>\n",
       "    </tr>\n",
       "    <tr>\n",
       "      <th>75%</th>\n",
       "      <td>5566.375000</td>\n",
       "      <td>1.870321e+07</td>\n",
       "      <td>0.769000</td>\n",
       "      <td>0.767000</td>\n",
       "      <td>-4.689000</td>\n",
       "      <td>229573.000000</td>\n",
       "    </tr>\n",
       "    <tr>\n",
       "      <th>max</th>\n",
       "      <td>233766.900000</td>\n",
       "      <td>7.178310e+07</td>\n",
       "      <td>0.980000</td>\n",
       "      <td>0.997000</td>\n",
       "      <td>1.585000</td>\n",
       "      <td>943529.000000</td>\n",
       "    </tr>\n",
       "  </tbody>\n",
       "</table>\n",
       "</div>\n",
       "      <button class=\"colab-df-convert\" onclick=\"convertToInteractive('df-62a5e40b-48ba-4687-9946-276cc48b9127')\"\n",
       "              title=\"Convert this dataframe to an interactive table.\"\n",
       "              style=\"display:none;\">\n",
       "        \n",
       "  <svg xmlns=\"http://www.w3.org/2000/svg\" height=\"24px\"viewBox=\"0 0 24 24\"\n",
       "       width=\"24px\">\n",
       "    <path d=\"M0 0h24v24H0V0z\" fill=\"none\"/>\n",
       "    <path d=\"M18.56 5.44l.94 2.06.94-2.06 2.06-.94-2.06-.94-.94-2.06-.94 2.06-2.06.94zm-11 1L8.5 8.5l.94-2.06 2.06-.94-2.06-.94L8.5 2.5l-.94 2.06-2.06.94zm10 10l.94 2.06.94-2.06 2.06-.94-2.06-.94-.94-2.06-.94 2.06-2.06.94z\"/><path d=\"M17.41 7.96l-1.37-1.37c-.4-.4-.92-.59-1.43-.59-.52 0-1.04.2-1.43.59L10.3 9.45l-7.72 7.72c-.78.78-.78 2.05 0 2.83L4 21.41c.39.39.9.59 1.41.59.51 0 1.02-.2 1.41-.59l7.78-7.78 2.81-2.81c.8-.78.8-2.07 0-2.86zM5.41 20L4 18.59l7.72-7.72 1.47 1.35L5.41 20z\"/>\n",
       "  </svg>\n",
       "      </button>\n",
       "      \n",
       "  <style>\n",
       "    .colab-df-container {\n",
       "      display:flex;\n",
       "      flex-wrap:wrap;\n",
       "      gap: 12px;\n",
       "    }\n",
       "\n",
       "    .colab-df-convert {\n",
       "      background-color: #E8F0FE;\n",
       "      border: none;\n",
       "      border-radius: 50%;\n",
       "      cursor: pointer;\n",
       "      display: none;\n",
       "      fill: #1967D2;\n",
       "      height: 32px;\n",
       "      padding: 0 0 0 0;\n",
       "      width: 32px;\n",
       "    }\n",
       "\n",
       "    .colab-df-convert:hover {\n",
       "      background-color: #E2EBFA;\n",
       "      box-shadow: 0px 1px 2px rgba(60, 64, 67, 0.3), 0px 1px 3px 1px rgba(60, 64, 67, 0.15);\n",
       "      fill: #174EA6;\n",
       "    }\n",
       "\n",
       "    [theme=dark] .colab-df-convert {\n",
       "      background-color: #3B4455;\n",
       "      fill: #D2E3FC;\n",
       "    }\n",
       "\n",
       "    [theme=dark] .colab-df-convert:hover {\n",
       "      background-color: #434B5C;\n",
       "      box-shadow: 0px 1px 3px 1px rgba(0, 0, 0, 0.15);\n",
       "      filter: drop-shadow(0px 1px 2px rgba(0, 0, 0, 0.3));\n",
       "      fill: #FFFFFF;\n",
       "    }\n",
       "  </style>\n",
       "\n",
       "      <script>\n",
       "        const buttonEl =\n",
       "          document.querySelector('#df-62a5e40b-48ba-4687-9946-276cc48b9127 button.colab-df-convert');\n",
       "        buttonEl.style.display =\n",
       "          google.colab.kernel.accessAllowed ? 'block' : 'none';\n",
       "\n",
       "        async function convertToInteractive(key) {\n",
       "          const element = document.querySelector('#df-62a5e40b-48ba-4687-9946-276cc48b9127');\n",
       "          const dataTable =\n",
       "            await google.colab.kernel.invokeFunction('convertToInteractive',\n",
       "                                                     [key], {});\n",
       "          if (!dataTable) return;\n",
       "\n",
       "          const docLinkHtml = 'Like what you see? Visit the ' +\n",
       "            '<a target=\"_blank\" href=https://colab.research.google.com/notebooks/data_table.ipynb>data table notebook</a>'\n",
       "            + ' to learn more about interactive tables.';\n",
       "          element.innerHTML = '';\n",
       "          dataTable['output_type'] = 'display_data';\n",
       "          await google.colab.output.renderOutput(dataTable, element);\n",
       "          const docLink = document.createElement('div');\n",
       "          docLink.innerHTML = docLinkHtml;\n",
       "          element.appendChild(docLink);\n",
       "        }\n",
       "      </script>\n",
       "    </div>\n",
       "  </div>\n",
       "  "
      ],
      "text/plain": [
       "          Popularity  Artist_followers   danceability         energy  \\\n",
       "count  100000.000000      1.000000e+05  100000.000000  100000.000000   \n",
       "mean     6569.895474      1.316799e+07       0.667467       0.638036   \n",
       "std     14514.355630      1.486155e+07       0.144358       0.172263   \n",
       "min         0.800000      0.000000e+00       0.080700       0.005430   \n",
       "25%        96.900000      2.521509e+06       0.580000       0.534000   \n",
       "50%       706.125000      6.858400e+06       0.681000       0.656000   \n",
       "75%      5566.375000      1.870321e+07       0.769000       0.767000   \n",
       "max    233766.900000      7.178310e+07       0.980000       0.997000   \n",
       "\n",
       "            loudness    duration_ms  \n",
       "count  100000.000000  100000.000000  \n",
       "mean       -6.413095  207988.973847  \n",
       "std         2.622268   48801.000164  \n",
       "min       -34.475000   30133.000000  \n",
       "25%        -7.513000  180953.000000  \n",
       "50%        -5.943000  204564.000000  \n",
       "75%        -4.689000  229573.000000  \n",
       "max         1.585000  943529.000000  "
      ]
     },
     "execution_count": 19,
     "metadata": {},
     "output_type": "execute_result"
    }
   ],
   "source": [
    "df.describe()"
   ]
  },
  {
   "cell_type": "markdown",
   "metadata": {
    "id": "IRAWX1eaUQle"
   },
   "source": [
    "## Exploratory Analysis and Visualization \n",
    "\n",
    " **Columns we'll analyze:**\n",
    "1.   Country\n",
    "2.   Popularity\n",
    "3.   Artist\n",
    "4.   Genre\n",
    "5.   Artist_followers\n",
    "6.   Release_date\n",
    "7.   danceability\n",
    "8.  energy\n",
    "9.  loudness\n",
    "10.  duration_ms\n",
    "\n"
   ]
  },
  {
   "cell_type": "code",
   "execution_count": 20,
   "metadata": {
    "executionInfo": {
     "elapsed": 1837,
     "status": "ok",
     "timestamp": 1673541674225,
     "user": {
      "displayName": "Ritu Singh",
      "userId": "11452320716915109322"
     },
     "user_tz": -330
    },
    "id": "O0jUs_mG3H-L"
   },
   "outputs": [],
   "source": [
    "# Some visuatisation tools we use in this project are --matplotlib --seaborn --plotly\n",
    "pd.options.plotting.backend = \"plotly\"\n",
    "import seaborn as sns\n",
    "sns.set_style('darkgrid')\n",
    "import matplotlib\n",
    "import matplotlib.pyplot as plt\n",
    "import folium \n",
    "import plotly.express as px\n",
    "%matplotlib inline"
   ]
  },
  {
   "cell_type": "markdown",
   "metadata": {
    "id": "tZrGfEb4Ud1A"
   },
   "source": [
    "### Country"
   ]
  },
  {
   "cell_type": "code",
   "execution_count": 21,
   "metadata": {
    "colab": {
     "base_uri": "https://localhost:8080/"
    },
    "executionInfo": {
     "elapsed": 16,
     "status": "ok",
     "timestamp": 1673541674226,
     "user": {
      "displayName": "Ritu Singh",
      "userId": "11452320716915109322"
     },
     "user_tz": -330
    },
    "id": "t9ztrLGIUR93",
    "outputId": "201c7f49-e20d-476e-e8ee-5f2183533f77"
   },
   "outputs": [
    {
     "data": {
      "text/plain": [
       "35"
      ]
     },
     "execution_count": 21,
     "metadata": {},
     "output_type": "execute_result"
    }
   ],
   "source": [
    "country = df.Country.unique()\n",
    "len(country)"
   ]
  },
  {
   "cell_type": "code",
   "execution_count": 22,
   "metadata": {
    "colab": {
     "base_uri": "https://localhost:8080/"
    },
    "executionInfo": {
     "elapsed": 13,
     "status": "ok",
     "timestamp": 1673541674227,
     "user": {
      "displayName": "Ritu Singh",
      "userId": "11452320716915109322"
     },
     "user_tz": -330
    },
    "id": "F-X9hmRGUSAK",
    "outputId": "cfafb728-d06a-41ed-9bb6-0cb85ee6f012"
   },
   "outputs": [
    {
     "data": {
      "text/plain": [
       "USA            6645\n",
       "UK             6540\n",
       "Global         5461\n",
       "Canada         5125\n",
       "Ireland        4767\n",
       "Switzerland    3786\n",
       "Portugal       3390\n",
       "Australia      3340\n",
       "Belgium        3339\n",
       "Norway         3193\n",
       "New Zealand    3121\n",
       "Austria        3007\n",
       "Sweden         2868\n",
       "Poland         2716\n",
       "Netherlands    2691\n",
       "Finland        2676\n",
       "Denmark        2652\n",
       "Germany        2608\n",
       "Taiwan         2479\n",
       "Singapore      2459\n",
       "Malaysia       2420\n",
       "Argentina      2222\n",
       "Costa Rica     2161\n",
       "Spain          2052\n",
       "Colombia       1815\n",
       "Italy          1807\n",
       "Philippines    1806\n",
       "France         1793\n",
       "Chile          1768\n",
       "Mexico         1738\n",
       "Ecuador        1681\n",
       "Peru           1625\n",
       "Indonesia      1532\n",
       "Brazil         1456\n",
       "Turkey         1261\n",
       "Name: Country, dtype: int64"
      ]
     },
     "execution_count": 22,
     "metadata": {},
     "output_type": "execute_result"
    }
   ],
   "source": [
    "countries = df.Country.value_counts()\n",
    "countries"
   ]
  },
  {
   "cell_type": "code",
   "execution_count": 44,
   "metadata": {
    "colab": {
     "base_uri": "https://localhost:8080/",
     "height": 542
    },
    "executionInfo": {
     "elapsed": 667,
     "status": "ok",
     "timestamp": 1673542959091,
     "user": {
      "displayName": "Ritu Singh",
      "userId": "11452320716915109322"
     },
     "user_tz": -330
    },
    "id": "vubntoG3USCt",
    "outputId": "a6879eda-aea5-499c-d15a-cd9bc049ce4d"
   },
   "outputs": [
    {
     "data": {
      "text/html": [
       "<html>\n",
       "<head><meta charset=\"utf-8\" /></head>\n",
       "<body>\n",
       "    <div>            <script src=\"https://cdnjs.cloudflare.com/ajax/libs/mathjax/2.7.5/MathJax.js?config=TeX-AMS-MML_SVG\"></script><script type=\"text/javascript\">if (window.MathJax) {MathJax.Hub.Config({SVG: {font: \"STIX-Web\"}});}</script>                <script type=\"text/javascript\">window.PlotlyConfig = {MathJaxConfig: 'local'};</script>\n",
       "        <script src=\"https://cdn.plot.ly/plotly-2.8.3.min.js\"></script>                <div id=\"3fa65c8a-511a-484b-b6f3-6037a3265992\" class=\"plotly-graph-div\" style=\"height:525px; width:100%;\"></div>            <script type=\"text/javascript\">                                    window.PLOTLYENV=window.PLOTLYENV || {};                                    if (document.getElementById(\"3fa65c8a-511a-484b-b6f3-6037a3265992\")) {                    Plotly.newPlot(                        \"3fa65c8a-511a-484b-b6f3-6037a3265992\",                        [{\"alignmentgroup\":\"True\",\"hovertemplate\":\"Country=%{marker.color}<br>index=%{y}<extra></extra>\",\"legendgroup\":\"\",\"marker\":{\"color\":[6645,6540,5461,5125,4767,3786,3390,3340,3339,3193,3121,3007,2868,2716,2691,2676,2652,2608,2479,2459,2420,2222,2161,2052,1815,1807,1806,1793,1768,1738,1681,1625,1532,1456,1261],\"coloraxis\":\"coloraxis\",\"pattern\":{\"shape\":\"\"}},\"name\":\"\",\"offsetgroup\":\"\",\"orientation\":\"h\",\"showlegend\":false,\"textposition\":\"auto\",\"x\":[6645,6540,5461,5125,4767,3786,3390,3340,3339,3193,3121,3007,2868,2716,2691,2676,2652,2608,2479,2459,2420,2222,2161,2052,1815,1807,1806,1793,1768,1738,1681,1625,1532,1456,1261],\"xaxis\":\"x\",\"y\":[\"USA\",\"UK\",\"Global\",\"Canada\",\"Ireland\",\"Switzerland\",\"Portugal\",\"Australia\",\"Belgium\",\"Norway\",\"New Zealand\",\"Austria\",\"Sweden\",\"Poland\",\"Netherlands\",\"Finland\",\"Denmark\",\"Germany\",\"Taiwan\",\"Singapore\",\"Malaysia\",\"Argentina\",\"Costa Rica\",\"Spain\",\"Colombia\",\"Italy\",\"Philippines\",\"France\",\"Chile\",\"Mexico\",\"Ecuador\",\"Peru\",\"Indonesia\",\"Brazil\",\"Turkey\"],\"yaxis\":\"y\",\"type\":\"bar\"}],                        {\"template\":{\"data\":{\"bar\":[{\"error_x\":{\"color\":\"#2a3f5f\"},\"error_y\":{\"color\":\"#2a3f5f\"},\"marker\":{\"line\":{\"color\":\"#E5ECF6\",\"width\":0.5},\"pattern\":{\"fillmode\":\"overlay\",\"size\":10,\"solidity\":0.2}},\"type\":\"bar\"}],\"barpolar\":[{\"marker\":{\"line\":{\"color\":\"#E5ECF6\",\"width\":0.5},\"pattern\":{\"fillmode\":\"overlay\",\"size\":10,\"solidity\":0.2}},\"type\":\"barpolar\"}],\"carpet\":[{\"aaxis\":{\"endlinecolor\":\"#2a3f5f\",\"gridcolor\":\"white\",\"linecolor\":\"white\",\"minorgridcolor\":\"white\",\"startlinecolor\":\"#2a3f5f\"},\"baxis\":{\"endlinecolor\":\"#2a3f5f\",\"gridcolor\":\"white\",\"linecolor\":\"white\",\"minorgridcolor\":\"white\",\"startlinecolor\":\"#2a3f5f\"},\"type\":\"carpet\"}],\"choropleth\":[{\"colorbar\":{\"outlinewidth\":0,\"ticks\":\"\"},\"type\":\"choropleth\"}],\"contour\":[{\"colorbar\":{\"outlinewidth\":0,\"ticks\":\"\"},\"colorscale\":[[0.0,\"#0d0887\"],[0.1111111111111111,\"#46039f\"],[0.2222222222222222,\"#7201a8\"],[0.3333333333333333,\"#9c179e\"],[0.4444444444444444,\"#bd3786\"],[0.5555555555555556,\"#d8576b\"],[0.6666666666666666,\"#ed7953\"],[0.7777777777777778,\"#fb9f3a\"],[0.8888888888888888,\"#fdca26\"],[1.0,\"#f0f921\"]],\"type\":\"contour\"}],\"contourcarpet\":[{\"colorbar\":{\"outlinewidth\":0,\"ticks\":\"\"},\"type\":\"contourcarpet\"}],\"heatmap\":[{\"colorbar\":{\"outlinewidth\":0,\"ticks\":\"\"},\"colorscale\":[[0.0,\"#0d0887\"],[0.1111111111111111,\"#46039f\"],[0.2222222222222222,\"#7201a8\"],[0.3333333333333333,\"#9c179e\"],[0.4444444444444444,\"#bd3786\"],[0.5555555555555556,\"#d8576b\"],[0.6666666666666666,\"#ed7953\"],[0.7777777777777778,\"#fb9f3a\"],[0.8888888888888888,\"#fdca26\"],[1.0,\"#f0f921\"]],\"type\":\"heatmap\"}],\"heatmapgl\":[{\"colorbar\":{\"outlinewidth\":0,\"ticks\":\"\"},\"colorscale\":[[0.0,\"#0d0887\"],[0.1111111111111111,\"#46039f\"],[0.2222222222222222,\"#7201a8\"],[0.3333333333333333,\"#9c179e\"],[0.4444444444444444,\"#bd3786\"],[0.5555555555555556,\"#d8576b\"],[0.6666666666666666,\"#ed7953\"],[0.7777777777777778,\"#fb9f3a\"],[0.8888888888888888,\"#fdca26\"],[1.0,\"#f0f921\"]],\"type\":\"heatmapgl\"}],\"histogram\":[{\"marker\":{\"pattern\":{\"fillmode\":\"overlay\",\"size\":10,\"solidity\":0.2}},\"type\":\"histogram\"}],\"histogram2d\":[{\"colorbar\":{\"outlinewidth\":0,\"ticks\":\"\"},\"colorscale\":[[0.0,\"#0d0887\"],[0.1111111111111111,\"#46039f\"],[0.2222222222222222,\"#7201a8\"],[0.3333333333333333,\"#9c179e\"],[0.4444444444444444,\"#bd3786\"],[0.5555555555555556,\"#d8576b\"],[0.6666666666666666,\"#ed7953\"],[0.7777777777777778,\"#fb9f3a\"],[0.8888888888888888,\"#fdca26\"],[1.0,\"#f0f921\"]],\"type\":\"histogram2d\"}],\"histogram2dcontour\":[{\"colorbar\":{\"outlinewidth\":0,\"ticks\":\"\"},\"colorscale\":[[0.0,\"#0d0887\"],[0.1111111111111111,\"#46039f\"],[0.2222222222222222,\"#7201a8\"],[0.3333333333333333,\"#9c179e\"],[0.4444444444444444,\"#bd3786\"],[0.5555555555555556,\"#d8576b\"],[0.6666666666666666,\"#ed7953\"],[0.7777777777777778,\"#fb9f3a\"],[0.8888888888888888,\"#fdca26\"],[1.0,\"#f0f921\"]],\"type\":\"histogram2dcontour\"}],\"mesh3d\":[{\"colorbar\":{\"outlinewidth\":0,\"ticks\":\"\"},\"type\":\"mesh3d\"}],\"parcoords\":[{\"line\":{\"colorbar\":{\"outlinewidth\":0,\"ticks\":\"\"}},\"type\":\"parcoords\"}],\"pie\":[{\"automargin\":true,\"type\":\"pie\"}],\"scatter\":[{\"marker\":{\"colorbar\":{\"outlinewidth\":0,\"ticks\":\"\"}},\"type\":\"scatter\"}],\"scatter3d\":[{\"line\":{\"colorbar\":{\"outlinewidth\":0,\"ticks\":\"\"}},\"marker\":{\"colorbar\":{\"outlinewidth\":0,\"ticks\":\"\"}},\"type\":\"scatter3d\"}],\"scattercarpet\":[{\"marker\":{\"colorbar\":{\"outlinewidth\":0,\"ticks\":\"\"}},\"type\":\"scattercarpet\"}],\"scattergeo\":[{\"marker\":{\"colorbar\":{\"outlinewidth\":0,\"ticks\":\"\"}},\"type\":\"scattergeo\"}],\"scattergl\":[{\"marker\":{\"colorbar\":{\"outlinewidth\":0,\"ticks\":\"\"}},\"type\":\"scattergl\"}],\"scattermapbox\":[{\"marker\":{\"colorbar\":{\"outlinewidth\":0,\"ticks\":\"\"}},\"type\":\"scattermapbox\"}],\"scatterpolar\":[{\"marker\":{\"colorbar\":{\"outlinewidth\":0,\"ticks\":\"\"}},\"type\":\"scatterpolar\"}],\"scatterpolargl\":[{\"marker\":{\"colorbar\":{\"outlinewidth\":0,\"ticks\":\"\"}},\"type\":\"scatterpolargl\"}],\"scatterternary\":[{\"marker\":{\"colorbar\":{\"outlinewidth\":0,\"ticks\":\"\"}},\"type\":\"scatterternary\"}],\"surface\":[{\"colorbar\":{\"outlinewidth\":0,\"ticks\":\"\"},\"colorscale\":[[0.0,\"#0d0887\"],[0.1111111111111111,\"#46039f\"],[0.2222222222222222,\"#7201a8\"],[0.3333333333333333,\"#9c179e\"],[0.4444444444444444,\"#bd3786\"],[0.5555555555555556,\"#d8576b\"],[0.6666666666666666,\"#ed7953\"],[0.7777777777777778,\"#fb9f3a\"],[0.8888888888888888,\"#fdca26\"],[1.0,\"#f0f921\"]],\"type\":\"surface\"}],\"table\":[{\"cells\":{\"fill\":{\"color\":\"#EBF0F8\"},\"line\":{\"color\":\"white\"}},\"header\":{\"fill\":{\"color\":\"#C8D4E3\"},\"line\":{\"color\":\"white\"}},\"type\":\"table\"}]},\"layout\":{\"annotationdefaults\":{\"arrowcolor\":\"#2a3f5f\",\"arrowhead\":0,\"arrowwidth\":1},\"autotypenumbers\":\"strict\",\"coloraxis\":{\"colorbar\":{\"outlinewidth\":0,\"ticks\":\"\"}},\"colorscale\":{\"diverging\":[[0,\"#8e0152\"],[0.1,\"#c51b7d\"],[0.2,\"#de77ae\"],[0.3,\"#f1b6da\"],[0.4,\"#fde0ef\"],[0.5,\"#f7f7f7\"],[0.6,\"#e6f5d0\"],[0.7,\"#b8e186\"],[0.8,\"#7fbc41\"],[0.9,\"#4d9221\"],[1,\"#276419\"]],\"sequential\":[[0.0,\"#0d0887\"],[0.1111111111111111,\"#46039f\"],[0.2222222222222222,\"#7201a8\"],[0.3333333333333333,\"#9c179e\"],[0.4444444444444444,\"#bd3786\"],[0.5555555555555556,\"#d8576b\"],[0.6666666666666666,\"#ed7953\"],[0.7777777777777778,\"#fb9f3a\"],[0.8888888888888888,\"#fdca26\"],[1.0,\"#f0f921\"]],\"sequentialminus\":[[0.0,\"#0d0887\"],[0.1111111111111111,\"#46039f\"],[0.2222222222222222,\"#7201a8\"],[0.3333333333333333,\"#9c179e\"],[0.4444444444444444,\"#bd3786\"],[0.5555555555555556,\"#d8576b\"],[0.6666666666666666,\"#ed7953\"],[0.7777777777777778,\"#fb9f3a\"],[0.8888888888888888,\"#fdca26\"],[1.0,\"#f0f921\"]]},\"colorway\":[\"#636efa\",\"#EF553B\",\"#00cc96\",\"#ab63fa\",\"#FFA15A\",\"#19d3f3\",\"#FF6692\",\"#B6E880\",\"#FF97FF\",\"#FECB52\"],\"font\":{\"color\":\"#2a3f5f\"},\"geo\":{\"bgcolor\":\"white\",\"lakecolor\":\"white\",\"landcolor\":\"#E5ECF6\",\"showlakes\":true,\"showland\":true,\"subunitcolor\":\"white\"},\"hoverlabel\":{\"align\":\"left\"},\"hovermode\":\"closest\",\"mapbox\":{\"style\":\"light\"},\"paper_bgcolor\":\"white\",\"plot_bgcolor\":\"#E5ECF6\",\"polar\":{\"angularaxis\":{\"gridcolor\":\"white\",\"linecolor\":\"white\",\"ticks\":\"\"},\"bgcolor\":\"#E5ECF6\",\"radialaxis\":{\"gridcolor\":\"white\",\"linecolor\":\"white\",\"ticks\":\"\"}},\"scene\":{\"xaxis\":{\"backgroundcolor\":\"#E5ECF6\",\"gridcolor\":\"white\",\"gridwidth\":2,\"linecolor\":\"white\",\"showbackground\":true,\"ticks\":\"\",\"zerolinecolor\":\"white\"},\"yaxis\":{\"backgroundcolor\":\"#E5ECF6\",\"gridcolor\":\"white\",\"gridwidth\":2,\"linecolor\":\"white\",\"showbackground\":true,\"ticks\":\"\",\"zerolinecolor\":\"white\"},\"zaxis\":{\"backgroundcolor\":\"#E5ECF6\",\"gridcolor\":\"white\",\"gridwidth\":2,\"linecolor\":\"white\",\"showbackground\":true,\"ticks\":\"\",\"zerolinecolor\":\"white\"}},\"shapedefaults\":{\"line\":{\"color\":\"#2a3f5f\"}},\"ternary\":{\"aaxis\":{\"gridcolor\":\"white\",\"linecolor\":\"white\",\"ticks\":\"\"},\"baxis\":{\"gridcolor\":\"white\",\"linecolor\":\"white\",\"ticks\":\"\"},\"bgcolor\":\"#E5ECF6\",\"caxis\":{\"gridcolor\":\"white\",\"linecolor\":\"white\",\"ticks\":\"\"}},\"title\":{\"x\":0.05},\"xaxis\":{\"automargin\":true,\"gridcolor\":\"white\",\"linecolor\":\"white\",\"ticks\":\"\",\"title\":{\"standoff\":15},\"zerolinecolor\":\"white\",\"zerolinewidth\":2},\"yaxis\":{\"automargin\":true,\"gridcolor\":\"white\",\"linecolor\":\"white\",\"ticks\":\"\",\"title\":{\"standoff\":15},\"zerolinecolor\":\"white\",\"zerolinewidth\":2}}},\"xaxis\":{\"anchor\":\"y\",\"domain\":[0.0,1.0],\"title\":{\"text\":\"Country\"}},\"yaxis\":{\"anchor\":\"x\",\"domain\":[0.0,1.0],\"title\":{\"text\":\"index\"}},\"coloraxis\":{\"colorbar\":{\"title\":{\"text\":\"Country\"}},\"colorscale\":[[0.0,\"#0d0887\"],[0.1111111111111111,\"#46039f\"],[0.2222222222222222,\"#7201a8\"],[0.3333333333333333,\"#9c179e\"],[0.4444444444444444,\"#bd3786\"],[0.5555555555555556,\"#d8576b\"],[0.6666666666666666,\"#ed7953\"],[0.7777777777777778,\"#fb9f3a\"],[0.8888888888888888,\"#fdca26\"],[1.0,\"#f0f921\"]]},\"legend\":{\"tracegroupgap\":0},\"title\":{\"text\":\"Global And 34 Countries Where Spotify Operates\"},\"barmode\":\"relative\"},                        {\"responsive\": true}                    ).then(function(){\n",
       "                            \n",
       "var gd = document.getElementById('3fa65c8a-511a-484b-b6f3-6037a3265992');\n",
       "var x = new MutationObserver(function (mutations, observer) {{\n",
       "        var display = window.getComputedStyle(gd).display;\n",
       "        if (!display || display === 'none') {{\n",
       "            console.log([gd, 'removed!']);\n",
       "            Plotly.purge(gd);\n",
       "            observer.disconnect();\n",
       "        }}\n",
       "}});\n",
       "\n",
       "// Listen for the removal of the full notebook cells\n",
       "var notebookContainer = gd.closest('#notebook-container');\n",
       "if (notebookContainer) {{\n",
       "    x.observe(notebookContainer, {childList: true});\n",
       "}}\n",
       "\n",
       "// Listen for the clearing of the current output cell\n",
       "var outputEl = gd.closest('.output');\n",
       "if (outputEl) {{\n",
       "    x.observe(outputEl, {childList: true});\n",
       "}}\n",
       "\n",
       "                        })                };                            </script>        </div>\n",
       "</body>\n",
       "</html>"
      ]
     },
     "metadata": {},
     "output_type": "display_data"
    }
   ],
   "source": [
    "countries.plot( x='Country',kind= 'barh' , color =\"Country\",title=\"Global And 34 Countries Where Spotify Operates\",\n",
    "               color_discrete_sequence=[\"#AF9500\", \"#B4B4B4\", \"#6A3805\"])"
   ]
  },
  {
   "cell_type": "markdown",
   "metadata": {
    "id": "yd0xh2RhU0hO"
   },
   "source": [
    "### Artist"
   ]
  },
  {
   "cell_type": "code",
   "execution_count": 24,
   "metadata": {
    "colab": {
     "base_uri": "https://localhost:8080/"
    },
    "executionInfo": {
     "elapsed": 56,
     "status": "ok",
     "timestamp": 1673541675828,
     "user": {
      "displayName": "Ritu Singh",
      "userId": "11452320716915109322"
     },
     "user_tz": -330
    },
    "id": "B69stiLgUSIb",
    "outputId": "929510f4-4b70-4370-bbc6-bf484d1007a3"
   },
   "outputs": [
    {
     "data": {
      "text/plain": [
       "5449"
      ]
     },
     "execution_count": 24,
     "metadata": {},
     "output_type": "execute_result"
    }
   ],
   "source": [
    "artist= df.Artist.unique()\n",
    "len(artist)"
   ]
  },
  {
   "cell_type": "code",
   "execution_count": 25,
   "metadata": {
    "colab": {
     "base_uri": "https://localhost:8080/"
    },
    "executionInfo": {
     "elapsed": 47,
     "status": "ok",
     "timestamp": 1673541675830,
     "user": {
      "displayName": "Ritu Singh",
      "userId": "11452320716915109322"
     },
     "user_tz": -330
    },
    "id": "6DiYrh1yUSK8",
    "outputId": "3e11aeeb-991e-4725-879e-3daf5a4ced72"
   },
   "outputs": [
    {
     "data": {
      "text/plain": [
       "Ariana Grande    1480\n",
       "Drake            1466\n",
       "Taylor Swift     1277\n",
       "BTS              1272\n",
       "XXXTENTACION      988\n",
       "The Weeknd        877\n",
       "Ed Sheeran        876\n",
       "Eminem            778\n",
       "Billie Eilish     773\n",
       "Post Malone       740\n",
       "Name: Artist, dtype: int64"
      ]
     },
     "execution_count": 25,
     "metadata": {},
     "output_type": "execute_result"
    }
   ],
   "source": [
    "artist = df.Artist.value_counts().head(10)\n",
    "artist"
   ]
  },
  {
   "cell_type": "code",
   "execution_count": 26,
   "metadata": {
    "colab": {
     "base_uri": "https://localhost:8080/",
     "height": 457
    },
    "executionInfo": {
     "elapsed": 42,
     "status": "ok",
     "timestamp": 1673541675831,
     "user": {
      "displayName": "Ritu Singh",
      "userId": "11452320716915109322"
     },
     "user_tz": -330
    },
    "id": "8wgnQRS8USOL",
    "outputId": "00dc6c9f-d998-4416-bb6b-79c7845e643a"
   },
   "outputs": [
    {
     "data": {
      "image/png": "[encoded data removed]",
      "text/plain": [
       "<Figure size 864x432 with 1 Axes>"
      ]
     },
     "metadata": {
      "needs_background": "light"
     },
     "output_type": "display_data"
    }
   ],
   "source": [
    "plt.figure(figsize=(12,6))\n",
    "plt.xticks(rotation=75)\n",
    "plt.title('Top 10 Artist on Spotify')\n",
    "plt.ylabel('Song')\n",
    "sns.barplot(x=artist.index , y= artist);\n"
   ]
  },
  {
   "cell_type": "markdown",
   "metadata": {
    "id": "o5Ej0edVsy07"
   },
   "source": [
    "### Title"
   ]
  },
  {
   "cell_type": "code",
   "execution_count": 27,
   "metadata": {
    "colab": {
     "base_uri": "https://localhost:8080/",
     "height": 542,
     "output_embedded_package_id": "1pq0V8R2cGWDzP8hJiNvGqy8rcoopLIt8"
    },
    "executionInfo": {
     "elapsed": 9532,
     "status": "ok",
     "timestamp": 1673541685325,
     "user": {
      "displayName": "Ritu Singh",
      "userId": "11452320716915109322"
     },
     "user_tz": -330
    },
    "id": "F0EUXJYAUSRs",
    "outputId": "5dcf2766-0914-4077-dd4e-b0e57dca331c"
   },
   "outputs": [
    {
     "data": {
      "text/plain": [
       "Output hidden; open in https://colab.research.google.com to view."
      ]
     },
     "metadata": {},
     "output_type": "display_data"
    }
   ],
   "source": [
    "fig=px.scatter(df, x = 'Popularity', y = 'Title', color = 'Popularity', size = 'Popularity', hover_data= ['Artist','Genre'])\n",
    "fig.update_layout(xaxis_title='Popularity',\n",
    "                  yaxis_title='Song name(Title)',\n",
    "                  title='Popular song By Artist',\n",
    "                  font_color='red',\n",
    "                  title_font_color='purple')\n",
    "fig.show()"
   ]
  },
  {
   "cell_type": "markdown",
   "metadata": {
    "id": "Ixp3fqQes4qM"
   },
   "source": [
    "### Artist Followers"
   ]
  },
  {
   "cell_type": "code",
   "execution_count": 28,
   "metadata": {
    "colab": {
     "base_uri": "https://localhost:8080/",
     "height": 542
    },
    "executionInfo": {
     "elapsed": 59,
     "status": "ok",
     "timestamp": 1673541685326,
     "user": {
      "displayName": "Ritu Singh",
      "userId": "11452320716915109322"
     },
     "user_tz": -330
    },
    "id": "xvH5D4StVWtJ",
    "outputId": "9a974774-b0b3-4611-9dc8-f1f8a2811c61"
   },
   "outputs": [
    {
     "data": {
      "text/html": [
       "<html>\n",
       "<head><meta charset=\"utf-8\" /></head>\n",
       "<body>\n",
       "    <div>            <script src=\"https://cdnjs.cloudflare.com/ajax/libs/mathjax/2.7.5/MathJax.js?config=TeX-AMS-MML_SVG\"></script><script type=\"text/javascript\">if (window.MathJax) {MathJax.Hub.Config({SVG: {font: \"STIX-Web\"}});}</script>                <script type=\"text/javascript\">window.PlotlyConfig = {MathJaxConfig: 'local'};</script>\n",
       "        <script src=\"https://cdn.plot.ly/plotly-2.8.3.min.js\"></script>                <div id=\"9f5e901d-f37f-4837-b028-a693bc88bdc6\" class=\"plotly-graph-div\" style=\"height:525px; width:100%;\"></div>            <script type=\"text/javascript\">                                    window.PLOTLYENV=window.PLOTLYENV || {};                                    if (document.getElementById(\"9f5e901d-f37f-4837-b028-a693bc88bdc6\")) {                    Plotly.newPlot(                        \"9f5e901d-f37f-4837-b028-a693bc88bdc6\",                        [{\"branchvalues\":\"total\",\"customdata\":[[\"Zay Hilfigerrr - Zayion McCall\"],[\"Yandel - Wisin\"],[\"Regard - RAYE\"],[\"Robin Schulz - David Guetta - Cheat Codes\"],[\"Sam Smith\"],[\"StaySolidRocky - Lil Uzi Vert\"],[\"Tame Impala\"],[\"Sabrina Carpenter\"],[\"The Chainsmokers - Louane\"],[\"Tom Petty and the Heartbreakers\"],[\"Trippie Redd\"],[\"Trippie Redd - Chris King - Quan'ta\"],[\"WOS\"],[\"XXXTENTACION\"],[\"The 1975\"],[\"Khalid - Summer Walker\"],[\"Camila Cabello\"],[\"Avicii - Agnes - Vargas & Lagola\"],[\"Linkin Park\"],[\"The Chainsmokers - Louane\"],[\"AC/DC\"],[\"Sam Smith\"],[\"Juice WRLD - Marshmello\"],[\"Halsey - Lauren Jauregui\"],[\"Foo Fighters\"],[\"Fifth Harmony\"],[\"Lana Del Rey\"],[\"Paulo Londra\"],[\"Panic! At The Disco\"],[\"Future\"],[\"Ellie Goulding\"],[\"Dua Lipa\"],[\"Pitbull - J Balvin - Camila Cabello\"],[\"Big Sean\"],[\"Halsey\"],[\"Calvin Harris - PARTYNEXTDOOR\"],[\"Bruno Mars\"],[\"BTS\"],[\"Post Malone - Nicki Minaj\"],[\"XXXTENTACION\"],[\"Linkin Park\"],[\"Logic - Damian Lemar Hudson\"],[\"Lil Yachty\"],[\"Gorillaz - De La Soul\"],[\"Trippie Redd - Chris King - Quan'ta\"],[\"Mc Livinho - Rennan da Penha\"],[\"Kesha\"],[\"Bushido - Samra - Capital Bra\"],[\"Calvin Harris - PARTYNEXTDOOR\"],[\"George Ezra\"],[\"Halsey\"],[\"Halsey - Lauren Jauregui\"],[\"Camila Cabello\"],[\"Gorillaz - De La Soul\"],[\"Bryson Tiller\"],[\"Boney M.\"],[\"Black Eyed Peas - Ozuna - J. Rey Soul\"],[\"Big Sean\"],[\"Douglas & Vinicius - MC Bruninho\"],[\"Drake\"],[\"Dua Lipa\"],[\"Ellie Goulding\"],[\"Famous Dex\"],[\"Fifth Harmony\"],[\"Florence + The Machine\"],[\"Foo Fighters\"],[\"Future\"],[\"Headie One - Drake\"],[\"Bruno Mars\"],[\"Capital Bra - Samra\"],[\"Chance the Rapper - Death Cab for Cutie\"],[\"PNL\"],[\"NLE Choppa - Roddy Ricch\"],[\"M\\u00d8\"],[\"Mc Livinho - Rennan da Penha\"],[\"Marracash - Gu\\u00e8 Pequeno\"],[\"MERO\"],[\"Luke Combs - Amanda Shires\"],[\"Loud Luxury - Brando\"],[\"Logic - Gucci Mane\"],[\"Sam Smith\"],[\"Trippie Redd\"],[\"A Boogie Wit da Hoodie - Juice WRLD\"],[\"Lil Skies - Landon Cube\"],[\"StaySolidRocky - Lil Uzi Vert\"],[\"Capital Bra - Samra\"],[\"Zay Hilfigerrr - Zayion McCall\"],[\"BTS\"],[\"Marracash - Gu\\u00e8 Pequeno\"],[\"Trippie Redd - Chris King - Quan'ta\"],[\"Yandel - Wisin\"],[\"NLE Choppa - Roddy Ricch\"],[\"Bryson Tiller\"],[\"Headie One - Drake\"],[\"ROSAL\\u00cdA\"],[\"Douglas & Vinicius - MC Bruninho\"],[\"Headie One - Drake\"],[\"Douglas & Vinicius - MC Bruninho\"],[\"Zay Hilfigerrr - Zayion McCall\"],[\"Regard - RAYE\"],[\"StaySolidRocky - Lil Uzi Vert\"],[\"The 1975\"],[\"Halsey - Lauren Jauregui\"],[\"MERO\"],[\"PNL\"],[\"George Ezra\"],[\"XXXTENTACION\"],[\"Lil Xan\"],[\"Regard - RAYE\"],[\"Post Malone - Nicki Minaj\"],[\"The Chainsmokers - Louane\"],[\"Big Sean\"],[\"Bushido - Samra - Capital Bra\"],[\"Ariana Grande\"],[\"Bruno Mars\"],[\"Calvin Harris - PARTYNEXTDOOR\"],[\"Boney M.\"],[\"Halsey\"],[\"Camila Cabello\"],[\"Dua Lipa\"],[\"Fifth Harmony\"],[\"Pitbull - J Balvin - Camila Cabello\"],[\"Paulo Londra\"],[\"Panic! At The Disco\"],[\"Pabllo Vittar - Charli XCX\"],[\"Lana Del Rey\"],[\"Khalid - Summer Walker\"],[\"Kesha\"],[\"Juice WRLD - Marshmello\"],[\"Joji\"],[\"Lil Yachty\"],[\"Lil Xan\"],[\"Lil Baby - Gunna\"],[\"Lil Baby\"],[\"Justin Bieber\"],[\"Lil Skies - Landon Cube\"],[\"Loud Luxury - Brando\"],[\"Robin Schulz - David Guetta - Cheat Codes\"],[\"Boney M.\"],[\"Pabllo Vittar - Charli XCX\"],[\"Sabrina Carpenter\"],[\"George Ezra\"],[\"PNL\"],[\"Joji\"],[\"Capital Bra - Samra\"],[\"Luke Combs - Amanda Shires\"],[\"ROSAL\\u00cdA\"],[\"Ava Max\"],[\"Bryson Tiller\"],[\"Tame Impala\"],[\"The 1975\"],[\"Pop Smoke - Rowdy Rebel\"],[\"NLE Choppa - Roddy Ricch\"],[\"Lil Xan\"],[\"Famous Dex\"],[\"MERO\"],[\"Tom Petty and the Heartbreakers\"],[\"WOS\"],[\"M\\u00d8\"],[\"Marracash - Gu\\u00e8 Pequeno\"],[\"Quavo\"],[\"Bushido - Samra - Capital Bra\"],[\"Pop Smoke - Rowdy Rebel\"],[\"Post Malone - Nicki Minaj\"],[\"Quavo\"],[\"ROSAL\\u00cdA\"],[\"A Boogie Wit da Hoodie - Juice WRLD\"],[\"Yandel - Wisin\"],[\"Black Eyed Peas - Ozuna - J. Rey Soul\"],[\"Logic - Damian Lemar Hudson\"],[\"Logic - Gucci Mane\"],[\"Chance the Rapper - Death Cab for Cutie\"],[\"Florence + The Machine\"],[\"Lil Baby\"],[\"Lil Baby - Gunna\"],[\"Trippie Redd\"],[\"Lil Skies - Landon Cube\"],[\"Florence + The Machine\"],[\"Lana Del Rey\"],[\"Quavo\"],[\"Lil Baby\"],[\"Lil Baby - Gunna\"],[\"Lil Yachty\"],[\"Future\"],[\"WOS\"],[\"Tom Petty and the Heartbreakers\"],[\"Paulo Londra\"],[\"Khalid - Summer Walker\"],[\"Joji\"],[\"Linkin Park\"],[\"Foo Fighters\"],[\"Gorillaz - De La Soul\"],[\"AC/DC\"],[\"Tame Impala\"],[\"Panic! At The Disco\"],[\"Avicii - Agnes - Vargas & Lagola\"],[\"Mc Livinho - Rennan da Penha\"],[\"Pop Smoke - Rowdy Rebel\"],[\"Drake\"],[\"Justin Bieber\"],[\"Luke Combs - Amanda Shires\"],[\"Chance the Rapper - Death Cab for Cutie\"],[\"Ellie Goulding\"],[\"Pitbull - J Balvin - Camila Cabello\"],[\"Kesha\"],[\"Famous Dex\"],[\"Sabrina Carpenter\"],[\"Pabllo Vittar - Charli XCX\"],[\"Robin Schulz - David Guetta - Cheat Codes\"],[\"Black Eyed Peas - Ozuna - J. Rey Soul\"],[\"M\\u00d8\"],[\"Loud Luxury - Brando\"],[\"Logic - Gucci Mane\"],[\"Logic - Damian Lemar Hudson\"],[\"Juice WRLD - Marshmello\"],[\"Ava Max\"],[\"BTS\"],[\"Justin Bieber\"],[\"Drake\"],[\"Ariana Grande\"],[\"A Boogie Wit da Hoodie - Juice WRLD\"],[\"AC/DC\"],[\"Ariana Grande\"],[\"Ava Max\"],[\"Avicii - Agnes - Vargas & Lagola\"]],\"domain\":{\"x\":[0.0,1.0],\"y\":[0.0,1.0]},\"hovertemplate\":\"labels=%{label}<br>Artist_followers=%{value}<br>parent=%{parent}<br>id=%{id}<br>Artist=%{customdata[0]}<extra></extra>\",\"ids\":[\"Zay Hilfigerrr - Zayion McCall\",\"Yandel - Wisin\",\"Regard - RAYE\",\"Robin Schulz - David Guetta - Cheat Codes\",\"Sam Smith\",\"StaySolidRocky - Lil Uzi Vert\",\"Tame Impala\",\"Sabrina Carpenter\",\"The Chainsmokers - Louane\",\"Tom Petty and the Heartbreakers\",\"Trippie Redd\",\"Trippie Redd - Chris King - Quan'ta\",\"WOS\",\"XXXTENTACION\",\"The 1975\",\"Khalid - Summer Walker/12829933.0\",\"Camila Cabello/18673543.0\",\"Avicii - Agnes - Vargas & Lagola/18439913.0\",\"Linkin Park/17132813.0\",\"The Chainsmokers - Louane/16931568.0\",\"AC/DC/16711265.0\",\"Sam Smith/14303985.0\",\"Juice WRLD - Marshmello/13266070.0\",\"Halsey - Lauren Jauregui/12622150.0\",\"Foo Fighters/8092392.0\",\"Fifth Harmony/11577693.0\",\"Lana Del Rey/11440791.0\",\"Paulo Londra/11427104.0\",\"Panic! At The Disco/10097733.0\",\"Future/9442830.0\",\"Ellie Goulding/8604850.0\",\"Dua Lipa/20575026.0\",\"Pitbull - J Balvin - Camila Cabello/7998617.0\",\"Big Sean/7838718.0\",\"Halsey/12622150.0\",\"Calvin Harris - PARTYNEXTDOOR/20814678.0\",\"Bruno Mars/27355260.0\",\"BTS/24755789.0\",\"Post Malone - Nicki Minaj/29173640.0\",\"XXXTENTACION/22910410.0\",\"Linkin Park\",\"Logic - Damian Lemar Hudson\",\"Lil Yachty/6648019.0\",\"Gorillaz - De La Soul/6111598.0\",\"Trippie Redd - Chris King - Quan'ta/5502398.0\",\"Mc Livinho - Rennan da Penha/5801264.0\",\"Kesha/5910376.0\",\"Bushido - Samra - Capital Bra\",\"Calvin Harris - PARTYNEXTDOOR\",\"George Ezra\",\"Halsey\",\"Halsey - Lauren Jauregui\",\"Camila Cabello\",\"Gorillaz - De La Soul\",\"Bryson Tiller\",\"Boney M.\",\"Black Eyed Peas - Ozuna - J. Rey Soul\",\"Big Sean\",\"Douglas & Vinicius - MC Bruninho\",\"Drake\",\"Dua Lipa\",\"Ellie Goulding\",\"Famous Dex\",\"Fifth Harmony\",\"Florence + The Machine\",\"Foo Fighters\",\"Future\",\"Headie One - Drake\",\"Bruno Mars\",\"Capital Bra - Samra\",\"Chance the Rapper - Death Cab for Cutie\",\"PNL\",\"NLE Choppa - Roddy Ricch\",\"M\\u00d8\",\"Mc Livinho - Rennan da Penha\",\"Marracash - Gu\\u00e8 Pequeno\",\"MERO\",\"Luke Combs - Amanda Shires\",\"Loud Luxury - Brando\",\"Logic - Gucci Mane\",\"Sam Smith/14303985.0/pop\",\"Trippie Redd/5502398.0/melodic rap\",\"A Boogie Wit da Hoodie - Juice WRLD/5184928.0/melodic rap\",\"Lil Skies - Landon Cube/4514676.0/melodic rap\",\"StaySolidRocky - Lil Uzi Vert/106823.0/melodic rap\",\"Capital Bra - Samra/3722987.0/german hip hop\",\"Zay Hilfigerrr - Zayion McCall/62634.0/n-a\",\"BTS/24755789.0/k-pop\",\"Marracash - Gu\\u00e8 Pequeno/1185600.0/italian hip hop\",\"Trippie Redd - Chris King - Quan'ta/5502398.0/melodic rap\",\"Yandel - Wisin/4585050.0/latin\",\"NLE Choppa - Roddy Ricch/2371258.0/memphis hip hop\",\"Bryson Tiller/4447390.0/kentucky hip hop\",\"Headie One - Drake/220967.0\",\"ROSAL\\u00cdA/4214973.0/r&b en espanol\",\"Douglas & Vinicius - MC Bruninho/20857.0/sertanejo pop\",\"Headie One - Drake/220967.0/uk hip hop\",\"Douglas & Vinicius - MC Bruninho/20857.0\",\"Zay Hilfigerrr - Zayion McCall/62634.0\",\"Regard - RAYE/105987.0\",\"StaySolidRocky - Lil Uzi Vert/106823.0\",\"The 1975/4472646.0/modern alternative rock\",\"Halsey - Lauren Jauregui/12622150.0/dance pop\",\"MERO/1640962.0/german hip hop\",\"PNL/3410199.0/french hip hop\",\"George Ezra/3283528.0/folk-pop\",\"XXXTENTACION/22910410.0/emo rap\",\"Lil Xan/2094628.0/emo rap\",\"Regard - RAYE/105987.0/edm\",\"Post Malone - Nicki Minaj/29173640.0/dfw rap\",\"The Chainsmokers - Louane/16931568.0/dance pop\",\"Big Sean/7838718.0/detroit hip hop\",\"Bushido - Samra - Capital Bra/1043446.0/deep german hip hop\",\"Ariana Grande/52571724.0/dance pop\",\"Bruno Mars/27355260.0/dance pop\",\"Calvin Harris - PARTYNEXTDOOR/20814678.0/dance pop\",\"Boney M./789976.0/disco\",\"Halsey/12622150.0/dance pop\",\"Camila Cabello/18673543.0/dance pop\",\"Dua Lipa/20575026.0/dance pop\",\"Fifth Harmony/11577693.0/dance pop\",\"Pitbull - J Balvin - Camila Cabello\",\"Paulo Londra\",\"Panic! At The Disco\",\"Pabllo Vittar - Charli XCX\",\"Lana Del Rey\",\"Khalid - Summer Walker\",\"Kesha\",\"Juice WRLD - Marshmello\",\"Joji\",\"Lil Yachty\",\"Lil Xan\",\"Lil Baby - Gunna\",\"Lil Baby\",\"Justin Bieber\",\"Lil Skies - Landon Cube\",\"Loud Luxury - Brando/380664.0\",\"Robin Schulz - David Guetta - Cheat Codes/2531210.0\",\"Boney M./789976.0\",\"Pabllo Vittar - Charli XCX/3002518.0\",\"Sabrina Carpenter/3088219.0\",\"George Ezra/3283528.0\",\"PNL/3410199.0\",\"Joji/3586162.0\",\"Capital Bra - Samra/3722987.0\",\"Luke Combs - Amanda Shires/3747160.0\",\"ROSAL\\u00cdA/4214973.0\",\"Ava Max/2457248.0\",\"Bryson Tiller/4447390.0\",\"Tame Impala/4300741.0\",\"The 1975/4472646.0\",\"Pop Smoke - Rowdy Rebel/2441830.0\",\"NLE Choppa - Roddy Ricch/2371258.0\",\"Lil Xan/2094628.0\",\"Famous Dex/2039736.0\",\"MERO/1640962.0\",\"Tom Petty and the Heartbreakers/1575881.0\",\"WOS/1559159.0\",\"M\\u00d8/1283811.0\",\"Marracash - Gu\\u00e8 Pequeno/1185600.0\",\"Quavo/4454166.0\",\"Bushido - Samra - Capital Bra/1043446.0\",\"Pop Smoke - Rowdy Rebel\",\"Post Malone - Nicki Minaj\",\"Quavo\",\"ROSAL\\u00cdA\",\"A Boogie Wit da Hoodie - Juice WRLD/5184928.0\",\"Yandel - Wisin/4585050.0\",\"Black Eyed Peas - Ozuna - J. Rey Soul/4907118.0\",\"Logic - Damian Lemar Hudson/5004777.0\",\"Logic - Gucci Mane/5004777.0\",\"Chance the Rapper - Death Cab for Cutie/5045736.0\",\"Florence + The Machine/5344593.0\",\"Lil Baby/5372519.0\",\"Lil Baby - Gunna/5372519.0\",\"Trippie Redd/5502398.0\",\"Lil Skies - Landon Cube/4514676.0\",\"Florence + The Machine/5344593.0/art pop\",\"Lana Del Rey/11440791.0/art pop\",\"Quavo/4454166.0/atl hip hop\",\"Lil Baby/5372519.0/atl hip hop\",\"Lil Baby - Gunna/5372519.0/atl hip hop\",\"Lil Yachty/6648019.0/atl hip hop\",\"Future/9442830.0/atl hip hop\",\"WOS/1559159.0/argentine indie\",\"Tom Petty and the Heartbreakers/1575881.0/album rock\",\"Paulo Londra/11427104.0/argentine hip hop\",\"Khalid - Summer Walker/12829933.0/alternative r&b\",\"Joji/3586162.0/alternative r&b\",\"Linkin Park/17132813.0/alternative metal\",\"Foo Fighters/8092392.0/alternative metal\",\"Gorillaz - De La Soul/6111598.0/alternative hip hop\",\"AC/DC/16711265.0/album rock\",\"Tame Impala/4300741.0/australian psych\",\"Panic! At The Disco/10097733.0/baroque pop\",\"Avicii - Agnes - Vargas & Lagola/18439913.0/big room\",\"Mc Livinho - Rennan da Penha/5801264.0/brazilian edm\",\"Pop Smoke - Rowdy Rebel/2441830.0/brooklyn drill\",\"Drake/50593376.0/canadian hip hop\",\"Justin Bieber/39214943.0/canadian pop\",\"Luke Combs - Amanda Shires/3747160.0/contemporary country\",\"Chance the Rapper - Death Cab for Cutie/5045736.0/chicago rap\",\"Ellie Goulding/8604850.0/dance pop\",\"Pitbull - J Balvin - Camila Cabello/7998617.0/dance pop\",\"Kesha/5910376.0/dance pop\",\"Famous Dex/2039736.0/chicago rap\",\"Sabrina Carpenter/3088219.0/dance pop\",\"Pabllo Vittar - Charli XCX/3002518.0/dance pop\",\"Robin Schulz - David Guetta - Cheat Codes/2531210.0/dance pop\",\"Black Eyed Peas - Ozuna - J. Rey Soul/4907118.0/dance pop\",\"M\\u00d8/1283811.0/dance pop\",\"Loud Luxury - Brando/380664.0/dance pop\",\"Logic - Gucci Mane/5004777.0/conscious hip hop\",\"Logic - Damian Lemar Hudson/5004777.0/conscious hip hop\",\"Juice WRLD - Marshmello/13266070.0/chicago rap\",\"Ava Max/2457248.0/dance pop\",\"BTS\",\"Justin Bieber/39214943.0\",\"Drake/50593376.0\",\"Ariana Grande/52571724.0\",\"A Boogie Wit da Hoodie - Juice WRLD\",\"AC/DC\",\"Ariana Grande\",\"Ava Max\",\"Avicii - Agnes - Vargas & Lagola\"],\"labels\":[\"Zay Hilfigerrr - Zayion McCall\",\"Yandel - Wisin\",\"Regard - RAYE\",\"Robin Schulz - David Guetta - Cheat Codes\",\"Sam Smith\",\"StaySolidRocky - Lil Uzi Vert\",\"Tame Impala\",\"Sabrina Carpenter\",\"The Chainsmokers - Louane\",\"Tom Petty and the Heartbreakers\",\"Trippie Redd\",\"Trippie Redd - Chris King - Quan'ta\",\"WOS\",\"XXXTENTACION\",\"The 1975\",\"12829933.0\",\"18673543.0\",\"18439913.0\",\"17132813.0\",\"16931568.0\",\"16711265.0\",\"14303985.0\",\"13266070.0\",\"12622150.0\",\"8092392.0\",\"11577693.0\",\"11440791.0\",\"11427104.0\",\"10097733.0\",\"9442830.0\",\"8604850.0\",\"20575026.0\",\"7998617.0\",\"7838718.0\",\"12622150.0\",\"20814678.0\",\"27355260.0\",\"24755789.0\",\"29173640.0\",\"22910410.0\",\"Linkin Park\",\"Logic - Damian Lemar Hudson\",\"6648019.0\",\"6111598.0\",\"5502398.0\",\"5801264.0\",\"5910376.0\",\"Bushido - Samra - Capital Bra\",\"Calvin Harris - PARTYNEXTDOOR\",\"George Ezra\",\"Halsey\",\"Halsey - Lauren Jauregui\",\"Camila Cabello\",\"Gorillaz - De La Soul\",\"Bryson Tiller\",\"Boney M.\",\"Black Eyed Peas - Ozuna - J. Rey Soul\",\"Big Sean\",\"Douglas & Vinicius - MC Bruninho\",\"Drake\",\"Dua Lipa\",\"Ellie Goulding\",\"Famous Dex\",\"Fifth Harmony\",\"Florence + The Machine\",\"Foo Fighters\",\"Future\",\"Headie One - Drake\",\"Bruno Mars\",\"Capital Bra - Samra\",\"Chance the Rapper - Death Cab for Cutie\",\"PNL\",\"NLE Choppa - Roddy Ricch\",\"M\\u00d8\",\"Mc Livinho - Rennan da Penha\",\"Marracash - Gu\\u00e8 Pequeno\",\"MERO\",\"Luke Combs - Amanda Shires\",\"Loud Luxury - Brando\",\"Logic - Gucci Mane\",\"pop\",\"melodic rap\",\"melodic rap\",\"melodic rap\",\"melodic rap\",\"german hip hop\",\"n-a\",\"k-pop\",\"italian hip hop\",\"melodic rap\",\"latin\",\"memphis hip hop\",\"kentucky hip hop\",\"220967.0\",\"r&b en espanol\",\"sertanejo pop\",\"uk hip hop\",\"20857.0\",\"62634.0\",\"105987.0\",\"106823.0\",\"modern alternative rock\",\"dance pop\",\"german hip hop\",\"french hip hop\",\"folk-pop\",\"emo rap\",\"emo rap\",\"edm\",\"dfw rap\",\"dance pop\",\"detroit hip hop\",\"deep german hip hop\",\"dance pop\",\"dance pop\",\"dance pop\",\"disco\",\"dance pop\",\"dance pop\",\"dance pop\",\"dance pop\",\"Pitbull - J Balvin - Camila Cabello\",\"Paulo Londra\",\"Panic! At The Disco\",\"Pabllo Vittar - Charli XCX\",\"Lana Del Rey\",\"Khalid - Summer Walker\",\"Kesha\",\"Juice WRLD - Marshmello\",\"Joji\",\"Lil Yachty\",\"Lil Xan\",\"Lil Baby - Gunna\",\"Lil Baby\",\"Justin Bieber\",\"Lil Skies - Landon Cube\",\"380664.0\",\"2531210.0\",\"789976.0\",\"3002518.0\",\"3088219.0\",\"3283528.0\",\"3410199.0\",\"3586162.0\",\"3722987.0\",\"3747160.0\",\"4214973.0\",\"2457248.0\",\"4447390.0\",\"4300741.0\",\"4472646.0\",\"2441830.0\",\"2371258.0\",\"2094628.0\",\"2039736.0\",\"1640962.0\",\"1575881.0\",\"1559159.0\",\"1283811.0\",\"1185600.0\",\"4454166.0\",\"1043446.0\",\"Pop Smoke - Rowdy Rebel\",\"Post Malone - Nicki Minaj\",\"Quavo\",\"ROSAL\\u00cdA\",\"5184928.0\",\"4585050.0\",\"4907118.0\",\"5004777.0\",\"5004777.0\",\"5045736.0\",\"5344593.0\",\"5372519.0\",\"5372519.0\",\"5502398.0\",\"4514676.0\",\"art pop\",\"art pop\",\"atl hip hop\",\"atl hip hop\",\"atl hip hop\",\"atl hip hop\",\"atl hip hop\",\"argentine indie\",\"album rock\",\"argentine hip hop\",\"alternative r&b\",\"alternative r&b\",\"alternative metal\",\"alternative metal\",\"alternative hip hop\",\"album rock\",\"australian psych\",\"baroque pop\",\"big room\",\"brazilian edm\",\"brooklyn drill\",\"canadian hip hop\",\"canadian pop\",\"contemporary country\",\"chicago rap\",\"dance pop\",\"dance pop\",\"dance pop\",\"chicago rap\",\"dance pop\",\"dance pop\",\"dance pop\",\"dance pop\",\"dance pop\",\"dance pop\",\"conscious hip hop\",\"conscious hip hop\",\"chicago rap\",\"dance pop\",\"BTS\",\"39214943.0\",\"50593376.0\",\"52571724.0\",\"A Boogie Wit da Hoodie - Juice WRLD\",\"AC/DC\",\"Ariana Grande\",\"Ava Max\",\"Avicii - Agnes - Vargas & Lagola\"],\"marker\":{\"colors\":[\"#636efa\",\"#EF553B\",\"#00cc96\",\"#ab63fa\",\"#FFA15A\",\"#19d3f3\",\"#FF6692\",\"#B6E880\",\"#FF97FF\",\"#FECB52\",\"#636efa\",\"#EF553B\",\"#00cc96\",\"#ab63fa\",\"#FFA15A\",\"#19d3f3\",\"#FF6692\",\"#B6E880\",\"#FF97FF\",\"#FF97FF\",\"#FECB52\",\"#FFA15A\",\"#636efa\",\"#EF553B\",\"#00cc96\",\"#ab63fa\",\"#FFA15A\",\"#19d3f3\",\"#FF6692\",\"#B6E880\",\"#FF97FF\",\"#FECB52\",\"#636efa\",\"#EF553B\",\"#00cc96\",\"#ab63fa\",\"#FFA15A\",\"#19d3f3\",\"#FF6692\",\"#ab63fa\",\"#FF97FF\",\"#B6E880\",\"#FF97FF\",\"#FECB52\",\"#EF553B\",\"#636efa\",\"#EF553B\",\"#00cc96\",\"#ab63fa\",\"#ab63fa\",\"#00cc96\",\"#EF553B\",\"#FF6692\",\"#FECB52\",\"#FFA15A\",\"#19d3f3\",\"#FF6692\",\"#EF553B\",\"#B6E880\",\"#FF97FF\",\"#FECB52\",\"#FF97FF\",\"#FECB52\",\"#ab63fa\",\"#636efa\",\"#00cc96\",\"#B6E880\",\"#EF553B\",\"#FFA15A\",\"#00cc96\",\"#ab63fa\",\"#FFA15A\",\"#19d3f3\",\"#FF6692\",\"#636efa\",\"#B6E880\",\"#FF97FF\",\"#FECB52\",\"#636efa\",\"#EF553B\",\"#FFA15A\",\"#636efa\",\"#00cc96\",\"#ab63fa\",\"#19d3f3\",\"#00cc96\",\"#636efa\",\"#19d3f3\",\"#B6E880\",\"#EF553B\",\"#EF553B\",\"#19d3f3\",\"#FFA15A\",\"#EF553B\",\"#FFA15A\",\"#B6E880\",\"#EF553B\",\"#B6E880\",\"#636efa\",\"#00cc96\",\"#19d3f3\",\"#FFA15A\",\"#EF553B\",\"#FF97FF\",\"#FFA15A\",\"#ab63fa\",\"#ab63fa\",\"#19d3f3\",\"#00cc96\",\"#FF6692\",\"#FF97FF\",\"#EF553B\",\"#00cc96\",\"#FF6692\",\"#FFA15A\",\"#ab63fa\",\"#19d3f3\",\"#00cc96\",\"#FF6692\",\"#FECB52\",\"#ab63fa\",\"#636efa\",\"#19d3f3\",\"#FF6692\",\"#B6E880\",\"#FFA15A\",\"#19d3f3\",\"#EF553B\",\"#636efa\",\"#FF97FF\",\"#FF97FF\",\"#19d3f3\",\"#FECB52\",\"#636efa\",\"#EF553B\",\"#ab63fa\",\"#636efa\",\"#ab63fa\",\"#19d3f3\",\"#B6E880\",\"#B6E880\",\"#ab63fa\",\"#FFA15A\",\"#FF97FF\",\"#00cc96\",\"#FECB52\",\"#FFA15A\",\"#00cc96\",\"#FFA15A\",\"#FF6692\",\"#FFA15A\",\"#ab63fa\",\"#19d3f3\",\"#19d3f3\",\"#FECB52\",\"#FF97FF\",\"#FECB52\",\"#00cc96\",\"#FF6692\",\"#B6E880\",\"#FFA15A\",\"#00cc96\",\"#ab63fa\",\"#FF6692\",\"#FFA15A\",\"#FFA15A\",\"#00cc96\",\"#EF553B\",\"#FF6692\",\"#B6E880\",\"#EF553B\",\"#ab63fa\",\"#636efa\",\"#636efa\",\"#FECB52\",\"#636efa\",\"#ab63fa\",\"#636efa\",\"#FFA15A\",\"#FFA15A\",\"#636efa\",\"#FECB52\",\"#FF97FF\",\"#B6E880\",\"#00cc96\",\"#FECB52\",\"#19d3f3\",\"#19d3f3\",\"#FF97FF\",\"#FF97FF\",\"#00cc96\",\"#FECB52\",\"#FECB52\",\"#FF6692\",\"#FF6692\",\"#B6E880\",\"#636efa\",\"#ab63fa\",\"#FF97FF\",\"#EF553B\",\"#FECB52\",\"#ab63fa\",\"#FF97FF\",\"#636efa\",\"#EF553B\",\"#FECB52\",\"#B6E880\",\"#B6E880\",\"#ab63fa\",\"#FF6692\",\"#FF6692\",\"#636efa\",\"#EF553B\",\"#B6E880\",\"#636efa\",\"#00cc96\",\"#19d3f3\",\"#EF553B\",\"#FF97FF\",\"#FF6692\",\"#00cc96\",\"#FECB52\",\"#FF6692\",\"#00cc96\",\"#B6E880\"]},\"name\":\"\",\"parents\":[\"\",\"\",\"\",\"\",\"\",\"\",\"\",\"\",\"\",\"\",\"\",\"\",\"\",\"\",\"\",\"Khalid - Summer Walker\",\"Camila Cabello\",\"Avicii - Agnes - Vargas & Lagola\",\"Linkin Park\",\"The Chainsmokers - Louane\",\"AC/DC\",\"Sam Smith\",\"Juice WRLD - Marshmello\",\"Halsey - Lauren Jauregui\",\"Foo Fighters\",\"Fifth Harmony\",\"Lana Del Rey\",\"Paulo Londra\",\"Panic! At The Disco\",\"Future\",\"Ellie Goulding\",\"Dua Lipa\",\"Pitbull - J Balvin - Camila Cabello\",\"Big Sean\",\"Halsey\",\"Calvin Harris - PARTYNEXTDOOR\",\"Bruno Mars\",\"BTS\",\"Post Malone - Nicki Minaj\",\"XXXTENTACION\",\"\",\"\",\"Lil Yachty\",\"Gorillaz - De La Soul\",\"Trippie Redd - Chris King - Quan'ta\",\"Mc Livinho - Rennan da Penha\",\"Kesha\",\"\",\"\",\"\",\"\",\"\",\"\",\"\",\"\",\"\",\"\",\"\",\"\",\"\",\"\",\"\",\"\",\"\",\"\",\"\",\"\",\"\",\"\",\"\",\"\",\"\",\"\",\"\",\"\",\"\",\"\",\"\",\"\",\"\",\"Sam Smith/14303985.0\",\"Trippie Redd/5502398.0\",\"A Boogie Wit da Hoodie - Juice WRLD/5184928.0\",\"Lil Skies - Landon Cube/4514676.0\",\"StaySolidRocky - Lil Uzi Vert/106823.0\",\"Capital Bra - Samra/3722987.0\",\"Zay Hilfigerrr - Zayion McCall/62634.0\",\"BTS/24755789.0\",\"Marracash - Gu\\u00e8 Pequeno/1185600.0\",\"Trippie Redd - Chris King - Quan'ta/5502398.0\",\"Yandel - Wisin/4585050.0\",\"NLE Choppa - Roddy Ricch/2371258.0\",\"Bryson Tiller/4447390.0\",\"Headie One - Drake\",\"ROSAL\\u00cdA/4214973.0\",\"Douglas & Vinicius - MC Bruninho/20857.0\",\"Headie One - Drake/220967.0\",\"Douglas & Vinicius - MC Bruninho\",\"Zay Hilfigerrr - Zayion McCall\",\"Regard - RAYE\",\"StaySolidRocky - Lil Uzi Vert\",\"The 1975/4472646.0\",\"Halsey - Lauren Jauregui/12622150.0\",\"MERO/1640962.0\",\"PNL/3410199.0\",\"George Ezra/3283528.0\",\"XXXTENTACION/22910410.0\",\"Lil Xan/2094628.0\",\"Regard - RAYE/105987.0\",\"Post Malone - Nicki Minaj/29173640.0\",\"The Chainsmokers - Louane/16931568.0\",\"Big Sean/7838718.0\",\"Bushido - Samra - Capital Bra/1043446.0\",\"Ariana Grande/52571724.0\",\"Bruno Mars/27355260.0\",\"Calvin Harris - PARTYNEXTDOOR/20814678.0\",\"Boney M./789976.0\",\"Halsey/12622150.0\",\"Camila Cabello/18673543.0\",\"Dua Lipa/20575026.0\",\"Fifth Harmony/11577693.0\",\"\",\"\",\"\",\"\",\"\",\"\",\"\",\"\",\"\",\"\",\"\",\"\",\"\",\"\",\"\",\"Loud Luxury - Brando\",\"Robin Schulz - David Guetta - Cheat Codes\",\"Boney M.\",\"Pabllo Vittar - Charli XCX\",\"Sabrina Carpenter\",\"George Ezra\",\"PNL\",\"Joji\",\"Capital Bra - Samra\",\"Luke Combs - Amanda Shires\",\"ROSAL\\u00cdA\",\"Ava Max\",\"Bryson Tiller\",\"Tame Impala\",\"The 1975\",\"Pop Smoke - Rowdy Rebel\",\"NLE Choppa - Roddy Ricch\",\"Lil Xan\",\"Famous Dex\",\"MERO\",\"Tom Petty and the Heartbreakers\",\"WOS\",\"M\\u00d8\",\"Marracash - Gu\\u00e8 Pequeno\",\"Quavo\",\"Bushido - Samra - Capital Bra\",\"\",\"\",\"\",\"\",\"A Boogie Wit da Hoodie - Juice WRLD\",\"Yandel - Wisin\",\"Black Eyed Peas - Ozuna - J. Rey Soul\",\"Logic - Damian Lemar Hudson\",\"Logic - Gucci Mane\",\"Chance the Rapper - Death Cab for Cutie\",\"Florence + The Machine\",\"Lil Baby\",\"Lil Baby - Gunna\",\"Trippie Redd\",\"Lil Skies - Landon Cube\",\"Florence + The Machine/5344593.0\",\"Lana Del Rey/11440791.0\",\"Quavo/4454166.0\",\"Lil Baby/5372519.0\",\"Lil Baby - Gunna/5372519.0\",\"Lil Yachty/6648019.0\",\"Future/9442830.0\",\"WOS/1559159.0\",\"Tom Petty and the Heartbreakers/1575881.0\",\"Paulo Londra/11427104.0\",\"Khalid - Summer Walker/12829933.0\",\"Joji/3586162.0\",\"Linkin Park/17132813.0\",\"Foo Fighters/8092392.0\",\"Gorillaz - De La Soul/6111598.0\",\"AC/DC/16711265.0\",\"Tame Impala/4300741.0\",\"Panic! At The Disco/10097733.0\",\"Avicii - Agnes - Vargas & Lagola/18439913.0\",\"Mc Livinho - Rennan da Penha/5801264.0\",\"Pop Smoke - Rowdy Rebel/2441830.0\",\"Drake/50593376.0\",\"Justin Bieber/39214943.0\",\"Luke Combs - Amanda Shires/3747160.0\",\"Chance the Rapper - Death Cab for Cutie/5045736.0\",\"Ellie Goulding/8604850.0\",\"Pitbull - J Balvin - Camila Cabello/7998617.0\",\"Kesha/5910376.0\",\"Famous Dex/2039736.0\",\"Sabrina Carpenter/3088219.0\",\"Pabllo Vittar - Charli XCX/3002518.0\",\"Robin Schulz - David Guetta - Cheat Codes/2531210.0\",\"Black Eyed Peas - Ozuna - J. Rey Soul/4907118.0\",\"M\\u00d8/1283811.0\",\"Loud Luxury - Brando/380664.0\",\"Logic - Gucci Mane/5004777.0\",\"Logic - Damian Lemar Hudson/5004777.0\",\"Juice WRLD - Marshmello/13266070.0\",\"Ava Max/2457248.0\",\"\",\"Justin Bieber\",\"Drake\",\"Ariana Grande\",\"\",\"\",\"\",\"\",\"\"],\"values\":[1503216.0,45850500.0,1907766.0,88592350.0,801023160.0,1495522.0,21503705.0,67940818.0,389426064.0,15758810.0,11004796.0,11004796.0,14032431.0,710222710.0,35781168.0,102639464.0,392144403.0,331918434.0,445453138.0,389426064.0,384359095.0,801023160.0,198991050.0,63110750.0,178032624.0,115776930.0,80085537.0,182833664.0,70684131.0,28328490.0,206516400.0,699550884.0,215962659.0,23516154.0,164087950.0,478737594.0,683881500.0,495115780.0,700167360.0,710222710.0,445453138.0,20019108.0,19944057.0,85562372.0,11004796.0,17403792.0,112297144.0,4173784.0,478737594.0,52536448.0,164087950.0,63110750.0,392144403.0,85562372.0,13342170.0,11849640.0,9814236.0,23516154.0,41714.0,252966880.0,699550884.0,206516400.0,18357624.0,115776930.0,69479709.0,178032624.0,28328490.0,3977406.0,683881500.0,14891948.0,20182944.0,13640796.0,40311386.0,34662897.0,17403792.0,3556800.0,6563848.0,11241480.0,1522656.0,55052547.0,801023160.0,11004796.0,25924640.0,49661436.0,1495522.0,14891948.0,1503216.0,495115780.0,3556800.0,11004796.0,45850500.0,40311386.0,13342170.0,3977406.0,25289838.0,41714.0,3977406.0,41714.0,1503216.0,1907766.0,1495522.0,35781168.0,63110750.0,6563848.0,13640796.0,52536448.0,710222710.0,23040908.0,1907766.0,700167360.0,389426064.0,23516154.0,4173784.0,1840010340.0,683881500.0,478737594.0,11849640.0,164087950.0,392144403.0,699550884.0,115776930.0,215962659.0,182833664.0,70684131.0,9007554.0,80085537.0,102639464.0,112297144.0,198991050.0,32275458.0,19944057.0,23040908.0,21490076.0,21490076.0,980373575.0,49661436.0,1522656.0,88592350.0,11849640.0,9007554.0,67940818.0,52536448.0,13640796.0,32275458.0,14891948.0,11241480.0,25289838.0,29486976.0,13342170.0,21503705.0,35781168.0,39069280.0,40311386.0,23040908.0,18357624.0,6563848.0,15758810.0,14032431.0,34662897.0,3556800.0,22270830.0,4173784.0,39069280.0,700167360.0,22270830.0,25289838.0,25924640.0,45850500.0,9814236.0,20019108.0,55052547.0,20182944.0,69479709.0,21490076.0,21490076.0,11004796.0,49661436.0,69479709.0,80085537.0,22270830.0,21490076.0,21490076.0,19944057.0,28328490.0,14032431.0,15758810.0,182833664.0,102639464.0,32275458.0,445453138.0,178032624.0,85562372.0,384359095.0,21503705.0,70684131.0,331918434.0,17403792.0,39069280.0,252966880.0,980373575.0,11241480.0,20182944.0,206516400.0,215962659.0,112297144.0,18357624.0,67940818.0,9007554.0,88592350.0,9814236.0,34662897.0,1522656.0,55052547.0,20019108.0,198991050.0,29486976.0,495115780.0,980373575.0,252966880.0,1840010340.0,25924640.0,384359095.0,1840010340.0,29486976.0,331918434.0],\"type\":\"sunburst\"}],                        {\"template\":{\"data\":{\"bar\":[{\"error_x\":{\"color\":\"#2a3f5f\"},\"error_y\":{\"color\":\"#2a3f5f\"},\"marker\":{\"line\":{\"color\":\"#E5ECF6\",\"width\":0.5},\"pattern\":{\"fillmode\":\"overlay\",\"size\":10,\"solidity\":0.2}},\"type\":\"bar\"}],\"barpolar\":[{\"marker\":{\"line\":{\"color\":\"#E5ECF6\",\"width\":0.5},\"pattern\":{\"fillmode\":\"overlay\",\"size\":10,\"solidity\":0.2}},\"type\":\"barpolar\"}],\"carpet\":[{\"aaxis\":{\"endlinecolor\":\"#2a3f5f\",\"gridcolor\":\"white\",\"linecolor\":\"white\",\"minorgridcolor\":\"white\",\"startlinecolor\":\"#2a3f5f\"},\"baxis\":{\"endlinecolor\":\"#2a3f5f\",\"gridcolor\":\"white\",\"linecolor\":\"white\",\"minorgridcolor\":\"white\",\"startlinecolor\":\"#2a3f5f\"},\"type\":\"carpet\"}],\"choropleth\":[{\"colorbar\":{\"outlinewidth\":0,\"ticks\":\"\"},\"type\":\"choropleth\"}],\"contour\":[{\"colorbar\":{\"outlinewidth\":0,\"ticks\":\"\"},\"colorscale\":[[0.0,\"#0d0887\"],[0.1111111111111111,\"#46039f\"],[0.2222222222222222,\"#7201a8\"],[0.3333333333333333,\"#9c179e\"],[0.4444444444444444,\"#bd3786\"],[0.5555555555555556,\"#d8576b\"],[0.6666666666666666,\"#ed7953\"],[0.7777777777777778,\"#fb9f3a\"],[0.8888888888888888,\"#fdca26\"],[1.0,\"#f0f921\"]],\"type\":\"contour\"}],\"contourcarpet\":[{\"colorbar\":{\"outlinewidth\":0,\"ticks\":\"\"},\"type\":\"contourcarpet\"}],\"heatmap\":[{\"colorbar\":{\"outlinewidth\":0,\"ticks\":\"\"},\"colorscale\":[[0.0,\"#0d0887\"],[0.1111111111111111,\"#46039f\"],[0.2222222222222222,\"#7201a8\"],[0.3333333333333333,\"#9c179e\"],[0.4444444444444444,\"#bd3786\"],[0.5555555555555556,\"#d8576b\"],[0.6666666666666666,\"#ed7953\"],[0.7777777777777778,\"#fb9f3a\"],[0.8888888888888888,\"#fdca26\"],[1.0,\"#f0f921\"]],\"type\":\"heatmap\"}],\"heatmapgl\":[{\"colorbar\":{\"outlinewidth\":0,\"ticks\":\"\"},\"colorscale\":[[0.0,\"#0d0887\"],[0.1111111111111111,\"#46039f\"],[0.2222222222222222,\"#7201a8\"],[0.3333333333333333,\"#9c179e\"],[0.4444444444444444,\"#bd3786\"],[0.5555555555555556,\"#d8576b\"],[0.6666666666666666,\"#ed7953\"],[0.7777777777777778,\"#fb9f3a\"],[0.8888888888888888,\"#fdca26\"],[1.0,\"#f0f921\"]],\"type\":\"heatmapgl\"}],\"histogram\":[{\"marker\":{\"pattern\":{\"fillmode\":\"overlay\",\"size\":10,\"solidity\":0.2}},\"type\":\"histogram\"}],\"histogram2d\":[{\"colorbar\":{\"outlinewidth\":0,\"ticks\":\"\"},\"colorscale\":[[0.0,\"#0d0887\"],[0.1111111111111111,\"#46039f\"],[0.2222222222222222,\"#7201a8\"],[0.3333333333333333,\"#9c179e\"],[0.4444444444444444,\"#bd3786\"],[0.5555555555555556,\"#d8576b\"],[0.6666666666666666,\"#ed7953\"],[0.7777777777777778,\"#fb9f3a\"],[0.8888888888888888,\"#fdca26\"],[1.0,\"#f0f921\"]],\"type\":\"histogram2d\"}],\"histogram2dcontour\":[{\"colorbar\":{\"outlinewidth\":0,\"ticks\":\"\"},\"colorscale\":[[0.0,\"#0d0887\"],[0.1111111111111111,\"#46039f\"],[0.2222222222222222,\"#7201a8\"],[0.3333333333333333,\"#9c179e\"],[0.4444444444444444,\"#bd3786\"],[0.5555555555555556,\"#d8576b\"],[0.6666666666666666,\"#ed7953\"],[0.7777777777777778,\"#fb9f3a\"],[0.8888888888888888,\"#fdca26\"],[1.0,\"#f0f921\"]],\"type\":\"histogram2dcontour\"}],\"mesh3d\":[{\"colorbar\":{\"outlinewidth\":0,\"ticks\":\"\"},\"type\":\"mesh3d\"}],\"parcoords\":[{\"line\":{\"colorbar\":{\"outlinewidth\":0,\"ticks\":\"\"}},\"type\":\"parcoords\"}],\"pie\":[{\"automargin\":true,\"type\":\"pie\"}],\"scatter\":[{\"marker\":{\"colorbar\":{\"outlinewidth\":0,\"ticks\":\"\"}},\"type\":\"scatter\"}],\"scatter3d\":[{\"line\":{\"colorbar\":{\"outlinewidth\":0,\"ticks\":\"\"}},\"marker\":{\"colorbar\":{\"outlinewidth\":0,\"ticks\":\"\"}},\"type\":\"scatter3d\"}],\"scattercarpet\":[{\"marker\":{\"colorbar\":{\"outlinewidth\":0,\"ticks\":\"\"}},\"type\":\"scattercarpet\"}],\"scattergeo\":[{\"marker\":{\"colorbar\":{\"outlinewidth\":0,\"ticks\":\"\"}},\"type\":\"scattergeo\"}],\"scattergl\":[{\"marker\":{\"colorbar\":{\"outlinewidth\":0,\"ticks\":\"\"}},\"type\":\"scattergl\"}],\"scattermapbox\":[{\"marker\":{\"colorbar\":{\"outlinewidth\":0,\"ticks\":\"\"}},\"type\":\"scattermapbox\"}],\"scatterpolar\":[{\"marker\":{\"colorbar\":{\"outlinewidth\":0,\"ticks\":\"\"}},\"type\":\"scatterpolar\"}],\"scatterpolargl\":[{\"marker\":{\"colorbar\":{\"outlinewidth\":0,\"ticks\":\"\"}},\"type\":\"scatterpolargl\"}],\"scatterternary\":[{\"marker\":{\"colorbar\":{\"outlinewidth\":0,\"ticks\":\"\"}},\"type\":\"scatterternary\"}],\"surface\":[{\"colorbar\":{\"outlinewidth\":0,\"ticks\":\"\"},\"colorscale\":[[0.0,\"#0d0887\"],[0.1111111111111111,\"#46039f\"],[0.2222222222222222,\"#7201a8\"],[0.3333333333333333,\"#9c179e\"],[0.4444444444444444,\"#bd3786\"],[0.5555555555555556,\"#d8576b\"],[0.6666666666666666,\"#ed7953\"],[0.7777777777777778,\"#fb9f3a\"],[0.8888888888888888,\"#fdca26\"],[1.0,\"#f0f921\"]],\"type\":\"surface\"}],\"table\":[{\"cells\":{\"fill\":{\"color\":\"#EBF0F8\"},\"line\":{\"color\":\"white\"}},\"header\":{\"fill\":{\"color\":\"#C8D4E3\"},\"line\":{\"color\":\"white\"}},\"type\":\"table\"}]},\"layout\":{\"annotationdefaults\":{\"arrowcolor\":\"#2a3f5f\",\"arrowhead\":0,\"arrowwidth\":1},\"autotypenumbers\":\"strict\",\"coloraxis\":{\"colorbar\":{\"outlinewidth\":0,\"ticks\":\"\"}},\"colorscale\":{\"diverging\":[[0,\"#8e0152\"],[0.1,\"#c51b7d\"],[0.2,\"#de77ae\"],[0.3,\"#f1b6da\"],[0.4,\"#fde0ef\"],[0.5,\"#f7f7f7\"],[0.6,\"#e6f5d0\"],[0.7,\"#b8e186\"],[0.8,\"#7fbc41\"],[0.9,\"#4d9221\"],[1,\"#276419\"]],\"sequential\":[[0.0,\"#0d0887\"],[0.1111111111111111,\"#46039f\"],[0.2222222222222222,\"#7201a8\"],[0.3333333333333333,\"#9c179e\"],[0.4444444444444444,\"#bd3786\"],[0.5555555555555556,\"#d8576b\"],[0.6666666666666666,\"#ed7953\"],[0.7777777777777778,\"#fb9f3a\"],[0.8888888888888888,\"#fdca26\"],[1.0,\"#f0f921\"]],\"sequentialminus\":[[0.0,\"#0d0887\"],[0.1111111111111111,\"#46039f\"],[0.2222222222222222,\"#7201a8\"],[0.3333333333333333,\"#9c179e\"],[0.4444444444444444,\"#bd3786\"],[0.5555555555555556,\"#d8576b\"],[0.6666666666666666,\"#ed7953\"],[0.7777777777777778,\"#fb9f3a\"],[0.8888888888888888,\"#fdca26\"],[1.0,\"#f0f921\"]]},\"colorway\":[\"#636efa\",\"#EF553B\",\"#00cc96\",\"#ab63fa\",\"#FFA15A\",\"#19d3f3\",\"#FF6692\",\"#B6E880\",\"#FF97FF\",\"#FECB52\"],\"font\":{\"color\":\"#2a3f5f\"},\"geo\":{\"bgcolor\":\"white\",\"lakecolor\":\"white\",\"landcolor\":\"#E5ECF6\",\"showlakes\":true,\"showland\":true,\"subunitcolor\":\"white\"},\"hoverlabel\":{\"align\":\"left\"},\"hovermode\":\"closest\",\"mapbox\":{\"style\":\"light\"},\"paper_bgcolor\":\"white\",\"plot_bgcolor\":\"#E5ECF6\",\"polar\":{\"angularaxis\":{\"gridcolor\":\"white\",\"linecolor\":\"white\",\"ticks\":\"\"},\"bgcolor\":\"#E5ECF6\",\"radialaxis\":{\"gridcolor\":\"white\",\"linecolor\":\"white\",\"ticks\":\"\"}},\"scene\":{\"xaxis\":{\"backgroundcolor\":\"#E5ECF6\",\"gridcolor\":\"white\",\"gridwidth\":2,\"linecolor\":\"white\",\"showbackground\":true,\"ticks\":\"\",\"zerolinecolor\":\"white\"},\"yaxis\":{\"backgroundcolor\":\"#E5ECF6\",\"gridcolor\":\"white\",\"gridwidth\":2,\"linecolor\":\"white\",\"showbackground\":true,\"ticks\":\"\",\"zerolinecolor\":\"white\"},\"zaxis\":{\"backgroundcolor\":\"#E5ECF6\",\"gridcolor\":\"white\",\"gridwidth\":2,\"linecolor\":\"white\",\"showbackground\":true,\"ticks\":\"\",\"zerolinecolor\":\"white\"}},\"shapedefaults\":{\"line\":{\"color\":\"#2a3f5f\"}},\"ternary\":{\"aaxis\":{\"gridcolor\":\"white\",\"linecolor\":\"white\",\"ticks\":\"\"},\"baxis\":{\"gridcolor\":\"white\",\"linecolor\":\"white\",\"ticks\":\"\"},\"bgcolor\":\"#E5ECF6\",\"caxis\":{\"gridcolor\":\"white\",\"linecolor\":\"white\",\"ticks\":\"\"}},\"title\":{\"x\":0.05},\"xaxis\":{\"automargin\":true,\"gridcolor\":\"white\",\"linecolor\":\"white\",\"ticks\":\"\",\"title\":{\"standoff\":15},\"zerolinecolor\":\"white\",\"zerolinewidth\":2},\"yaxis\":{\"automargin\":true,\"gridcolor\":\"white\",\"linecolor\":\"white\",\"ticks\":\"\",\"title\":{\"standoff\":15},\"zerolinecolor\":\"white\",\"zerolinewidth\":2}}},\"legend\":{\"tracegroupgap\":0},\"title\":{\"text\":\"Artist Name With Their Followers\"}},                        {\"responsive\": true}                    ).then(function(){\n",
       "                            \n",
       "var gd = document.getElementById('9f5e901d-f37f-4837-b028-a693bc88bdc6');\n",
       "var x = new MutationObserver(function (mutations, observer) {{\n",
       "        var display = window.getComputedStyle(gd).display;\n",
       "        if (!display || display === 'none') {{\n",
       "            console.log([gd, 'removed!']);\n",
       "            Plotly.purge(gd);\n",
       "            observer.disconnect();\n",
       "        }}\n",
       "}});\n",
       "\n",
       "// Listen for the removal of the full notebook cells\n",
       "var notebookContainer = gd.closest('#notebook-container');\n",
       "if (notebookContainer) {{\n",
       "    x.observe(notebookContainer, {childList: true});\n",
       "}}\n",
       "\n",
       "// Listen for the clearing of the current output cell\n",
       "var outputEl = gd.closest('.output');\n",
       "if (outputEl) {{\n",
       "    x.observe(outputEl, {childList: true});\n",
       "}}\n",
       "\n",
       "                        })                };                            </script>        </div>\n",
       "</body>\n",
       "</html>"
      ]
     },
     "metadata": {},
     "output_type": "display_data"
    }
   ],
   "source": [
    "fig = px.sunburst(df.head(1000), \n",
    "                 path=['Artist', 'Artist_followers','Genre'], \n",
    "                 values='Artist_followers',\n",
    "                 color='Artist', \n",
    "                  title = 'Artist Name With Their Followers',\n",
    "                 color_continuous_scale='RdBu')\n",
    "fig.show()"
   ]
  },
  {
   "cell_type": "markdown",
   "metadata": {
    "id": "l74OJxZ-VYrn"
   },
   "source": [
    "## Ask and answer questions \n",
    "1.   Which are the most loudest songs?\n",
    "2.   Visualize Artist names with the high danceability song.\n",
    "3.   Find Top 10 songs by popularity.\n",
    "4.   Which are the most popular songs till 2020?\n",
    "5.   Who is the most popular singer on Spotify?\n",
    "6.   Find how many songs sang by per artist.\n",
    "7.   Which song has highest duration_ms ?\n",
    "8.   How the daceability and energy has changed by year?\n",
    "\n",
    "\n",
    "\n"
   ]
  },
  {
   "cell_type": "markdown",
   "metadata": {
    "id": "I0HNAZax92V-"
   },
   "source": [
    "### 1.   Which are the most loudest songs?\n",
    "\n"
   ]
  },
  {
   "cell_type": "code",
   "execution_count": 29,
   "metadata": {
    "colab": {
     "base_uri": "https://localhost:8080/",
     "height": 423
    },
    "executionInfo": {
     "elapsed": 58,
     "status": "ok",
     "timestamp": 1673541685329,
     "user": {
      "displayName": "Ritu Singh",
      "userId": "11452320716915109322"
     },
     "user_tz": -330
    },
    "id": "XJkFjzQDVpMg",
    "outputId": "83f205e7-723d-49b9-b5b0-1f9017dc296b"
   },
   "outputs": [
    {
     "data": {
      "text/html": [
       "\n",
       "  <div id=\"df-aefefebc-79a3-46a1-a3d3-6817b6ed47f7\">\n",
       "    <div class=\"colab-df-container\">\n",
       "      <div>\n",
       "<style scoped>\n",
       "    .dataframe tbody tr th:only-of-type {\n",
       "        vertical-align: middle;\n",
       "    }\n",
       "\n",
       "    .dataframe tbody tr th {\n",
       "        vertical-align: top;\n",
       "    }\n",
       "\n",
       "    .dataframe thead th {\n",
       "        text-align: right;\n",
       "    }\n",
       "</style>\n",
       "<table border=\"1\" class=\"dataframe\">\n",
       "  <thead>\n",
       "    <tr style=\"text-align: right;\">\n",
       "      <th></th>\n",
       "      <th>loudness</th>\n",
       "      <th>energy</th>\n",
       "      <th>Title</th>\n",
       "    </tr>\n",
       "  </thead>\n",
       "  <tbody>\n",
       "    <tr>\n",
       "      <th>44406</th>\n",
       "      <td>-34.475</td>\n",
       "      <td>0.113</td>\n",
       "      <td>the explanation</td>\n",
       "    </tr>\n",
       "    <tr>\n",
       "      <th>44404</th>\n",
       "      <td>-34.475</td>\n",
       "      <td>0.113</td>\n",
       "      <td>the explanation</td>\n",
       "    </tr>\n",
       "    <tr>\n",
       "      <th>44407</th>\n",
       "      <td>-34.475</td>\n",
       "      <td>0.113</td>\n",
       "      <td>the explanation</td>\n",
       "    </tr>\n",
       "    <tr>\n",
       "      <th>44408</th>\n",
       "      <td>-34.475</td>\n",
       "      <td>0.113</td>\n",
       "      <td>the explanation</td>\n",
       "    </tr>\n",
       "    <tr>\n",
       "      <th>44409</th>\n",
       "      <td>-34.475</td>\n",
       "      <td>0.113</td>\n",
       "      <td>the explanation</td>\n",
       "    </tr>\n",
       "    <tr>\n",
       "      <th>...</th>\n",
       "      <td>...</td>\n",
       "      <td>...</td>\n",
       "      <td>...</td>\n",
       "    </tr>\n",
       "    <tr>\n",
       "      <th>62558</th>\n",
       "      <td>-22.507</td>\n",
       "      <td>0.106</td>\n",
       "      <td>carol of the bells</td>\n",
       "    </tr>\n",
       "    <tr>\n",
       "      <th>62559</th>\n",
       "      <td>-22.507</td>\n",
       "      <td>0.106</td>\n",
       "      <td>carol of the bells</td>\n",
       "    </tr>\n",
       "    <tr>\n",
       "      <th>62560</th>\n",
       "      <td>-22.507</td>\n",
       "      <td>0.106</td>\n",
       "      <td>carol of the bells</td>\n",
       "    </tr>\n",
       "    <tr>\n",
       "      <th>62561</th>\n",
       "      <td>-22.507</td>\n",
       "      <td>0.106</td>\n",
       "      <td>carol of the bells</td>\n",
       "    </tr>\n",
       "    <tr>\n",
       "      <th>62563</th>\n",
       "      <td>-22.507</td>\n",
       "      <td>0.106</td>\n",
       "      <td>carol of the bells</td>\n",
       "    </tr>\n",
       "  </tbody>\n",
       "</table>\n",
       "<p>100 rows × 3 columns</p>\n",
       "</div>\n",
       "      <button class=\"colab-df-convert\" onclick=\"convertToInteractive('df-aefefebc-79a3-46a1-a3d3-6817b6ed47f7')\"\n",
       "              title=\"Convert this dataframe to an interactive table.\"\n",
       "              style=\"display:none;\">\n",
       "        \n",
       "  <svg xmlns=\"http://www.w3.org/2000/svg\" height=\"24px\"viewBox=\"0 0 24 24\"\n",
       "       width=\"24px\">\n",
       "    <path d=\"M0 0h24v24H0V0z\" fill=\"none\"/>\n",
       "    <path d=\"M18.56 5.44l.94 2.06.94-2.06 2.06-.94-2.06-.94-.94-2.06-.94 2.06-2.06.94zm-11 1L8.5 8.5l.94-2.06 2.06-.94-2.06-.94L8.5 2.5l-.94 2.06-2.06.94zm10 10l.94 2.06.94-2.06 2.06-.94-2.06-.94-.94-2.06-.94 2.06-2.06.94z\"/><path d=\"M17.41 7.96l-1.37-1.37c-.4-.4-.92-.59-1.43-.59-.52 0-1.04.2-1.43.59L10.3 9.45l-7.72 7.72c-.78.78-.78 2.05 0 2.83L4 21.41c.39.39.9.59 1.41.59.51 0 1.02-.2 1.41-.59l7.78-7.78 2.81-2.81c.8-.78.8-2.07 0-2.86zM5.41 20L4 18.59l7.72-7.72 1.47 1.35L5.41 20z\"/>\n",
       "  </svg>\n",
       "      </button>\n",
       "      \n",
       "  <style>\n",
       "    .colab-df-container {\n",
       "      display:flex;\n",
       "      flex-wrap:wrap;\n",
       "      gap: 12px;\n",
       "    }\n",
       "\n",
       "    .colab-df-convert {\n",
       "      background-color: #E8F0FE;\n",
       "      border: none;\n",
       "      border-radius: 50%;\n",
       "      cursor: pointer;\n",
       "      display: none;\n",
       "      fill: #1967D2;\n",
       "      height: 32px;\n",
       "      padding: 0 0 0 0;\n",
       "      width: 32px;\n",
       "    }\n",
       "\n",
       "    .colab-df-convert:hover {\n",
       "      background-color: #E2EBFA;\n",
       "      box-shadow: 0px 1px 2px rgba(60, 64, 67, 0.3), 0px 1px 3px 1px rgba(60, 64, 67, 0.15);\n",
       "      fill: #174EA6;\n",
       "    }\n",
       "\n",
       "    [theme=dark] .colab-df-convert {\n",
       "      background-color: #3B4455;\n",
       "      fill: #D2E3FC;\n",
       "    }\n",
       "\n",
       "    [theme=dark] .colab-df-convert:hover {\n",
       "      background-color: #434B5C;\n",
       "      box-shadow: 0px 1px 3px 1px rgba(0, 0, 0, 0.15);\n",
       "      filter: drop-shadow(0px 1px 2px rgba(0, 0, 0, 0.3));\n",
       "      fill: #FFFFFF;\n",
       "    }\n",
       "  </style>\n",
       "\n",
       "      <script>\n",
       "        const buttonEl =\n",
       "          document.querySelector('#df-aefefebc-79a3-46a1-a3d3-6817b6ed47f7 button.colab-df-convert');\n",
       "        buttonEl.style.display =\n",
       "          google.colab.kernel.accessAllowed ? 'block' : 'none';\n",
       "\n",
       "        async function convertToInteractive(key) {\n",
       "          const element = document.querySelector('#df-aefefebc-79a3-46a1-a3d3-6817b6ed47f7');\n",
       "          const dataTable =\n",
       "            await google.colab.kernel.invokeFunction('convertToInteractive',\n",
       "                                                     [key], {});\n",
       "          if (!dataTable) return;\n",
       "\n",
       "          const docLinkHtml = 'Like what you see? Visit the ' +\n",
       "            '<a target=\"_blank\" href=https://colab.research.google.com/notebooks/data_table.ipynb>data table notebook</a>'\n",
       "            + ' to learn more about interactive tables.';\n",
       "          element.innerHTML = '';\n",
       "          dataTable['output_type'] = 'display_data';\n",
       "          await google.colab.output.renderOutput(dataTable, element);\n",
       "          const docLink = document.createElement('div');\n",
       "          docLink.innerHTML = docLinkHtml;\n",
       "          element.appendChild(docLink);\n",
       "        }\n",
       "      </script>\n",
       "    </div>\n",
       "  </div>\n",
       "  "
      ],
      "text/plain": [
       "       loudness  energy               Title\n",
       "44406   -34.475   0.113     the explanation\n",
       "44404   -34.475   0.113     the explanation\n",
       "44407   -34.475   0.113     the explanation\n",
       "44408   -34.475   0.113     the explanation\n",
       "44409   -34.475   0.113     the explanation\n",
       "...         ...     ...                 ...\n",
       "62558   -22.507   0.106  carol of the bells\n",
       "62559   -22.507   0.106  carol of the bells\n",
       "62560   -22.507   0.106  carol of the bells\n",
       "62561   -22.507   0.106  carol of the bells\n",
       "62563   -22.507   0.106  carol of the bells\n",
       "\n",
       "[100 rows x 3 columns]"
      ]
     },
     "execution_count": 29,
     "metadata": {},
     "output_type": "execute_result"
    }
   ],
   "source": [
    "loudest_songs=df[[\"loudness\",\"energy\",\"Title\"]].sort_values(by=\"loudness\",ascending=True)[:100]\n",
    "loudest_songs"
   ]
  },
  {
   "cell_type": "code",
   "execution_count": 30,
   "metadata": {
    "colab": {
     "base_uri": "https://localhost:8080/",
     "height": 542
    },
    "executionInfo": {
     "elapsed": 57,
     "status": "ok",
     "timestamp": 1673541685330,
     "user": {
      "displayName": "Ritu Singh",
      "userId": "11452320716915109322"
     },
     "user_tz": -330
    },
    "id": "hQ4YCzW6lS_E",
    "outputId": "e6946f50-e372-4f36-ab76-7c14dc86d6b5"
   },
   "outputs": [
    {
     "data": {
      "text/html": [
       "<html>\n",
       "<head><meta charset=\"utf-8\" /></head>\n",
       "<body>\n",
       "    <div>            <script src=\"https://cdnjs.cloudflare.com/ajax/libs/mathjax/2.7.5/MathJax.js?config=TeX-AMS-MML_SVG\"></script><script type=\"text/javascript\">if (window.MathJax) {MathJax.Hub.Config({SVG: {font: \"STIX-Web\"}});}</script>                <script type=\"text/javascript\">window.PlotlyConfig = {MathJaxConfig: 'local'};</script>\n",
       "        <script src=\"https://cdn.plot.ly/plotly-2.8.3.min.js\"></script>                <div id=\"ba8181e4-5e76-44e8-adbf-e9104a45c3ad\" class=\"plotly-graph-div\" style=\"height:525px; width:100%;\"></div>            <script type=\"text/javascript\">                                    window.PLOTLYENV=window.PLOTLYENV || {};                                    if (document.getElementById(\"ba8181e4-5e76-44e8-adbf-e9104a45c3ad\")) {                    Plotly.newPlot(                        \"ba8181e4-5e76-44e8-adbf-e9104a45c3ad\",                        [{\"alignmentgroup\":\"True\",\"hovertemplate\":\"Title=%{x}<br>loudness=%{y}<br>energy=%{marker.color}<extra></extra>\",\"legendgroup\":\"\",\"marker\":{\"color\":[0.113,0.113,0.113,0.113,0.113,0.113,0.113,0.113,0.113,0.113,0.113,0.0388,0.13,0.13,0.13,0.13,0.13,0.13,0.13,0.13,0.13,0.13,0.13,0.13,0.13,0.13,0.13,0.13,0.13,0.13,0.13,0.13,0.13,0.13,0.13,0.13,0.0561,0.0561,0.0561,0.0561,0.0561,0.0561,0.0561,0.0561,0.0561,0.0561,0.0561,0.0561,0.0561,0.0561,0.0561,0.0561,0.0561,0.0561,0.0561,0.0561,0.0561,0.0561,0.0561,0.0561,0.0561,0.0561,0.0561,0.0595,0.0595,0.0595,0.0595,0.0595,0.0595,0.0137,0.0137,0.0137,0.0137,0.0137,0.0137,0.0137,0.0137,0.0137,0.0137,0.0137,0.0137,0.166,0.166,0.166,0.166,0.166,0.106,0.106,0.106,0.106,0.106,0.106,0.106,0.106,0.106,0.106,0.106,0.106,0.106,0.106],\"coloraxis\":\"coloraxis\",\"pattern\":{\"shape\":\"\"}},\"name\":\"\",\"offsetgroup\":\"\",\"orientation\":\"v\",\"showlegend\":false,\"textposition\":\"auto\",\"x\":[\"the explanation\",\"the explanation\",\"the explanation\",\"the explanation\",\"the explanation\",\"the explanation\",\"the explanation\",\"the explanation\",\"the explanation\",\"the explanation\",\"the explanation\",\"goodnight sweetheart\",\"jackboys\",\"jackboys\",\"jackboys\",\"jackboys\",\"jackboys\",\"jackboys\",\"jackboys\",\"jackboys\",\"jackboys\",\"jackboys\",\"jackboys\",\"jackboys\",\"jackboys\",\"jackboys\",\"jackboys\",\"jackboys\",\"jackboys\",\"jackboys\",\"jackboys\",\"jackboys\",\"jackboys\",\"jackboys\",\"jackboys\",\"jackboys\",\"listen before i go\",\"listen before i go\",\"listen before i go\",\"listen before i go\",\"listen before i go\",\"listen before i go\",\"listen before i go\",\"listen before i go\",\"listen before i go\",\"listen before i go\",\"listen before i go\",\"listen before i go\",\"listen before i go\",\"listen before i go\",\"listen before i go\",\"listen before i go\",\"listen before i go\",\"listen before i go\",\"listen before i go\",\"listen before i go\",\"listen before i go\",\"listen before i go\",\"listen before i go\",\"listen before i go\",\"listen before i go\",\"listen before i go\",\"listen before i go\",\"engagement party - from la la land soundtrack\",\"engagement party - from la la land soundtrack\",\"engagement party - from la la land soundtrack\",\"engagement party - from la la land soundtrack\",\"engagement party - from la la land soundtrack\",\"engagement party - from la la land soundtrack\",\"litanie contre la peur\",\"litanie contre la peur\",\"litanie contre la peur\",\"litanie contre la peur\",\"litanie contre la peur\",\"litanie contre la peur\",\"litanie contre la peur\",\"litanie contre la peur\",\"litanie contre la peur\",\"litanie contre la peur\",\"litanie contre la peur\",\"litanie contre la peur\",\"dont worry be happy\",\"dont worry be happy\",\"dont worry be happy\",\"dont worry be happy\",\"dont worry be happy\",\"carol of the bells\",\"carol of the bells\",\"carol of the bells\",\"carol of the bells\",\"carol of the bells\",\"carol of the bells\",\"carol of the bells\",\"carol of the bells\",\"carol of the bells\",\"carol of the bells\",\"carol of the bells\",\"carol of the bells\",\"carol of the bells\",\"carol of the bells\"],\"xaxis\":\"x\",\"y\":[-34.475,-34.475,-34.475,-34.475,-34.475,-34.475,-34.475,-34.475,-34.475,-34.475,-34.475,-26.914,-25.166,-25.166,-25.166,-25.166,-25.166,-25.166,-25.166,-25.166,-25.166,-25.166,-25.166,-25.166,-25.166,-25.166,-25.166,-25.166,-25.166,-25.166,-25.166,-25.166,-25.166,-25.166,-25.166,-25.166,-23.023000000000003,-23.023000000000003,-23.023000000000003,-23.023000000000003,-23.023000000000003,-23.023000000000003,-23.023000000000003,-23.023000000000003,-23.023000000000003,-23.023000000000003,-23.023000000000003,-23.023000000000003,-23.023000000000003,-23.023000000000003,-23.023000000000003,-23.023000000000003,-23.023000000000003,-23.023000000000003,-23.023000000000003,-23.023000000000003,-23.023000000000003,-23.023000000000003,-23.023000000000003,-23.023000000000003,-23.023000000000003,-23.023000000000003,-23.023000000000003,-23.003,-23.003,-23.003,-23.003,-23.003,-23.003,-22.812,-22.812,-22.812,-22.812,-22.812,-22.812,-22.812,-22.812,-22.812,-22.812,-22.812,-22.812,-22.602,-22.602,-22.602,-22.602,-22.602,-22.507,-22.507,-22.507,-22.507,-22.507,-22.507,-22.507,-22.507,-22.507,-22.507,-22.507,-22.507,-22.507,-22.507],\"yaxis\":\"y\",\"type\":\"bar\"}],                        {\"template\":{\"data\":{\"bar\":[{\"error_x\":{\"color\":\"#2a3f5f\"},\"error_y\":{\"color\":\"#2a3f5f\"},\"marker\":{\"line\":{\"color\":\"#E5ECF6\",\"width\":0.5},\"pattern\":{\"fillmode\":\"overlay\",\"size\":10,\"solidity\":0.2}},\"type\":\"bar\"}],\"barpolar\":[{\"marker\":{\"line\":{\"color\":\"#E5ECF6\",\"width\":0.5},\"pattern\":{\"fillmode\":\"overlay\",\"size\":10,\"solidity\":0.2}},\"type\":\"barpolar\"}],\"carpet\":[{\"aaxis\":{\"endlinecolor\":\"#2a3f5f\",\"gridcolor\":\"white\",\"linecolor\":\"white\",\"minorgridcolor\":\"white\",\"startlinecolor\":\"#2a3f5f\"},\"baxis\":{\"endlinecolor\":\"#2a3f5f\",\"gridcolor\":\"white\",\"linecolor\":\"white\",\"minorgridcolor\":\"white\",\"startlinecolor\":\"#2a3f5f\"},\"type\":\"carpet\"}],\"choropleth\":[{\"colorbar\":{\"outlinewidth\":0,\"ticks\":\"\"},\"type\":\"choropleth\"}],\"contour\":[{\"colorbar\":{\"outlinewidth\":0,\"ticks\":\"\"},\"colorscale\":[[0.0,\"#0d0887\"],[0.1111111111111111,\"#46039f\"],[0.2222222222222222,\"#7201a8\"],[0.3333333333333333,\"#9c179e\"],[0.4444444444444444,\"#bd3786\"],[0.5555555555555556,\"#d8576b\"],[0.6666666666666666,\"#ed7953\"],[0.7777777777777778,\"#fb9f3a\"],[0.8888888888888888,\"#fdca26\"],[1.0,\"#f0f921\"]],\"type\":\"contour\"}],\"contourcarpet\":[{\"colorbar\":{\"outlinewidth\":0,\"ticks\":\"\"},\"type\":\"contourcarpet\"}],\"heatmap\":[{\"colorbar\":{\"outlinewidth\":0,\"ticks\":\"\"},\"colorscale\":[[0.0,\"#0d0887\"],[0.1111111111111111,\"#46039f\"],[0.2222222222222222,\"#7201a8\"],[0.3333333333333333,\"#9c179e\"],[0.4444444444444444,\"#bd3786\"],[0.5555555555555556,\"#d8576b\"],[0.6666666666666666,\"#ed7953\"],[0.7777777777777778,\"#fb9f3a\"],[0.8888888888888888,\"#fdca26\"],[1.0,\"#f0f921\"]],\"type\":\"heatmap\"}],\"heatmapgl\":[{\"colorbar\":{\"outlinewidth\":0,\"ticks\":\"\"},\"colorscale\":[[0.0,\"#0d0887\"],[0.1111111111111111,\"#46039f\"],[0.2222222222222222,\"#7201a8\"],[0.3333333333333333,\"#9c179e\"],[0.4444444444444444,\"#bd3786\"],[0.5555555555555556,\"#d8576b\"],[0.6666666666666666,\"#ed7953\"],[0.7777777777777778,\"#fb9f3a\"],[0.8888888888888888,\"#fdca26\"],[1.0,\"#f0f921\"]],\"type\":\"heatmapgl\"}],\"histogram\":[{\"marker\":{\"pattern\":{\"fillmode\":\"overlay\",\"size\":10,\"solidity\":0.2}},\"type\":\"histogram\"}],\"histogram2d\":[{\"colorbar\":{\"outlinewidth\":0,\"ticks\":\"\"},\"colorscale\":[[0.0,\"#0d0887\"],[0.1111111111111111,\"#46039f\"],[0.2222222222222222,\"#7201a8\"],[0.3333333333333333,\"#9c179e\"],[0.4444444444444444,\"#bd3786\"],[0.5555555555555556,\"#d8576b\"],[0.6666666666666666,\"#ed7953\"],[0.7777777777777778,\"#fb9f3a\"],[0.8888888888888888,\"#fdca26\"],[1.0,\"#f0f921\"]],\"type\":\"histogram2d\"}],\"histogram2dcontour\":[{\"colorbar\":{\"outlinewidth\":0,\"ticks\":\"\"},\"colorscale\":[[0.0,\"#0d0887\"],[0.1111111111111111,\"#46039f\"],[0.2222222222222222,\"#7201a8\"],[0.3333333333333333,\"#9c179e\"],[0.4444444444444444,\"#bd3786\"],[0.5555555555555556,\"#d8576b\"],[0.6666666666666666,\"#ed7953\"],[0.7777777777777778,\"#fb9f3a\"],[0.8888888888888888,\"#fdca26\"],[1.0,\"#f0f921\"]],\"type\":\"histogram2dcontour\"}],\"mesh3d\":[{\"colorbar\":{\"outlinewidth\":0,\"ticks\":\"\"},\"type\":\"mesh3d\"}],\"parcoords\":[{\"line\":{\"colorbar\":{\"outlinewidth\":0,\"ticks\":\"\"}},\"type\":\"parcoords\"}],\"pie\":[{\"automargin\":true,\"type\":\"pie\"}],\"scatter\":[{\"marker\":{\"colorbar\":{\"outlinewidth\":0,\"ticks\":\"\"}},\"type\":\"scatter\"}],\"scatter3d\":[{\"line\":{\"colorbar\":{\"outlinewidth\":0,\"ticks\":\"\"}},\"marker\":{\"colorbar\":{\"outlinewidth\":0,\"ticks\":\"\"}},\"type\":\"scatter3d\"}],\"scattercarpet\":[{\"marker\":{\"colorbar\":{\"outlinewidth\":0,\"ticks\":\"\"}},\"type\":\"scattercarpet\"}],\"scattergeo\":[{\"marker\":{\"colorbar\":{\"outlinewidth\":0,\"ticks\":\"\"}},\"type\":\"scattergeo\"}],\"scattergl\":[{\"marker\":{\"colorbar\":{\"outlinewidth\":0,\"ticks\":\"\"}},\"type\":\"scattergl\"}],\"scattermapbox\":[{\"marker\":{\"colorbar\":{\"outlinewidth\":0,\"ticks\":\"\"}},\"type\":\"scattermapbox\"}],\"scatterpolar\":[{\"marker\":{\"colorbar\":{\"outlinewidth\":0,\"ticks\":\"\"}},\"type\":\"scatterpolar\"}],\"scatterpolargl\":[{\"marker\":{\"colorbar\":{\"outlinewidth\":0,\"ticks\":\"\"}},\"type\":\"scatterpolargl\"}],\"scatterternary\":[{\"marker\":{\"colorbar\":{\"outlinewidth\":0,\"ticks\":\"\"}},\"type\":\"scatterternary\"}],\"surface\":[{\"colorbar\":{\"outlinewidth\":0,\"ticks\":\"\"},\"colorscale\":[[0.0,\"#0d0887\"],[0.1111111111111111,\"#46039f\"],[0.2222222222222222,\"#7201a8\"],[0.3333333333333333,\"#9c179e\"],[0.4444444444444444,\"#bd3786\"],[0.5555555555555556,\"#d8576b\"],[0.6666666666666666,\"#ed7953\"],[0.7777777777777778,\"#fb9f3a\"],[0.8888888888888888,\"#fdca26\"],[1.0,\"#f0f921\"]],\"type\":\"surface\"}],\"table\":[{\"cells\":{\"fill\":{\"color\":\"#EBF0F8\"},\"line\":{\"color\":\"white\"}},\"header\":{\"fill\":{\"color\":\"#C8D4E3\"},\"line\":{\"color\":\"white\"}},\"type\":\"table\"}]},\"layout\":{\"annotationdefaults\":{\"arrowcolor\":\"#2a3f5f\",\"arrowhead\":0,\"arrowwidth\":1},\"autotypenumbers\":\"strict\",\"coloraxis\":{\"colorbar\":{\"outlinewidth\":0,\"ticks\":\"\"}},\"colorscale\":{\"diverging\":[[0,\"#8e0152\"],[0.1,\"#c51b7d\"],[0.2,\"#de77ae\"],[0.3,\"#f1b6da\"],[0.4,\"#fde0ef\"],[0.5,\"#f7f7f7\"],[0.6,\"#e6f5d0\"],[0.7,\"#b8e186\"],[0.8,\"#7fbc41\"],[0.9,\"#4d9221\"],[1,\"#276419\"]],\"sequential\":[[0.0,\"#0d0887\"],[0.1111111111111111,\"#46039f\"],[0.2222222222222222,\"#7201a8\"],[0.3333333333333333,\"#9c179e\"],[0.4444444444444444,\"#bd3786\"],[0.5555555555555556,\"#d8576b\"],[0.6666666666666666,\"#ed7953\"],[0.7777777777777778,\"#fb9f3a\"],[0.8888888888888888,\"#fdca26\"],[1.0,\"#f0f921\"]],\"sequentialminus\":[[0.0,\"#0d0887\"],[0.1111111111111111,\"#46039f\"],[0.2222222222222222,\"#7201a8\"],[0.3333333333333333,\"#9c179e\"],[0.4444444444444444,\"#bd3786\"],[0.5555555555555556,\"#d8576b\"],[0.6666666666666666,\"#ed7953\"],[0.7777777777777778,\"#fb9f3a\"],[0.8888888888888888,\"#fdca26\"],[1.0,\"#f0f921\"]]},\"colorway\":[\"#636efa\",\"#EF553B\",\"#00cc96\",\"#ab63fa\",\"#FFA15A\",\"#19d3f3\",\"#FF6692\",\"#B6E880\",\"#FF97FF\",\"#FECB52\"],\"font\":{\"color\":\"#2a3f5f\"},\"geo\":{\"bgcolor\":\"white\",\"lakecolor\":\"white\",\"landcolor\":\"#E5ECF6\",\"showlakes\":true,\"showland\":true,\"subunitcolor\":\"white\"},\"hoverlabel\":{\"align\":\"left\"},\"hovermode\":\"closest\",\"mapbox\":{\"style\":\"light\"},\"paper_bgcolor\":\"white\",\"plot_bgcolor\":\"#E5ECF6\",\"polar\":{\"angularaxis\":{\"gridcolor\":\"white\",\"linecolor\":\"white\",\"ticks\":\"\"},\"bgcolor\":\"#E5ECF6\",\"radialaxis\":{\"gridcolor\":\"white\",\"linecolor\":\"white\",\"ticks\":\"\"}},\"scene\":{\"xaxis\":{\"backgroundcolor\":\"#E5ECF6\",\"gridcolor\":\"white\",\"gridwidth\":2,\"linecolor\":\"white\",\"showbackground\":true,\"ticks\":\"\",\"zerolinecolor\":\"white\"},\"yaxis\":{\"backgroundcolor\":\"#E5ECF6\",\"gridcolor\":\"white\",\"gridwidth\":2,\"linecolor\":\"white\",\"showbackground\":true,\"ticks\":\"\",\"zerolinecolor\":\"white\"},\"zaxis\":{\"backgroundcolor\":\"#E5ECF6\",\"gridcolor\":\"white\",\"gridwidth\":2,\"linecolor\":\"white\",\"showbackground\":true,\"ticks\":\"\",\"zerolinecolor\":\"white\"}},\"shapedefaults\":{\"line\":{\"color\":\"#2a3f5f\"}},\"ternary\":{\"aaxis\":{\"gridcolor\":\"white\",\"linecolor\":\"white\",\"ticks\":\"\"},\"baxis\":{\"gridcolor\":\"white\",\"linecolor\":\"white\",\"ticks\":\"\"},\"bgcolor\":\"#E5ECF6\",\"caxis\":{\"gridcolor\":\"white\",\"linecolor\":\"white\",\"ticks\":\"\"}},\"title\":{\"x\":0.05},\"xaxis\":{\"automargin\":true,\"gridcolor\":\"white\",\"linecolor\":\"white\",\"ticks\":\"\",\"title\":{\"standoff\":15},\"zerolinecolor\":\"white\",\"zerolinewidth\":2},\"yaxis\":{\"automargin\":true,\"gridcolor\":\"white\",\"linecolor\":\"white\",\"ticks\":\"\",\"title\":{\"standoff\":15},\"zerolinecolor\":\"white\",\"zerolinewidth\":2}}},\"xaxis\":{\"anchor\":\"y\",\"domain\":[0.0,1.0],\"title\":{\"text\":\"Title\"}},\"yaxis\":{\"anchor\":\"x\",\"domain\":[0.0,1.0],\"title\":{\"text\":\"loudness\"}},\"coloraxis\":{\"colorbar\":{\"title\":{\"text\":\"energy\"}},\"colorscale\":[[0.0,\"#0d0887\"],[0.1111111111111111,\"#46039f\"],[0.2222222222222222,\"#7201a8\"],[0.3333333333333333,\"#9c179e\"],[0.4444444444444444,\"#bd3786\"],[0.5555555555555556,\"#d8576b\"],[0.6666666666666666,\"#ed7953\"],[0.7777777777777778,\"#fb9f3a\"],[0.8888888888888888,\"#fdca26\"],[1.0,\"#f0f921\"]]},\"legend\":{\"tracegroupgap\":0},\"title\":{\"text\":\"Top Loudest Songs With Energy\"},\"barmode\":\"relative\"},                        {\"responsive\": true}                    ).then(function(){\n",
       "                            \n",
       "var gd = document.getElementById('ba8181e4-5e76-44e8-adbf-e9104a45c3ad');\n",
       "var x = new MutationObserver(function (mutations, observer) {{\n",
       "        var display = window.getComputedStyle(gd).display;\n",
       "        if (!display || display === 'none') {{\n",
       "            console.log([gd, 'removed!']);\n",
       "            Plotly.purge(gd);\n",
       "            observer.disconnect();\n",
       "        }}\n",
       "}});\n",
       "\n",
       "// Listen for the removal of the full notebook cells\n",
       "var notebookContainer = gd.closest('#notebook-container');\n",
       "if (notebookContainer) {{\n",
       "    x.observe(notebookContainer, {childList: true});\n",
       "}}\n",
       "\n",
       "// Listen for the clearing of the current output cell\n",
       "var outputEl = gd.closest('.output');\n",
       "if (outputEl) {{\n",
       "    x.observe(outputEl, {childList: true});\n",
       "}}\n",
       "\n",
       "                        })                };                            </script>        </div>\n",
       "</body>\n",
       "</html>"
      ]
     },
     "metadata": {},
     "output_type": "display_data"
    }
   ],
   "source": [
    "fig = px.bar(loudest_songs, \n",
    "             x=\"Title\", \n",
    "             y=\"loudness\", \n",
    "             color=\"energy\", \n",
    "             title=\"Top Loudest Songs With Energy\",\n",
    "             color_discrete_sequence=[\"#AF9500\", \"#B4B4B4\", \"#6A3805\"])\n",
    "fig.show()"
   ]
  },
  {
   "cell_type": "markdown",
   "metadata": {
    "id": "egMi2mCbvaid"
   },
   "source": [
    "### 2.   Visualize Artist names with the high danceability song.\n"
   ]
  },
  {
   "cell_type": "code",
   "execution_count": 31,
   "metadata": {
    "colab": {
     "base_uri": "https://localhost:8080/",
     "height": 423
    },
    "executionInfo": {
     "elapsed": 57,
     "status": "ok",
     "timestamp": 1673541685332,
     "user": {
      "displayName": "Ritu Singh",
      "userId": "11452320716915109322"
     },
     "user_tz": -330
    },
    "id": "Y804uU2Ou8Nw",
    "outputId": "676573ce-1a72-441a-966c-1dc0172df3b4"
   },
   "outputs": [
    {
     "data": {
      "text/html": [
       "\n",
       "  <div id=\"df-82f7d3ee-23cf-44f8-a330-2c2107e432d3\">\n",
       "    <div class=\"colab-df-container\">\n",
       "      <div>\n",
       "<style scoped>\n",
       "    .dataframe tbody tr th:only-of-type {\n",
       "        vertical-align: middle;\n",
       "    }\n",
       "\n",
       "    .dataframe tbody tr th {\n",
       "        vertical-align: top;\n",
       "    }\n",
       "\n",
       "    .dataframe thead th {\n",
       "        text-align: right;\n",
       "    }\n",
       "</style>\n",
       "<table border=\"1\" class=\"dataframe\">\n",
       "  <thead>\n",
       "    <tr style=\"text-align: right;\">\n",
       "      <th></th>\n",
       "      <th>danceability</th>\n",
       "      <th>energy</th>\n",
       "      <th>Popularity</th>\n",
       "      <th>Title</th>\n",
       "      <th>Artist</th>\n",
       "      <th>Genre</th>\n",
       "    </tr>\n",
       "  </thead>\n",
       "  <tbody>\n",
       "    <tr>\n",
       "      <th>89244</th>\n",
       "      <td>0.9800</td>\n",
       "      <td>0.713</td>\n",
       "      <td>265.00</td>\n",
       "      <td>chanel  - from jxmtro</td>\n",
       "      <td>Rae Sremmurd - Swae Lee - Slim Jxmmi - Pharrel...</td>\n",
       "      <td>hip hop</td>\n",
       "    </tr>\n",
       "    <tr>\n",
       "      <th>85567</th>\n",
       "      <td>0.9780</td>\n",
       "      <td>0.477</td>\n",
       "      <td>5825.00</td>\n",
       "      <td>uno</td>\n",
       "      <td>Ambjaay</td>\n",
       "      <td>cali rap</td>\n",
       "    </tr>\n",
       "    <tr>\n",
       "      <th>85568</th>\n",
       "      <td>0.9780</td>\n",
       "      <td>0.477</td>\n",
       "      <td>2220.00</td>\n",
       "      <td>uno</td>\n",
       "      <td>Ambjaay</td>\n",
       "      <td>cali rap</td>\n",
       "    </tr>\n",
       "    <tr>\n",
       "      <th>94625</th>\n",
       "      <td>0.9750</td>\n",
       "      <td>0.535</td>\n",
       "      <td>22790.50</td>\n",
       "      <td>funky friday</td>\n",
       "      <td>Dave - Fredo</td>\n",
       "      <td>uk hip hop</td>\n",
       "    </tr>\n",
       "    <tr>\n",
       "      <th>94624</th>\n",
       "      <td>0.9750</td>\n",
       "      <td>0.535</td>\n",
       "      <td>73267.80</td>\n",
       "      <td>funky friday</td>\n",
       "      <td>Dave - Fredo</td>\n",
       "      <td>uk hip hop</td>\n",
       "    </tr>\n",
       "    <tr>\n",
       "      <th>...</th>\n",
       "      <td>...</td>\n",
       "      <td>...</td>\n",
       "      <td>...</td>\n",
       "      <td>...</td>\n",
       "      <td>...</td>\n",
       "      <td>...</td>\n",
       "    </tr>\n",
       "    <tr>\n",
       "      <th>55417</th>\n",
       "      <td>0.1250</td>\n",
       "      <td>0.174</td>\n",
       "      <td>38.40</td>\n",
       "      <td>silent night</td>\n",
       "      <td>Carpenters</td>\n",
       "      <td>adult standards</td>\n",
       "    </tr>\n",
       "    <tr>\n",
       "      <th>55416</th>\n",
       "      <td>0.1250</td>\n",
       "      <td>0.174</td>\n",
       "      <td>8.80</td>\n",
       "      <td>silent night</td>\n",
       "      <td>Carpenters</td>\n",
       "      <td>adult standards</td>\n",
       "    </tr>\n",
       "    <tr>\n",
       "      <th>55415</th>\n",
       "      <td>0.1250</td>\n",
       "      <td>0.174</td>\n",
       "      <td>596.80</td>\n",
       "      <td>silent night</td>\n",
       "      <td>Carpenters</td>\n",
       "      <td>adult standards</td>\n",
       "    </tr>\n",
       "    <tr>\n",
       "      <th>55414</th>\n",
       "      <td>0.1250</td>\n",
       "      <td>0.174</td>\n",
       "      <td>406.45</td>\n",
       "      <td>silent night</td>\n",
       "      <td>Carpenters</td>\n",
       "      <td>adult standards</td>\n",
       "    </tr>\n",
       "    <tr>\n",
       "      <th>94774</th>\n",
       "      <td>0.0807</td>\n",
       "      <td>0.262</td>\n",
       "      <td>55.20</td>\n",
       "      <td>auld lang syne</td>\n",
       "      <td>The Band Of Her Majesty's Royal Marines &amp; Pipe...</td>\n",
       "      <td>military band</td>\n",
       "    </tr>\n",
       "  </tbody>\n",
       "</table>\n",
       "<p>100000 rows × 6 columns</p>\n",
       "</div>\n",
       "      <button class=\"colab-df-convert\" onclick=\"convertToInteractive('df-82f7d3ee-23cf-44f8-a330-2c2107e432d3')\"\n",
       "              title=\"Convert this dataframe to an interactive table.\"\n",
       "              style=\"display:none;\">\n",
       "        \n",
       "  <svg xmlns=\"http://www.w3.org/2000/svg\" height=\"24px\"viewBox=\"0 0 24 24\"\n",
       "       width=\"24px\">\n",
       "    <path d=\"M0 0h24v24H0V0z\" fill=\"none\"/>\n",
       "    <path d=\"M18.56 5.44l.94 2.06.94-2.06 2.06-.94-2.06-.94-.94-2.06-.94 2.06-2.06.94zm-11 1L8.5 8.5l.94-2.06 2.06-.94-2.06-.94L8.5 2.5l-.94 2.06-2.06.94zm10 10l.94 2.06.94-2.06 2.06-.94-2.06-.94-.94-2.06-.94 2.06-2.06.94z\"/><path d=\"M17.41 7.96l-1.37-1.37c-.4-.4-.92-.59-1.43-.59-.52 0-1.04.2-1.43.59L10.3 9.45l-7.72 7.72c-.78.78-.78 2.05 0 2.83L4 21.41c.39.39.9.59 1.41.59.51 0 1.02-.2 1.41-.59l7.78-7.78 2.81-2.81c.8-.78.8-2.07 0-2.86zM5.41 20L4 18.59l7.72-7.72 1.47 1.35L5.41 20z\"/>\n",
       "  </svg>\n",
       "      </button>\n",
       "      \n",
       "  <style>\n",
       "    .colab-df-container {\n",
       "      display:flex;\n",
       "      flex-wrap:wrap;\n",
       "      gap: 12px;\n",
       "    }\n",
       "\n",
       "    .colab-df-convert {\n",
       "      background-color: #E8F0FE;\n",
       "      border: none;\n",
       "      border-radius: 50%;\n",
       "      cursor: pointer;\n",
       "      display: none;\n",
       "      fill: #1967D2;\n",
       "      height: 32px;\n",
       "      padding: 0 0 0 0;\n",
       "      width: 32px;\n",
       "    }\n",
       "\n",
       "    .colab-df-convert:hover {\n",
       "      background-color: #E2EBFA;\n",
       "      box-shadow: 0px 1px 2px rgba(60, 64, 67, 0.3), 0px 1px 3px 1px rgba(60, 64, 67, 0.15);\n",
       "      fill: #174EA6;\n",
       "    }\n",
       "\n",
       "    [theme=dark] .colab-df-convert {\n",
       "      background-color: #3B4455;\n",
       "      fill: #D2E3FC;\n",
       "    }\n",
       "\n",
       "    [theme=dark] .colab-df-convert:hover {\n",
       "      background-color: #434B5C;\n",
       "      box-shadow: 0px 1px 3px 1px rgba(0, 0, 0, 0.15);\n",
       "      filter: drop-shadow(0px 1px 2px rgba(0, 0, 0, 0.3));\n",
       "      fill: #FFFFFF;\n",
       "    }\n",
       "  </style>\n",
       "\n",
       "      <script>\n",
       "        const buttonEl =\n",
       "          document.querySelector('#df-82f7d3ee-23cf-44f8-a330-2c2107e432d3 button.colab-df-convert');\n",
       "        buttonEl.style.display =\n",
       "          google.colab.kernel.accessAllowed ? 'block' : 'none';\n",
       "\n",
       "        async function convertToInteractive(key) {\n",
       "          const element = document.querySelector('#df-82f7d3ee-23cf-44f8-a330-2c2107e432d3');\n",
       "          const dataTable =\n",
       "            await google.colab.kernel.invokeFunction('convertToInteractive',\n",
       "                                                     [key], {});\n",
       "          if (!dataTable) return;\n",
       "\n",
       "          const docLinkHtml = 'Like what you see? Visit the ' +\n",
       "            '<a target=\"_blank\" href=https://colab.research.google.com/notebooks/data_table.ipynb>data table notebook</a>'\n",
       "            + ' to learn more about interactive tables.';\n",
       "          element.innerHTML = '';\n",
       "          dataTable['output_type'] = 'display_data';\n",
       "          await google.colab.output.renderOutput(dataTable, element);\n",
       "          const docLink = document.createElement('div');\n",
       "          docLink.innerHTML = docLinkHtml;\n",
       "          element.appendChild(docLink);\n",
       "        }\n",
       "      </script>\n",
       "    </div>\n",
       "  </div>\n",
       "  "
      ],
      "text/plain": [
       "       danceability  energy  Popularity                  Title  \\\n",
       "89244        0.9800   0.713      265.00  chanel  - from jxmtro   \n",
       "85567        0.9780   0.477     5825.00                    uno   \n",
       "85568        0.9780   0.477     2220.00                    uno   \n",
       "94625        0.9750   0.535    22790.50           funky friday   \n",
       "94624        0.9750   0.535    73267.80           funky friday   \n",
       "...             ...     ...         ...                    ...   \n",
       "55417        0.1250   0.174       38.40           silent night   \n",
       "55416        0.1250   0.174        8.80           silent night   \n",
       "55415        0.1250   0.174      596.80           silent night   \n",
       "55414        0.1250   0.174      406.45           silent night   \n",
       "94774        0.0807   0.262       55.20         auld lang syne   \n",
       "\n",
       "                                                  Artist            Genre  \n",
       "89244  Rae Sremmurd - Swae Lee - Slim Jxmmi - Pharrel...          hip hop  \n",
       "85567                                            Ambjaay         cali rap  \n",
       "85568                                            Ambjaay         cali rap  \n",
       "94625                                       Dave - Fredo       uk hip hop  \n",
       "94624                                       Dave - Fredo       uk hip hop  \n",
       "...                                                  ...              ...  \n",
       "55417                                         Carpenters  adult standards  \n",
       "55416                                         Carpenters  adult standards  \n",
       "55415                                         Carpenters  adult standards  \n",
       "55414                                         Carpenters  adult standards  \n",
       "94774  The Band Of Her Majesty's Royal Marines & Pipe...    military band  \n",
       "\n",
       "[100000 rows x 6 columns]"
      ]
     },
     "execution_count": 31,
     "metadata": {},
     "output_type": "execute_result"
    }
   ],
   "source": [
    "higest_danceability_songs = df[['danceability','energy','Popularity','Title','Artist','Genre']].sort_values(by = 'danceability', ascending = False)\n",
    "higest_danceability_songs"
   ]
  },
  {
   "cell_type": "code",
   "execution_count": 32,
   "metadata": {
    "colab": {
     "base_uri": "https://localhost:8080/",
     "height": 542,
     "output_embedded_package_id": "1Zl4bwBlColP60t2p-op1hy1KBur-lTO-"
    },
    "executionInfo": {
     "elapsed": 5947,
     "status": "ok",
     "timestamp": 1673541691224,
     "user": {
      "displayName": "Ritu Singh",
      "userId": "11452320716915109322"
     },
     "user_tz": -330
    },
    "id": "fLx6b9mi24yC",
    "outputId": "0de5ed48-1ce8-45cb-c960-0628dd440499"
   },
   "outputs": [
    {
     "data": {
      "text/plain": [
       "Output hidden; open in https://colab.research.google.com to view."
      ]
     },
     "metadata": {},
     "output_type": "display_data"
    }
   ],
   "source": [
    "fig=px.scatter(higest_danceability_songs,y='danceability',x='energy',color='Popularity',\n",
    "               size='Popularity', hover_data=(['Artist','Title', 'Genre']),opacity=.5)\n",
    "fig.update_layout(xaxis_title='Energy',\n",
    "                  yaxis_title='Danceability',\n",
    "                  title='Artist names with the high danceability song',\n",
    "                  font_color='brown',\n",
    "                  title_font_color='green',\n",
    "                  font=dict(size=16))\n",
    "fig.show()"
   ]
  },
  {
   "cell_type": "markdown",
   "metadata": {
    "id": "-Q2Crq2O8uy3"
   },
   "source": [
    "### 3.   Find Top 10 songs by popularity."
   ]
  },
  {
   "cell_type": "code",
   "execution_count": 33,
   "metadata": {
    "colab": {
     "base_uri": "https://localhost:8080/",
     "height": 542
    },
    "executionInfo": {
     "elapsed": 67,
     "status": "ok",
     "timestamp": 1673541691228,
     "user": {
      "displayName": "Ritu Singh",
      "userId": "11452320716915109322"
     },
     "user_tz": -330
    },
    "id": "AaYml_Mru8UQ",
    "outputId": "9d9b8b45-d1cb-4e2a-e523-ca6469db7140"
   },
   "outputs": [
    {
     "data": {
      "text/html": [
       "<html>\n",
       "<head><meta charset=\"utf-8\" /></head>\n",
       "<body>\n",
       "    <div>            <script src=\"https://cdnjs.cloudflare.com/ajax/libs/mathjax/2.7.5/MathJax.js?config=TeX-AMS-MML_SVG\"></script><script type=\"text/javascript\">if (window.MathJax) {MathJax.Hub.Config({SVG: {font: \"STIX-Web\"}});}</script>                <script type=\"text/javascript\">window.PlotlyConfig = {MathJaxConfig: 'local'};</script>\n",
       "        <script src=\"https://cdn.plot.ly/plotly-2.8.3.min.js\"></script>                <div id=\"5f0ea680-5533-4cd8-94a7-be6b130de297\" class=\"plotly-graph-div\" style=\"height:525px; width:100%;\"></div>            <script type=\"text/javascript\">                                    window.PLOTLYENV=window.PLOTLYENV || {};                                    if (document.getElementById(\"5f0ea680-5533-4cd8-94a7-be6b130de297\")) {                    Plotly.newPlot(                        \"5f0ea680-5533-4cd8-94a7-be6b130de297\",                        [{\"alignmentgroup\":\"True\",\"bingroup\":\"x\",\"histfunc\":\"sum\",\"hovertemplate\":\"Artist=Ed Sheeran<br>Title=%{x}<br>sum of Popularity=%{y}<extra></extra>\",\"legendgroup\":\"Ed Sheeran\",\"marker\":{\"color\":\"#636efa\",\"pattern\":{\"shape\":\"\"}},\"name\":\"Ed Sheeran\",\"offsetgroup\":\"Ed Sheeran\",\"orientation\":\"v\",\"showlegend\":true,\"x\":[\"shape of you\",\"shape of you\",\"shape of you\",\"shape of you\",\"shape of you\",\"perfect\",\"shape of you\",\"shape of you\",\"perfect\",\"shape of you\",\"shape of you\",\"shape of you\",\"shape of you\",\"shape of you\",\"perfect\",\"shape of you\",\"shape of you\",\"shape of you\",\"shape of you\",\"shape of you\",\"shape of you\",\"shape of you\",\"perfect\",\"shape of you\",\"shape of you\"],\"xaxis\":\"x\",\"y\":[233766.89999999988,228707.1999999991,221570.99999999988,217307.39999999944,202433.55000000037,199134.3500000001,197579.85,197177.09999999995,196383.44999999992,192313.8000000001,191873.7999999995,189351.85000000027,172096.3000000002,169428.80000000034,167086.70000000045,166852.64999999994,166625.95000000016,165534.55000000034,163554.64999999973,158580.45000000007,158103.4500000003,158055.35000000027,156279.30000000054,153784.3000000002,151256.15000000026],\"yaxis\":\"y\",\"type\":\"histogram\"},{\"alignmentgroup\":\"True\",\"bingroup\":\"x\",\"histfunc\":\"sum\",\"hovertemplate\":\"Artist=James Arthur<br>Title=%{x}<br>sum of Popularity=%{y}<extra></extra>\",\"legendgroup\":\"James Arthur\",\"marker\":{\"color\":\"#EF553B\",\"pattern\":{\"shape\":\"\"}},\"name\":\"James Arthur\",\"offsetgroup\":\"James Arthur\",\"orientation\":\"v\",\"showlegend\":true,\"x\":[\"say you wont let go\",\"say you wont let go\",\"say you wont let go\",\"say you wont let go\"],\"xaxis\":\"x\",\"y\":[217605.7999999995,208073.5999999997,207858.15,167452.69999999958],\"yaxis\":\"y\",\"type\":\"histogram\"},{\"alignmentgroup\":\"True\",\"bingroup\":\"x\",\"histfunc\":\"sum\",\"hovertemplate\":\"Artist=The Chainsmokers - Coldplay<br>Title=%{x}<br>sum of Popularity=%{y}<extra></extra>\",\"legendgroup\":\"The Chainsmokers - Coldplay\",\"marker\":{\"color\":\"#00cc96\",\"pattern\":{\"shape\":\"\"}},\"name\":\"The Chainsmokers - Coldplay\",\"offsetgroup\":\"The Chainsmokers - Coldplay\",\"orientation\":\"v\",\"showlegend\":true,\"x\":[\"something just like this\",\"something just like this\"],\"xaxis\":\"x\",\"y\":[198230.1500000001,172517.89999999973],\"yaxis\":\"y\",\"type\":\"histogram\"},{\"alignmentgroup\":\"True\",\"bingroup\":\"x\",\"histfunc\":\"sum\",\"hovertemplate\":\"Artist=Danny Ocean<br>Title=%{x}<br>sum of Popularity=%{y}<extra></extra>\",\"legendgroup\":\"Danny Ocean\",\"marker\":{\"color\":\"#ab63fa\",\"pattern\":{\"shape\":\"\"}},\"name\":\"Danny Ocean\",\"offsetgroup\":\"Danny Ocean\",\"orientation\":\"v\",\"showlegend\":true,\"x\":[\"me reh\\u00faso\",\"me reh\\u00faso\",\"me reh\\u00faso\",\"me reh\\u00faso\",\"me reh\\u00faso\",\"me reh\\u00faso\"],\"xaxis\":\"x\",\"y\":[174073.60000000062,172164.99999999994,170998.1499999999,164027.45000000068,161841.25000000015,156568.90000000093],\"yaxis\":\"y\",\"type\":\"histogram\"},{\"alignmentgroup\":\"True\",\"bingroup\":\"x\",\"histfunc\":\"sum\",\"hovertemplate\":\"Artist=Tones And I<br>Title=%{x}<br>sum of Popularity=%{y}<extra></extra>\",\"legendgroup\":\"Tones And I\",\"marker\":{\"color\":\"#FFA15A\",\"pattern\":{\"shape\":\"\"}},\"name\":\"Tones And I\",\"offsetgroup\":\"Tones And I\",\"orientation\":\"v\",\"showlegend\":true,\"x\":[\"dance monkey\",\"dance monkey\",\"dance monkey\",\"dance monkey\",\"dance monkey\"],\"xaxis\":\"x\",\"y\":[163481.10000000006,160280.69999999998,157269.99999999985,156887.25000000006,152246.00000000006],\"yaxis\":\"y\",\"type\":\"histogram\"},{\"alignmentgroup\":\"True\",\"bingroup\":\"x\",\"histfunc\":\"sum\",\"hovertemplate\":\"Artist=J Balvin - Zion & Lennox<br>Title=%{x}<br>sum of Popularity=%{y}<extra></extra>\",\"legendgroup\":\"J Balvin - Zion & Lennox\",\"marker\":{\"color\":\"#19d3f3\",\"pattern\":{\"shape\":\"\"}},\"name\":\"J Balvin - Zion & Lennox\",\"offsetgroup\":\"J Balvin - Zion & Lennox\",\"orientation\":\"v\",\"showlegend\":true,\"x\":[\"no es justo\"],\"xaxis\":\"x\",\"y\":[156788.60000000018],\"yaxis\":\"y\",\"type\":\"histogram\"},{\"alignmentgroup\":\"True\",\"bingroup\":\"x\",\"histfunc\":\"sum\",\"hovertemplate\":\"Artist=Post Malone<br>Title=%{x}<br>sum of Popularity=%{y}<extra></extra>\",\"legendgroup\":\"Post Malone\",\"marker\":{\"color\":\"#FF6692\",\"pattern\":{\"shape\":\"\"}},\"name\":\"Post Malone\",\"offsetgroup\":\"Post Malone\",\"orientation\":\"v\",\"showlegend\":true,\"x\":[\"i fall apart\",\"i fall apart\"],\"xaxis\":\"x\",\"y\":[156620.25000000006,155854.84999999998],\"yaxis\":\"y\",\"type\":\"histogram\"},{\"alignmentgroup\":\"True\",\"bingroup\":\"x\",\"histfunc\":\"sum\",\"hovertemplate\":\"Artist=Zion & Lennox - J Balvin<br>Title=%{x}<br>sum of Popularity=%{y}<extra></extra>\",\"legendgroup\":\"Zion & Lennox - J Balvin\",\"marker\":{\"color\":\"#B6E880\",\"pattern\":{\"shape\":\"\"}},\"name\":\"Zion & Lennox - J Balvin\",\"offsetgroup\":\"Zion & Lennox - J Balvin\",\"orientation\":\"v\",\"showlegend\":true,\"x\":[\"otra vez\"],\"xaxis\":\"x\",\"y\":[156216.89999999985],\"yaxis\":\"y\",\"type\":\"histogram\"},{\"alignmentgroup\":\"True\",\"bingroup\":\"x\",\"histfunc\":\"sum\",\"hovertemplate\":\"Artist=Luis Miguel<br>Title=%{x}<br>sum of Popularity=%{y}<extra></extra>\",\"legendgroup\":\"Luis Miguel\",\"marker\":{\"color\":\"#FF97FF\",\"pattern\":{\"shape\":\"\"}},\"name\":\"Luis Miguel\",\"offsetgroup\":\"Luis Miguel\",\"orientation\":\"v\",\"showlegend\":true,\"x\":[\"ahora te puedes marchar\"],\"xaxis\":\"x\",\"y\":[149127.7500000002],\"yaxis\":\"y\",\"type\":\"histogram\"},{\"alignmentgroup\":\"True\",\"bingroup\":\"x\",\"histfunc\":\"sum\",\"hovertemplate\":\"Artist=Lady Gaga - Bradley Cooper<br>Title=%{x}<br>sum of Popularity=%{y}<extra></extra>\",\"legendgroup\":\"Lady Gaga - Bradley Cooper\",\"marker\":{\"color\":\"#FECB52\",\"pattern\":{\"shape\":\"\"}},\"name\":\"Lady Gaga - Bradley Cooper\",\"offsetgroup\":\"Lady Gaga - Bradley Cooper\",\"orientation\":\"v\",\"showlegend\":true,\"x\":[\"shallow\"],\"xaxis\":\"x\",\"y\":[148743.25000000026],\"yaxis\":\"y\",\"type\":\"histogram\"},{\"alignmentgroup\":\"True\",\"bingroup\":\"x\",\"histfunc\":\"sum\",\"hovertemplate\":\"Artist=Sam Smith<br>Title=%{x}<br>sum of Popularity=%{y}<extra></extra>\",\"legendgroup\":\"Sam Smith\",\"marker\":{\"color\":\"#636efa\",\"pattern\":{\"shape\":\"\"}},\"name\":\"Sam Smith\",\"offsetgroup\":\"Sam Smith\",\"orientation\":\"v\",\"showlegend\":true,\"x\":[\"too good at goodbyes\"],\"xaxis\":\"x\",\"y\":[148267.35000000015],\"yaxis\":\"y\",\"type\":\"histogram\"},{\"alignmentgroup\":\"True\",\"bingroup\":\"x\",\"histfunc\":\"sum\",\"hovertemplate\":\"Artist=H.E.R. - Daniel Caesar<br>Title=%{x}<br>sum of Popularity=%{y}<extra></extra>\",\"legendgroup\":\"H.E.R. - Daniel Caesar\",\"marker\":{\"color\":\"#EF553B\",\"pattern\":{\"shape\":\"\"}},\"name\":\"H.E.R. - Daniel Caesar\",\"offsetgroup\":\"H.E.R. - Daniel Caesar\",\"orientation\":\"v\",\"showlegend\":true,\"x\":[\"best part\"],\"xaxis\":\"x\",\"y\":[148203.75000000012],\"yaxis\":\"y\",\"type\":\"histogram\"}],                        {\"template\":{\"data\":{\"bar\":[{\"error_x\":{\"color\":\"#2a3f5f\"},\"error_y\":{\"color\":\"#2a3f5f\"},\"marker\":{\"line\":{\"color\":\"#E5ECF6\",\"width\":0.5},\"pattern\":{\"fillmode\":\"overlay\",\"size\":10,\"solidity\":0.2}},\"type\":\"bar\"}],\"barpolar\":[{\"marker\":{\"line\":{\"color\":\"#E5ECF6\",\"width\":0.5},\"pattern\":{\"fillmode\":\"overlay\",\"size\":10,\"solidity\":0.2}},\"type\":\"barpolar\"}],\"carpet\":[{\"aaxis\":{\"endlinecolor\":\"#2a3f5f\",\"gridcolor\":\"white\",\"linecolor\":\"white\",\"minorgridcolor\":\"white\",\"startlinecolor\":\"#2a3f5f\"},\"baxis\":{\"endlinecolor\":\"#2a3f5f\",\"gridcolor\":\"white\",\"linecolor\":\"white\",\"minorgridcolor\":\"white\",\"startlinecolor\":\"#2a3f5f\"},\"type\":\"carpet\"}],\"choropleth\":[{\"colorbar\":{\"outlinewidth\":0,\"ticks\":\"\"},\"type\":\"choropleth\"}],\"contour\":[{\"colorbar\":{\"outlinewidth\":0,\"ticks\":\"\"},\"colorscale\":[[0.0,\"#0d0887\"],[0.1111111111111111,\"#46039f\"],[0.2222222222222222,\"#7201a8\"],[0.3333333333333333,\"#9c179e\"],[0.4444444444444444,\"#bd3786\"],[0.5555555555555556,\"#d8576b\"],[0.6666666666666666,\"#ed7953\"],[0.7777777777777778,\"#fb9f3a\"],[0.8888888888888888,\"#fdca26\"],[1.0,\"#f0f921\"]],\"type\":\"contour\"}],\"contourcarpet\":[{\"colorbar\":{\"outlinewidth\":0,\"ticks\":\"\"},\"type\":\"contourcarpet\"}],\"heatmap\":[{\"colorbar\":{\"outlinewidth\":0,\"ticks\":\"\"},\"colorscale\":[[0.0,\"#0d0887\"],[0.1111111111111111,\"#46039f\"],[0.2222222222222222,\"#7201a8\"],[0.3333333333333333,\"#9c179e\"],[0.4444444444444444,\"#bd3786\"],[0.5555555555555556,\"#d8576b\"],[0.6666666666666666,\"#ed7953\"],[0.7777777777777778,\"#fb9f3a\"],[0.8888888888888888,\"#fdca26\"],[1.0,\"#f0f921\"]],\"type\":\"heatmap\"}],\"heatmapgl\":[{\"colorbar\":{\"outlinewidth\":0,\"ticks\":\"\"},\"colorscale\":[[0.0,\"#0d0887\"],[0.1111111111111111,\"#46039f\"],[0.2222222222222222,\"#7201a8\"],[0.3333333333333333,\"#9c179e\"],[0.4444444444444444,\"#bd3786\"],[0.5555555555555556,\"#d8576b\"],[0.6666666666666666,\"#ed7953\"],[0.7777777777777778,\"#fb9f3a\"],[0.8888888888888888,\"#fdca26\"],[1.0,\"#f0f921\"]],\"type\":\"heatmapgl\"}],\"histogram\":[{\"marker\":{\"pattern\":{\"fillmode\":\"overlay\",\"size\":10,\"solidity\":0.2}},\"type\":\"histogram\"}],\"histogram2d\":[{\"colorbar\":{\"outlinewidth\":0,\"ticks\":\"\"},\"colorscale\":[[0.0,\"#0d0887\"],[0.1111111111111111,\"#46039f\"],[0.2222222222222222,\"#7201a8\"],[0.3333333333333333,\"#9c179e\"],[0.4444444444444444,\"#bd3786\"],[0.5555555555555556,\"#d8576b\"],[0.6666666666666666,\"#ed7953\"],[0.7777777777777778,\"#fb9f3a\"],[0.8888888888888888,\"#fdca26\"],[1.0,\"#f0f921\"]],\"type\":\"histogram2d\"}],\"histogram2dcontour\":[{\"colorbar\":{\"outlinewidth\":0,\"ticks\":\"\"},\"colorscale\":[[0.0,\"#0d0887\"],[0.1111111111111111,\"#46039f\"],[0.2222222222222222,\"#7201a8\"],[0.3333333333333333,\"#9c179e\"],[0.4444444444444444,\"#bd3786\"],[0.5555555555555556,\"#d8576b\"],[0.6666666666666666,\"#ed7953\"],[0.7777777777777778,\"#fb9f3a\"],[0.8888888888888888,\"#fdca26\"],[1.0,\"#f0f921\"]],\"type\":\"histogram2dcontour\"}],\"mesh3d\":[{\"colorbar\":{\"outlinewidth\":0,\"ticks\":\"\"},\"type\":\"mesh3d\"}],\"parcoords\":[{\"line\":{\"colorbar\":{\"outlinewidth\":0,\"ticks\":\"\"}},\"type\":\"parcoords\"}],\"pie\":[{\"automargin\":true,\"type\":\"pie\"}],\"scatter\":[{\"marker\":{\"colorbar\":{\"outlinewidth\":0,\"ticks\":\"\"}},\"type\":\"scatter\"}],\"scatter3d\":[{\"line\":{\"colorbar\":{\"outlinewidth\":0,\"ticks\":\"\"}},\"marker\":{\"colorbar\":{\"outlinewidth\":0,\"ticks\":\"\"}},\"type\":\"scatter3d\"}],\"scattercarpet\":[{\"marker\":{\"colorbar\":{\"outlinewidth\":0,\"ticks\":\"\"}},\"type\":\"scattercarpet\"}],\"scattergeo\":[{\"marker\":{\"colorbar\":{\"outlinewidth\":0,\"ticks\":\"\"}},\"type\":\"scattergeo\"}],\"scattergl\":[{\"marker\":{\"colorbar\":{\"outlinewidth\":0,\"ticks\":\"\"}},\"type\":\"scattergl\"}],\"scattermapbox\":[{\"marker\":{\"colorbar\":{\"outlinewidth\":0,\"ticks\":\"\"}},\"type\":\"scattermapbox\"}],\"scatterpolar\":[{\"marker\":{\"colorbar\":{\"outlinewidth\":0,\"ticks\":\"\"}},\"type\":\"scatterpolar\"}],\"scatterpolargl\":[{\"marker\":{\"colorbar\":{\"outlinewidth\":0,\"ticks\":\"\"}},\"type\":\"scatterpolargl\"}],\"scatterternary\":[{\"marker\":{\"colorbar\":{\"outlinewidth\":0,\"ticks\":\"\"}},\"type\":\"scatterternary\"}],\"surface\":[{\"colorbar\":{\"outlinewidth\":0,\"ticks\":\"\"},\"colorscale\":[[0.0,\"#0d0887\"],[0.1111111111111111,\"#46039f\"],[0.2222222222222222,\"#7201a8\"],[0.3333333333333333,\"#9c179e\"],[0.4444444444444444,\"#bd3786\"],[0.5555555555555556,\"#d8576b\"],[0.6666666666666666,\"#ed7953\"],[0.7777777777777778,\"#fb9f3a\"],[0.8888888888888888,\"#fdca26\"],[1.0,\"#f0f921\"]],\"type\":\"surface\"}],\"table\":[{\"cells\":{\"fill\":{\"color\":\"#EBF0F8\"},\"line\":{\"color\":\"white\"}},\"header\":{\"fill\":{\"color\":\"#C8D4E3\"},\"line\":{\"color\":\"white\"}},\"type\":\"table\"}]},\"layout\":{\"annotationdefaults\":{\"arrowcolor\":\"#2a3f5f\",\"arrowhead\":0,\"arrowwidth\":1},\"autotypenumbers\":\"strict\",\"coloraxis\":{\"colorbar\":{\"outlinewidth\":0,\"ticks\":\"\"}},\"colorscale\":{\"diverging\":[[0,\"#8e0152\"],[0.1,\"#c51b7d\"],[0.2,\"#de77ae\"],[0.3,\"#f1b6da\"],[0.4,\"#fde0ef\"],[0.5,\"#f7f7f7\"],[0.6,\"#e6f5d0\"],[0.7,\"#b8e186\"],[0.8,\"#7fbc41\"],[0.9,\"#4d9221\"],[1,\"#276419\"]],\"sequential\":[[0.0,\"#0d0887\"],[0.1111111111111111,\"#46039f\"],[0.2222222222222222,\"#7201a8\"],[0.3333333333333333,\"#9c179e\"],[0.4444444444444444,\"#bd3786\"],[0.5555555555555556,\"#d8576b\"],[0.6666666666666666,\"#ed7953\"],[0.7777777777777778,\"#fb9f3a\"],[0.8888888888888888,\"#fdca26\"],[1.0,\"#f0f921\"]],\"sequentialminus\":[[0.0,\"#0d0887\"],[0.1111111111111111,\"#46039f\"],[0.2222222222222222,\"#7201a8\"],[0.3333333333333333,\"#9c179e\"],[0.4444444444444444,\"#bd3786\"],[0.5555555555555556,\"#d8576b\"],[0.6666666666666666,\"#ed7953\"],[0.7777777777777778,\"#fb9f3a\"],[0.8888888888888888,\"#fdca26\"],[1.0,\"#f0f921\"]]},\"colorway\":[\"#636efa\",\"#EF553B\",\"#00cc96\",\"#ab63fa\",\"#FFA15A\",\"#19d3f3\",\"#FF6692\",\"#B6E880\",\"#FF97FF\",\"#FECB52\"],\"font\":{\"color\":\"#2a3f5f\"},\"geo\":{\"bgcolor\":\"white\",\"lakecolor\":\"white\",\"landcolor\":\"#E5ECF6\",\"showlakes\":true,\"showland\":true,\"subunitcolor\":\"white\"},\"hoverlabel\":{\"align\":\"left\"},\"hovermode\":\"closest\",\"mapbox\":{\"style\":\"light\"},\"paper_bgcolor\":\"white\",\"plot_bgcolor\":\"#E5ECF6\",\"polar\":{\"angularaxis\":{\"gridcolor\":\"white\",\"linecolor\":\"white\",\"ticks\":\"\"},\"bgcolor\":\"#E5ECF6\",\"radialaxis\":{\"gridcolor\":\"white\",\"linecolor\":\"white\",\"ticks\":\"\"}},\"scene\":{\"xaxis\":{\"backgroundcolor\":\"#E5ECF6\",\"gridcolor\":\"white\",\"gridwidth\":2,\"linecolor\":\"white\",\"showbackground\":true,\"ticks\":\"\",\"zerolinecolor\":\"white\"},\"yaxis\":{\"backgroundcolor\":\"#E5ECF6\",\"gridcolor\":\"white\",\"gridwidth\":2,\"linecolor\":\"white\",\"showbackground\":true,\"ticks\":\"\",\"zerolinecolor\":\"white\"},\"zaxis\":{\"backgroundcolor\":\"#E5ECF6\",\"gridcolor\":\"white\",\"gridwidth\":2,\"linecolor\":\"white\",\"showbackground\":true,\"ticks\":\"\",\"zerolinecolor\":\"white\"}},\"shapedefaults\":{\"line\":{\"color\":\"#2a3f5f\"}},\"ternary\":{\"aaxis\":{\"gridcolor\":\"white\",\"linecolor\":\"white\",\"ticks\":\"\"},\"baxis\":{\"gridcolor\":\"white\",\"linecolor\":\"white\",\"ticks\":\"\"},\"bgcolor\":\"#E5ECF6\",\"caxis\":{\"gridcolor\":\"white\",\"linecolor\":\"white\",\"ticks\":\"\"}},\"title\":{\"x\":0.05},\"xaxis\":{\"automargin\":true,\"gridcolor\":\"white\",\"linecolor\":\"white\",\"ticks\":\"\",\"title\":{\"standoff\":15},\"zerolinecolor\":\"white\",\"zerolinewidth\":2},\"yaxis\":{\"automargin\":true,\"gridcolor\":\"white\",\"linecolor\":\"white\",\"ticks\":\"\",\"title\":{\"standoff\":15},\"zerolinecolor\":\"white\",\"zerolinewidth\":2}}},\"xaxis\":{\"anchor\":\"y\",\"domain\":[0.0,1.0],\"title\":{\"text\":\"Title\"}},\"yaxis\":{\"anchor\":\"x\",\"domain\":[0.0,1.0],\"title\":{\"text\":\"Popularity\"}},\"legend\":{\"title\":{\"text\":\"Artist\"},\"tracegroupgap\":0},\"margin\":{\"t\":60},\"barmode\":\"relative\"},                        {\"responsive\": true}                    ).then(function(){\n",
       "                            \n",
       "var gd = document.getElementById('5f0ea680-5533-4cd8-94a7-be6b130de297');\n",
       "var x = new MutationObserver(function (mutations, observer) {{\n",
       "        var display = window.getComputedStyle(gd).display;\n",
       "        if (!display || display === 'none') {{\n",
       "            console.log([gd, 'removed!']);\n",
       "            Plotly.purge(gd);\n",
       "            observer.disconnect();\n",
       "        }}\n",
       "}});\n",
       "\n",
       "// Listen for the removal of the full notebook cells\n",
       "var notebookContainer = gd.closest('#notebook-container');\n",
       "if (notebookContainer) {{\n",
       "    x.observe(notebookContainer, {childList: true});\n",
       "}}\n",
       "\n",
       "// Listen for the clearing of the current output cell\n",
       "var outputEl = gd.closest('.output');\n",
       "if (outputEl) {{\n",
       "    x.observe(outputEl, {childList: true});\n",
       "}}\n",
       "\n",
       "                        })                };                            </script>        </div>\n",
       "</body>\n",
       "</html>"
      ]
     },
     "metadata": {},
     "output_type": "display_data"
    }
   ],
   "source": [
    "row=df.sort_values(by=\"Popularity\",ascending=False)[:50]\n",
    "fig=px.histogram(row,x=\"Title\",y=\"Popularity\",color=\"Artist\")\n",
    "fig.update_layout(yaxis_title='Popularity')\n",
    "fig.show()                  \n"
   ]
  },
  {
   "cell_type": "markdown",
   "metadata": {
    "id": "jXO1U0wkFMyE"
   },
   "source": [
    "### 4.   Which are the most popular songs till 2020?"
   ]
  },
  {
   "cell_type": "code",
   "execution_count": 34,
   "metadata": {
    "executionInfo": {
     "elapsed": 70,
     "status": "ok",
     "timestamp": 1673541691234,
     "user": {
      "displayName": "Ritu Singh",
      "userId": "11452320716915109322"
     },
     "user_tz": -330
    },
    "id": "WaJJqbc52CMz"
   },
   "outputs": [],
   "source": [
    "df['Year'] = df['Release_date'].dt.year"
   ]
  },
  {
   "cell_type": "code",
   "execution_count": 35,
   "metadata": {
    "colab": {
     "base_uri": "https://localhost:8080/",
     "height": 423
    },
    "executionInfo": {
     "elapsed": 82,
     "status": "ok",
     "timestamp": 1673541691246,
     "user": {
      "displayName": "Ritu Singh",
      "userId": "11452320716915109322"
     },
     "user_tz": -330
    },
    "id": "dZYqJfowFW5b",
    "outputId": "89e57d34-db55-4be6-8bfd-eb71b9616fa0"
   },
   "outputs": [
    {
     "data": {
      "text/html": [
       "\n",
       "  <div id=\"df-ec7d3e86-4f2d-4f20-b8c0-e5597de4006e\">\n",
       "    <div class=\"colab-df-container\">\n",
       "      <div>\n",
       "<style scoped>\n",
       "    .dataframe tbody tr th:only-of-type {\n",
       "        vertical-align: middle;\n",
       "    }\n",
       "\n",
       "    .dataframe tbody tr th {\n",
       "        vertical-align: top;\n",
       "    }\n",
       "\n",
       "    .dataframe thead th {\n",
       "        text-align: right;\n",
       "    }\n",
       "</style>\n",
       "<table border=\"1\" class=\"dataframe\">\n",
       "  <thead>\n",
       "    <tr style=\"text-align: right;\">\n",
       "      <th></th>\n",
       "      <th>Title</th>\n",
       "      <th>Artist</th>\n",
       "      <th>Release_date</th>\n",
       "      <th>Popularity</th>\n",
       "      <th>Year</th>\n",
       "    </tr>\n",
       "  </thead>\n",
       "  <tbody>\n",
       "    <tr>\n",
       "      <th>45375</th>\n",
       "      <td>hawái - remix</td>\n",
       "      <td>Maluma - The Weeknd</td>\n",
       "      <td>2020-11-05</td>\n",
       "      <td>17.60</td>\n",
       "      <td>2020</td>\n",
       "    </tr>\n",
       "    <tr>\n",
       "      <th>45374</th>\n",
       "      <td>hawái - remix</td>\n",
       "      <td>Maluma - The Weeknd</td>\n",
       "      <td>2020-11-05</td>\n",
       "      <td>178.00</td>\n",
       "      <td>2020</td>\n",
       "    </tr>\n",
       "    <tr>\n",
       "      <th>45377</th>\n",
       "      <td>hawái - remix</td>\n",
       "      <td>Maluma - The Weeknd</td>\n",
       "      <td>2020-11-05</td>\n",
       "      <td>168.00</td>\n",
       "      <td>2020</td>\n",
       "    </tr>\n",
       "    <tr>\n",
       "      <th>45376</th>\n",
       "      <td>hawái - remix</td>\n",
       "      <td>Maluma - The Weeknd</td>\n",
       "      <td>2020-11-05</td>\n",
       "      <td>183.00</td>\n",
       "      <td>2020</td>\n",
       "    </tr>\n",
       "    <tr>\n",
       "      <th>45367</th>\n",
       "      <td>hawái - remix</td>\n",
       "      <td>Maluma - The Weeknd</td>\n",
       "      <td>2020-11-05</td>\n",
       "      <td>100.30</td>\n",
       "      <td>2020</td>\n",
       "    </tr>\n",
       "    <tr>\n",
       "      <th>...</th>\n",
       "      <td>...</td>\n",
       "      <td>...</td>\n",
       "      <td>...</td>\n",
       "      <td>...</td>\n",
       "      <td>...</td>\n",
       "    </tr>\n",
       "    <tr>\n",
       "      <th>32275</th>\n",
       "      <td>never change</td>\n",
       "      <td>Trippie Redd - Future</td>\n",
       "      <td>2020-10-30</td>\n",
       "      <td>86.70</td>\n",
       "      <td>2020</td>\n",
       "    </tr>\n",
       "    <tr>\n",
       "      <th>32274</th>\n",
       "      <td>never change</td>\n",
       "      <td>Trippie Redd - Future</td>\n",
       "      <td>2020-10-30</td>\n",
       "      <td>378.75</td>\n",
       "      <td>2020</td>\n",
       "    </tr>\n",
       "    <tr>\n",
       "      <th>32273</th>\n",
       "      <td>never change</td>\n",
       "      <td>Trippie Redd - Future</td>\n",
       "      <td>2020-10-30</td>\n",
       "      <td>61.60</td>\n",
       "      <td>2020</td>\n",
       "    </tr>\n",
       "    <tr>\n",
       "      <th>89357</th>\n",
       "      <td>sleepy hollow</td>\n",
       "      <td>Trippie Redd</td>\n",
       "      <td>2020-10-30</td>\n",
       "      <td>530.75</td>\n",
       "      <td>2020</td>\n",
       "    </tr>\n",
       "    <tr>\n",
       "      <th>68471</th>\n",
       "      <td>1x1</td>\n",
       "      <td>Bring Me The Horizon - Nova Twins</td>\n",
       "      <td>2020-10-30</td>\n",
       "      <td>206.65</td>\n",
       "      <td>2020</td>\n",
       "    </tr>\n",
       "  </tbody>\n",
       "</table>\n",
       "<p>100 rows × 5 columns</p>\n",
       "</div>\n",
       "      <button class=\"colab-df-convert\" onclick=\"convertToInteractive('df-ec7d3e86-4f2d-4f20-b8c0-e5597de4006e')\"\n",
       "              title=\"Convert this dataframe to an interactive table.\"\n",
       "              style=\"display:none;\">\n",
       "        \n",
       "  <svg xmlns=\"http://www.w3.org/2000/svg\" height=\"24px\"viewBox=\"0 0 24 24\"\n",
       "       width=\"24px\">\n",
       "    <path d=\"M0 0h24v24H0V0z\" fill=\"none\"/>\n",
       "    <path d=\"M18.56 5.44l.94 2.06.94-2.06 2.06-.94-2.06-.94-.94-2.06-.94 2.06-2.06.94zm-11 1L8.5 8.5l.94-2.06 2.06-.94-2.06-.94L8.5 2.5l-.94 2.06-2.06.94zm10 10l.94 2.06.94-2.06 2.06-.94-2.06-.94-.94-2.06-.94 2.06-2.06.94z\"/><path d=\"M17.41 7.96l-1.37-1.37c-.4-.4-.92-.59-1.43-.59-.52 0-1.04.2-1.43.59L10.3 9.45l-7.72 7.72c-.78.78-.78 2.05 0 2.83L4 21.41c.39.39.9.59 1.41.59.51 0 1.02-.2 1.41-.59l7.78-7.78 2.81-2.81c.8-.78.8-2.07 0-2.86zM5.41 20L4 18.59l7.72-7.72 1.47 1.35L5.41 20z\"/>\n",
       "  </svg>\n",
       "      </button>\n",
       "      \n",
       "  <style>\n",
       "    .colab-df-container {\n",
       "      display:flex;\n",
       "      flex-wrap:wrap;\n",
       "      gap: 12px;\n",
       "    }\n",
       "\n",
       "    .colab-df-convert {\n",
       "      background-color: #E8F0FE;\n",
       "      border: none;\n",
       "      border-radius: 50%;\n",
       "      cursor: pointer;\n",
       "      display: none;\n",
       "      fill: #1967D2;\n",
       "      height: 32px;\n",
       "      padding: 0 0 0 0;\n",
       "      width: 32px;\n",
       "    }\n",
       "\n",
       "    .colab-df-convert:hover {\n",
       "      background-color: #E2EBFA;\n",
       "      box-shadow: 0px 1px 2px rgba(60, 64, 67, 0.3), 0px 1px 3px 1px rgba(60, 64, 67, 0.15);\n",
       "      fill: #174EA6;\n",
       "    }\n",
       "\n",
       "    [theme=dark] .colab-df-convert {\n",
       "      background-color: #3B4455;\n",
       "      fill: #D2E3FC;\n",
       "    }\n",
       "\n",
       "    [theme=dark] .colab-df-convert:hover {\n",
       "      background-color: #434B5C;\n",
       "      box-shadow: 0px 1px 3px 1px rgba(0, 0, 0, 0.15);\n",
       "      filter: drop-shadow(0px 1px 2px rgba(0, 0, 0, 0.3));\n",
       "      fill: #FFFFFF;\n",
       "    }\n",
       "  </style>\n",
       "\n",
       "      <script>\n",
       "        const buttonEl =\n",
       "          document.querySelector('#df-ec7d3e86-4f2d-4f20-b8c0-e5597de4006e button.colab-df-convert');\n",
       "        buttonEl.style.display =\n",
       "          google.colab.kernel.accessAllowed ? 'block' : 'none';\n",
       "\n",
       "        async function convertToInteractive(key) {\n",
       "          const element = document.querySelector('#df-ec7d3e86-4f2d-4f20-b8c0-e5597de4006e');\n",
       "          const dataTable =\n",
       "            await google.colab.kernel.invokeFunction('convertToInteractive',\n",
       "                                                     [key], {});\n",
       "          if (!dataTable) return;\n",
       "\n",
       "          const docLinkHtml = 'Like what you see? Visit the ' +\n",
       "            '<a target=\"_blank\" href=https://colab.research.google.com/notebooks/data_table.ipynb>data table notebook</a>'\n",
       "            + ' to learn more about interactive tables.';\n",
       "          element.innerHTML = '';\n",
       "          dataTable['output_type'] = 'display_data';\n",
       "          await google.colab.output.renderOutput(dataTable, element);\n",
       "          const docLink = document.createElement('div');\n",
       "          docLink.innerHTML = docLinkHtml;\n",
       "          element.appendChild(docLink);\n",
       "        }\n",
       "      </script>\n",
       "    </div>\n",
       "  </div>\n",
       "  "
      ],
      "text/plain": [
       "               Title                             Artist Release_date  \\\n",
       "45375  hawái - remix                Maluma - The Weeknd   2020-11-05   \n",
       "45374  hawái - remix                Maluma - The Weeknd   2020-11-05   \n",
       "45377  hawái - remix                Maluma - The Weeknd   2020-11-05   \n",
       "45376  hawái - remix                Maluma - The Weeknd   2020-11-05   \n",
       "45367  hawái - remix                Maluma - The Weeknd   2020-11-05   \n",
       "...              ...                                ...          ...   \n",
       "32275   never change              Trippie Redd - Future   2020-10-30   \n",
       "32274   never change              Trippie Redd - Future   2020-10-30   \n",
       "32273   never change              Trippie Redd - Future   2020-10-30   \n",
       "89357  sleepy hollow                       Trippie Redd   2020-10-30   \n",
       "68471            1x1  Bring Me The Horizon - Nova Twins   2020-10-30   \n",
       "\n",
       "       Popularity  Year  \n",
       "45375       17.60  2020  \n",
       "45374      178.00  2020  \n",
       "45377      168.00  2020  \n",
       "45376      183.00  2020  \n",
       "45367      100.30  2020  \n",
       "...           ...   ...  \n",
       "32275       86.70  2020  \n",
       "32274      378.75  2020  \n",
       "32273       61.60  2020  \n",
       "89357      530.75  2020  \n",
       "68471      206.65  2020  \n",
       "\n",
       "[100 rows x 5 columns]"
      ]
     },
     "execution_count": 35,
     "metadata": {},
     "output_type": "execute_result"
    }
   ],
   "source": [
    "popular_song = df[[\"Title\",\"Artist\",\"Release_date\",\"Popularity\", 'Year']].sort_values(by=\"Release_date\",ascending=False)[:100]\n",
    "popular_song"
   ]
  },
  {
   "cell_type": "code",
   "execution_count": 36,
   "metadata": {
    "colab": {
     "base_uri": "https://localhost:8080/",
     "height": 542
    },
    "executionInfo": {
     "elapsed": 83,
     "status": "ok",
     "timestamp": 1673541691250,
     "user": {
      "displayName": "Ritu Singh",
      "userId": "11452320716915109322"
     },
     "user_tz": -330
    },
    "id": "Em9nl9DJFXe4",
    "outputId": "add4cf96-fa60-43b7-e1d4-c7bda4d32448"
   },
   "outputs": [
    {
     "data": {
      "text/html": [
       "<html>\n",
       "<head><meta charset=\"utf-8\" /></head>\n",
       "<body>\n",
       "    <div>            <script src=\"https://cdnjs.cloudflare.com/ajax/libs/mathjax/2.7.5/MathJax.js?config=TeX-AMS-MML_SVG\"></script><script type=\"text/javascript\">if (window.MathJax) {MathJax.Hub.Config({SVG: {font: \"STIX-Web\"}});}</script>                <script type=\"text/javascript\">window.PlotlyConfig = {MathJaxConfig: 'local'};</script>\n",
       "        <script src=\"https://cdn.plot.ly/plotly-2.8.3.min.js\"></script>                <div id=\"bd2c4970-de49-4289-814e-f255cacd1a60\" class=\"plotly-graph-div\" style=\"height:525px; width:100%;\"></div>            <script type=\"text/javascript\">                                    window.PLOTLYENV=window.PLOTLYENV || {};                                    if (document.getElementById(\"bd2c4970-de49-4289-814e-f255cacd1a60\")) {                    Plotly.newPlot(                        \"bd2c4970-de49-4289-814e-f255cacd1a60\",                        [{\"alignmentgroup\":\"True\",\"bingroup\":\"x\",\"histfunc\":\"sum\",\"hovertemplate\":\"x=%{x}<br>sum of y=%{y}<extra></extra>\",\"legendgroup\":\"\",\"marker\":{\"color\":\"#636efa\",\"pattern\":{\"shape\":\"\"}},\"name\":\"\",\"offsetgroup\":\"\",\"orientation\":\"v\",\"showlegend\":false,\"x\":[\"1x1\",\"b.l.f.l.\",\"changed\",\"cold world\",\"dakiti\",\"deluded\",\"diamonds\",\"haw\\u00e1i - remix\",\"how do you sleep?\",\"itch for the cure\",\"kingslayer\",\"la luz\",\"let it out\",\"look over your shoulder\",\"losses\",\"love language\",\"never change\",\"off the table\",\"pov\",\"royalty\",\"six thirty\",\"sleepy hollow\"],\"xaxis\":\"x\",\"y\":[13,11,11,10,9,8,7,6,4,4,3,3,2,1,1,1,1,1,1,1,1,1],\"yaxis\":\"y\",\"type\":\"histogram\"}],                        {\"template\":{\"data\":{\"bar\":[{\"error_x\":{\"color\":\"#2a3f5f\"},\"error_y\":{\"color\":\"#2a3f5f\"},\"marker\":{\"line\":{\"color\":\"#E5ECF6\",\"width\":0.5},\"pattern\":{\"fillmode\":\"overlay\",\"size\":10,\"solidity\":0.2}},\"type\":\"bar\"}],\"barpolar\":[{\"marker\":{\"line\":{\"color\":\"#E5ECF6\",\"width\":0.5},\"pattern\":{\"fillmode\":\"overlay\",\"size\":10,\"solidity\":0.2}},\"type\":\"barpolar\"}],\"carpet\":[{\"aaxis\":{\"endlinecolor\":\"#2a3f5f\",\"gridcolor\":\"white\",\"linecolor\":\"white\",\"minorgridcolor\":\"white\",\"startlinecolor\":\"#2a3f5f\"},\"baxis\":{\"endlinecolor\":\"#2a3f5f\",\"gridcolor\":\"white\",\"linecolor\":\"white\",\"minorgridcolor\":\"white\",\"startlinecolor\":\"#2a3f5f\"},\"type\":\"carpet\"}],\"choropleth\":[{\"colorbar\":{\"outlinewidth\":0,\"ticks\":\"\"},\"type\":\"choropleth\"}],\"contour\":[{\"colorbar\":{\"outlinewidth\":0,\"ticks\":\"\"},\"colorscale\":[[0.0,\"#0d0887\"],[0.1111111111111111,\"#46039f\"],[0.2222222222222222,\"#7201a8\"],[0.3333333333333333,\"#9c179e\"],[0.4444444444444444,\"#bd3786\"],[0.5555555555555556,\"#d8576b\"],[0.6666666666666666,\"#ed7953\"],[0.7777777777777778,\"#fb9f3a\"],[0.8888888888888888,\"#fdca26\"],[1.0,\"#f0f921\"]],\"type\":\"contour\"}],\"contourcarpet\":[{\"colorbar\":{\"outlinewidth\":0,\"ticks\":\"\"},\"type\":\"contourcarpet\"}],\"heatmap\":[{\"colorbar\":{\"outlinewidth\":0,\"ticks\":\"\"},\"colorscale\":[[0.0,\"#0d0887\"],[0.1111111111111111,\"#46039f\"],[0.2222222222222222,\"#7201a8\"],[0.3333333333333333,\"#9c179e\"],[0.4444444444444444,\"#bd3786\"],[0.5555555555555556,\"#d8576b\"],[0.6666666666666666,\"#ed7953\"],[0.7777777777777778,\"#fb9f3a\"],[0.8888888888888888,\"#fdca26\"],[1.0,\"#f0f921\"]],\"type\":\"heatmap\"}],\"heatmapgl\":[{\"colorbar\":{\"outlinewidth\":0,\"ticks\":\"\"},\"colorscale\":[[0.0,\"#0d0887\"],[0.1111111111111111,\"#46039f\"],[0.2222222222222222,\"#7201a8\"],[0.3333333333333333,\"#9c179e\"],[0.4444444444444444,\"#bd3786\"],[0.5555555555555556,\"#d8576b\"],[0.6666666666666666,\"#ed7953\"],[0.7777777777777778,\"#fb9f3a\"],[0.8888888888888888,\"#fdca26\"],[1.0,\"#f0f921\"]],\"type\":\"heatmapgl\"}],\"histogram\":[{\"marker\":{\"pattern\":{\"fillmode\":\"overlay\",\"size\":10,\"solidity\":0.2}},\"type\":\"histogram\"}],\"histogram2d\":[{\"colorbar\":{\"outlinewidth\":0,\"ticks\":\"\"},\"colorscale\":[[0.0,\"#0d0887\"],[0.1111111111111111,\"#46039f\"],[0.2222222222222222,\"#7201a8\"],[0.3333333333333333,\"#9c179e\"],[0.4444444444444444,\"#bd3786\"],[0.5555555555555556,\"#d8576b\"],[0.6666666666666666,\"#ed7953\"],[0.7777777777777778,\"#fb9f3a\"],[0.8888888888888888,\"#fdca26\"],[1.0,\"#f0f921\"]],\"type\":\"histogram2d\"}],\"histogram2dcontour\":[{\"colorbar\":{\"outlinewidth\":0,\"ticks\":\"\"},\"colorscale\":[[0.0,\"#0d0887\"],[0.1111111111111111,\"#46039f\"],[0.2222222222222222,\"#7201a8\"],[0.3333333333333333,\"#9c179e\"],[0.4444444444444444,\"#bd3786\"],[0.5555555555555556,\"#d8576b\"],[0.6666666666666666,\"#ed7953\"],[0.7777777777777778,\"#fb9f3a\"],[0.8888888888888888,\"#fdca26\"],[1.0,\"#f0f921\"]],\"type\":\"histogram2dcontour\"}],\"mesh3d\":[{\"colorbar\":{\"outlinewidth\":0,\"ticks\":\"\"},\"type\":\"mesh3d\"}],\"parcoords\":[{\"line\":{\"colorbar\":{\"outlinewidth\":0,\"ticks\":\"\"}},\"type\":\"parcoords\"}],\"pie\":[{\"automargin\":true,\"type\":\"pie\"}],\"scatter\":[{\"marker\":{\"colorbar\":{\"outlinewidth\":0,\"ticks\":\"\"}},\"type\":\"scatter\"}],\"scatter3d\":[{\"line\":{\"colorbar\":{\"outlinewidth\":0,\"ticks\":\"\"}},\"marker\":{\"colorbar\":{\"outlinewidth\":0,\"ticks\":\"\"}},\"type\":\"scatter3d\"}],\"scattercarpet\":[{\"marker\":{\"colorbar\":{\"outlinewidth\":0,\"ticks\":\"\"}},\"type\":\"scattercarpet\"}],\"scattergeo\":[{\"marker\":{\"colorbar\":{\"outlinewidth\":0,\"ticks\":\"\"}},\"type\":\"scattergeo\"}],\"scattergl\":[{\"marker\":{\"colorbar\":{\"outlinewidth\":0,\"ticks\":\"\"}},\"type\":\"scattergl\"}],\"scattermapbox\":[{\"marker\":{\"colorbar\":{\"outlinewidth\":0,\"ticks\":\"\"}},\"type\":\"scattermapbox\"}],\"scatterpolar\":[{\"marker\":{\"colorbar\":{\"outlinewidth\":0,\"ticks\":\"\"}},\"type\":\"scatterpolar\"}],\"scatterpolargl\":[{\"marker\":{\"colorbar\":{\"outlinewidth\":0,\"ticks\":\"\"}},\"type\":\"scatterpolargl\"}],\"scatterternary\":[{\"marker\":{\"colorbar\":{\"outlinewidth\":0,\"ticks\":\"\"}},\"type\":\"scatterternary\"}],\"surface\":[{\"colorbar\":{\"outlinewidth\":0,\"ticks\":\"\"},\"colorscale\":[[0.0,\"#0d0887\"],[0.1111111111111111,\"#46039f\"],[0.2222222222222222,\"#7201a8\"],[0.3333333333333333,\"#9c179e\"],[0.4444444444444444,\"#bd3786\"],[0.5555555555555556,\"#d8576b\"],[0.6666666666666666,\"#ed7953\"],[0.7777777777777778,\"#fb9f3a\"],[0.8888888888888888,\"#fdca26\"],[1.0,\"#f0f921\"]],\"type\":\"surface\"}],\"table\":[{\"cells\":{\"fill\":{\"color\":\"#EBF0F8\"},\"line\":{\"color\":\"white\"}},\"header\":{\"fill\":{\"color\":\"#C8D4E3\"},\"line\":{\"color\":\"white\"}},\"type\":\"table\"}]},\"layout\":{\"annotationdefaults\":{\"arrowcolor\":\"#2a3f5f\",\"arrowhead\":0,\"arrowwidth\":1},\"autotypenumbers\":\"strict\",\"coloraxis\":{\"colorbar\":{\"outlinewidth\":0,\"ticks\":\"\"}},\"colorscale\":{\"diverging\":[[0,\"#8e0152\"],[0.1,\"#c51b7d\"],[0.2,\"#de77ae\"],[0.3,\"#f1b6da\"],[0.4,\"#fde0ef\"],[0.5,\"#f7f7f7\"],[0.6,\"#e6f5d0\"],[0.7,\"#b8e186\"],[0.8,\"#7fbc41\"],[0.9,\"#4d9221\"],[1,\"#276419\"]],\"sequential\":[[0.0,\"#0d0887\"],[0.1111111111111111,\"#46039f\"],[0.2222222222222222,\"#7201a8\"],[0.3333333333333333,\"#9c179e\"],[0.4444444444444444,\"#bd3786\"],[0.5555555555555556,\"#d8576b\"],[0.6666666666666666,\"#ed7953\"],[0.7777777777777778,\"#fb9f3a\"],[0.8888888888888888,\"#fdca26\"],[1.0,\"#f0f921\"]],\"sequentialminus\":[[0.0,\"#0d0887\"],[0.1111111111111111,\"#46039f\"],[0.2222222222222222,\"#7201a8\"],[0.3333333333333333,\"#9c179e\"],[0.4444444444444444,\"#bd3786\"],[0.5555555555555556,\"#d8576b\"],[0.6666666666666666,\"#ed7953\"],[0.7777777777777778,\"#fb9f3a\"],[0.8888888888888888,\"#fdca26\"],[1.0,\"#f0f921\"]]},\"colorway\":[\"#636efa\",\"#EF553B\",\"#00cc96\",\"#ab63fa\",\"#FFA15A\",\"#19d3f3\",\"#FF6692\",\"#B6E880\",\"#FF97FF\",\"#FECB52\"],\"font\":{\"color\":\"#2a3f5f\"},\"geo\":{\"bgcolor\":\"white\",\"lakecolor\":\"white\",\"landcolor\":\"#E5ECF6\",\"showlakes\":true,\"showland\":true,\"subunitcolor\":\"white\"},\"hoverlabel\":{\"align\":\"left\"},\"hovermode\":\"closest\",\"mapbox\":{\"style\":\"light\"},\"paper_bgcolor\":\"white\",\"plot_bgcolor\":\"#E5ECF6\",\"polar\":{\"angularaxis\":{\"gridcolor\":\"white\",\"linecolor\":\"white\",\"ticks\":\"\"},\"bgcolor\":\"#E5ECF6\",\"radialaxis\":{\"gridcolor\":\"white\",\"linecolor\":\"white\",\"ticks\":\"\"}},\"scene\":{\"xaxis\":{\"backgroundcolor\":\"#E5ECF6\",\"gridcolor\":\"white\",\"gridwidth\":2,\"linecolor\":\"white\",\"showbackground\":true,\"ticks\":\"\",\"zerolinecolor\":\"white\"},\"yaxis\":{\"backgroundcolor\":\"#E5ECF6\",\"gridcolor\":\"white\",\"gridwidth\":2,\"linecolor\":\"white\",\"showbackground\":true,\"ticks\":\"\",\"zerolinecolor\":\"white\"},\"zaxis\":{\"backgroundcolor\":\"#E5ECF6\",\"gridcolor\":\"white\",\"gridwidth\":2,\"linecolor\":\"white\",\"showbackground\":true,\"ticks\":\"\",\"zerolinecolor\":\"white\"}},\"shapedefaults\":{\"line\":{\"color\":\"#2a3f5f\"}},\"ternary\":{\"aaxis\":{\"gridcolor\":\"white\",\"linecolor\":\"white\",\"ticks\":\"\"},\"baxis\":{\"gridcolor\":\"white\",\"linecolor\":\"white\",\"ticks\":\"\"},\"bgcolor\":\"#E5ECF6\",\"caxis\":{\"gridcolor\":\"white\",\"linecolor\":\"white\",\"ticks\":\"\"}},\"title\":{\"x\":0.05},\"xaxis\":{\"automargin\":true,\"gridcolor\":\"white\",\"linecolor\":\"white\",\"ticks\":\"\",\"title\":{\"standoff\":15},\"zerolinecolor\":\"white\",\"zerolinewidth\":2},\"yaxis\":{\"automargin\":true,\"gridcolor\":\"white\",\"linecolor\":\"white\",\"ticks\":\"\",\"title\":{\"standoff\":15},\"zerolinecolor\":\"white\",\"zerolinewidth\":2}}},\"xaxis\":{\"anchor\":\"y\",\"domain\":[0.0,1.0],\"title\":{\"text\":\"Song(Title) \"}},\"yaxis\":{\"anchor\":\"x\",\"domain\":[0.0,1.0],\"title\":{\"text\":\"Count of Popular Songs\"}},\"legend\":{\"tracegroupgap\":0},\"title\":{\"text\":\"Popular Songs till 2022 \",\"font\":{\"color\":\"teal\"}},\"barmode\":\"relative\",\"font\":{\"color\":\"indigo\"}},                        {\"responsive\": true}                    ).then(function(){\n",
       "                            \n",
       "var gd = document.getElementById('bd2c4970-de49-4289-814e-f255cacd1a60');\n",
       "var x = new MutationObserver(function (mutations, observer) {{\n",
       "        var display = window.getComputedStyle(gd).display;\n",
       "        if (!display || display === 'none') {{\n",
       "            console.log([gd, 'removed!']);\n",
       "            Plotly.purge(gd);\n",
       "            observer.disconnect();\n",
       "        }}\n",
       "}});\n",
       "\n",
       "// Listen for the removal of the full notebook cells\n",
       "var notebookContainer = gd.closest('#notebook-container');\n",
       "if (notebookContainer) {{\n",
       "    x.observe(notebookContainer, {childList: true});\n",
       "}}\n",
       "\n",
       "// Listen for the clearing of the current output cell\n",
       "var outputEl = gd.closest('.output');\n",
       "if (outputEl) {{\n",
       "    x.observe(outputEl, {childList: true});\n",
       "}}\n",
       "\n",
       "                        })                };                            </script>        </div>\n",
       "</body>\n",
       "</html>"
      ]
     },
     "metadata": {},
     "output_type": "display_data"
    }
   ],
   "source": [
    "song=popular_song.groupby('Title',as_index=False).first()\n",
    "sns.set_style('darkgrid')\n",
    "#plt.figure(figsize=(10,5))\n",
    "fig=px.histogram(x=song.Title,y=popular_song.Title.value_counts(),title='Popular Songs till 2022 ');\n",
    "fig.update_layout(xaxis_title='Song(Title) ',\n",
    "                  yaxis_title='Count of Popular Songs',font_color='indigo',\n",
    "                  title_font_color='teal',\n",
    "                  )\n",
    "fig.show()"
   ]
  },
  {
   "cell_type": "markdown",
   "metadata": {
    "id": "RcNZfsJWFa0G"
   },
   "source": [
    "### 5.   Who is the most popular singer on Spotify?\n"
   ]
  },
  {
   "cell_type": "code",
   "execution_count": 37,
   "metadata": {
    "colab": {
     "base_uri": "https://localhost:8080/",
     "height": 533
    },
    "executionInfo": {
     "elapsed": 1161,
     "status": "ok",
     "timestamp": 1673541692330,
     "user": {
      "displayName": "Ritu Singh",
      "userId": "11452320716915109322"
     },
     "user_tz": -330
    },
    "id": "hm6TUXJaFnnT",
    "outputId": "94681d60-cc6a-4711-c71a-a8cfb5e5b9e6"
   },
   "outputs": [
    {
     "name": "stderr",
     "output_type": "stream",
     "text": [
      "/usr/local/lib/python3.8/dist-packages/seaborn/_decorators.py:36: FutureWarning:\n",
      "\n",
      "Pass the following variables as keyword args: x, y. From version 0.12, the only valid positional argument will be `data`, and passing other arguments without an explicit keyword will result in an error or misinterpretation.\n",
      "\n"
     ]
    },
    {
     "data": {
      "image/png": "[encoded data removed]",
      "text/plain": [
       "<Figure size 1080x360 with 1 Axes>"
      ]
     },
     "metadata": {},
     "output_type": "display_data"
    }
   ],
   "source": [
    "plt.figure(figsize=(15,5))\n",
    "sns.set(style=\"darkgrid\")\n",
    "x = df.groupby(\"Artist\")[\"Popularity\"].sum().sort_values(ascending=False).head(20)\n",
    "ax = sns.barplot(x.index, x)\n",
    "ax.set_title('Top Artists with Popularity')\n",
    "ax.set_ylabel('Popularity')\n",
    "ax.set_xlabel('Artists')\n",
    "plt.xticks(rotation=90);"
   ]
  },
  {
   "cell_type": "markdown",
   "metadata": {
    "id": "3dzSzwnLFo8k"
   },
   "source": [
    "### 6.   Find how many songs sang by per artist.\n",
    "\n",
    "\n",
    "\n",
    "\n"
   ]
  },
  {
   "cell_type": "code",
   "execution_count": 38,
   "metadata": {
    "colab": {
     "base_uri": "https://localhost:8080/"
    },
    "executionInfo": {
     "elapsed": 89,
     "status": "ok",
     "timestamp": 1673541692331,
     "user": {
      "displayName": "Ritu Singh",
      "userId": "11452320716915109322"
     },
     "user_tz": -330
    },
    "id": "Hnvk4cIkF1lR",
    "outputId": "74e474ec-3924-4e3d-a29d-13c9e195307f"
   },
   "outputs": [
    {
     "data": {
      "text/plain": [
       "Ariana Grande    1480\n",
       "Drake            1466\n",
       "Taylor Swift     1277\n",
       "BTS              1272\n",
       "XXXTENTACION      988\n",
       "The Weeknd        877\n",
       "Ed Sheeran        876\n",
       "Eminem            778\n",
       "Billie Eilish     773\n",
       "Post Malone       740\n",
       "Name: Artist, dtype: int64"
      ]
     },
     "execution_count": 38,
     "metadata": {},
     "output_type": "execute_result"
    }
   ],
   "source": [
    "song_count=df.Artist.value_counts()[:10]\n",
    "song_count"
   ]
  },
  {
   "cell_type": "code",
   "execution_count": 39,
   "metadata": {
    "colab": {
     "base_uri": "https://localhost:8080/",
     "height": 542
    },
    "executionInfo": {
     "elapsed": 81,
     "status": "ok",
     "timestamp": 1673541692332,
     "user": {
      "displayName": "Ritu Singh",
      "userId": "11452320716915109322"
     },
     "user_tz": -330
    },
    "id": "P1cxe37PF17M",
    "outputId": "31f22143-9180-4604-aa30-179b9ea051d9"
   },
   "outputs": [
    {
     "data": {
      "text/html": [
       "<html>\n",
       "<head><meta charset=\"utf-8\" /></head>\n",
       "<body>\n",
       "    <div>            <script src=\"https://cdnjs.cloudflare.com/ajax/libs/mathjax/2.7.5/MathJax.js?config=TeX-AMS-MML_SVG\"></script><script type=\"text/javascript\">if (window.MathJax) {MathJax.Hub.Config({SVG: {font: \"STIX-Web\"}});}</script>                <script type=\"text/javascript\">window.PlotlyConfig = {MathJaxConfig: 'local'};</script>\n",
       "        <script src=\"https://cdn.plot.ly/plotly-2.8.3.min.js\"></script>                <div id=\"eac0463c-51d6-45c7-b6c5-f0e12eceef72\" class=\"plotly-graph-div\" style=\"height:525px; width:100%;\"></div>            <script type=\"text/javascript\">                                    window.PLOTLYENV=window.PLOTLYENV || {};                                    if (document.getElementById(\"eac0463c-51d6-45c7-b6c5-f0e12eceef72\")) {                    Plotly.newPlot(                        \"eac0463c-51d6-45c7-b6c5-f0e12eceef72\",                        [{\"domain\":{\"x\":[0.0,1.0],\"y\":[0.0,1.0]},\"hole\":0.3,\"hovertemplate\":\"Artist=%{value}<extra></extra>\",\"labels\":[1480,1466,1277,1272,988,877,876,778,773,740],\"legendgroup\":\"\",\"name\":\"\",\"showlegend\":true,\"values\":[1480,1466,1277,1272,988,877,876,778,773,740],\"type\":\"pie\"}],                        {\"template\":{\"data\":{\"bar\":[{\"error_x\":{\"color\":\"#2a3f5f\"},\"error_y\":{\"color\":\"#2a3f5f\"},\"marker\":{\"line\":{\"color\":\"#E5ECF6\",\"width\":0.5},\"pattern\":{\"fillmode\":\"overlay\",\"size\":10,\"solidity\":0.2}},\"type\":\"bar\"}],\"barpolar\":[{\"marker\":{\"line\":{\"color\":\"#E5ECF6\",\"width\":0.5},\"pattern\":{\"fillmode\":\"overlay\",\"size\":10,\"solidity\":0.2}},\"type\":\"barpolar\"}],\"carpet\":[{\"aaxis\":{\"endlinecolor\":\"#2a3f5f\",\"gridcolor\":\"white\",\"linecolor\":\"white\",\"minorgridcolor\":\"white\",\"startlinecolor\":\"#2a3f5f\"},\"baxis\":{\"endlinecolor\":\"#2a3f5f\",\"gridcolor\":\"white\",\"linecolor\":\"white\",\"minorgridcolor\":\"white\",\"startlinecolor\":\"#2a3f5f\"},\"type\":\"carpet\"}],\"choropleth\":[{\"colorbar\":{\"outlinewidth\":0,\"ticks\":\"\"},\"type\":\"choropleth\"}],\"contour\":[{\"colorbar\":{\"outlinewidth\":0,\"ticks\":\"\"},\"colorscale\":[[0.0,\"#0d0887\"],[0.1111111111111111,\"#46039f\"],[0.2222222222222222,\"#7201a8\"],[0.3333333333333333,\"#9c179e\"],[0.4444444444444444,\"#bd3786\"],[0.5555555555555556,\"#d8576b\"],[0.6666666666666666,\"#ed7953\"],[0.7777777777777778,\"#fb9f3a\"],[0.8888888888888888,\"#fdca26\"],[1.0,\"#f0f921\"]],\"type\":\"contour\"}],\"contourcarpet\":[{\"colorbar\":{\"outlinewidth\":0,\"ticks\":\"\"},\"type\":\"contourcarpet\"}],\"heatmap\":[{\"colorbar\":{\"outlinewidth\":0,\"ticks\":\"\"},\"colorscale\":[[0.0,\"#0d0887\"],[0.1111111111111111,\"#46039f\"],[0.2222222222222222,\"#7201a8\"],[0.3333333333333333,\"#9c179e\"],[0.4444444444444444,\"#bd3786\"],[0.5555555555555556,\"#d8576b\"],[0.6666666666666666,\"#ed7953\"],[0.7777777777777778,\"#fb9f3a\"],[0.8888888888888888,\"#fdca26\"],[1.0,\"#f0f921\"]],\"type\":\"heatmap\"}],\"heatmapgl\":[{\"colorbar\":{\"outlinewidth\":0,\"ticks\":\"\"},\"colorscale\":[[0.0,\"#0d0887\"],[0.1111111111111111,\"#46039f\"],[0.2222222222222222,\"#7201a8\"],[0.3333333333333333,\"#9c179e\"],[0.4444444444444444,\"#bd3786\"],[0.5555555555555556,\"#d8576b\"],[0.6666666666666666,\"#ed7953\"],[0.7777777777777778,\"#fb9f3a\"],[0.8888888888888888,\"#fdca26\"],[1.0,\"#f0f921\"]],\"type\":\"heatmapgl\"}],\"histogram\":[{\"marker\":{\"pattern\":{\"fillmode\":\"overlay\",\"size\":10,\"solidity\":0.2}},\"type\":\"histogram\"}],\"histogram2d\":[{\"colorbar\":{\"outlinewidth\":0,\"ticks\":\"\"},\"colorscale\":[[0.0,\"#0d0887\"],[0.1111111111111111,\"#46039f\"],[0.2222222222222222,\"#7201a8\"],[0.3333333333333333,\"#9c179e\"],[0.4444444444444444,\"#bd3786\"],[0.5555555555555556,\"#d8576b\"],[0.6666666666666666,\"#ed7953\"],[0.7777777777777778,\"#fb9f3a\"],[0.8888888888888888,\"#fdca26\"],[1.0,\"#f0f921\"]],\"type\":\"histogram2d\"}],\"histogram2dcontour\":[{\"colorbar\":{\"outlinewidth\":0,\"ticks\":\"\"},\"colorscale\":[[0.0,\"#0d0887\"],[0.1111111111111111,\"#46039f\"],[0.2222222222222222,\"#7201a8\"],[0.3333333333333333,\"#9c179e\"],[0.4444444444444444,\"#bd3786\"],[0.5555555555555556,\"#d8576b\"],[0.6666666666666666,\"#ed7953\"],[0.7777777777777778,\"#fb9f3a\"],[0.8888888888888888,\"#fdca26\"],[1.0,\"#f0f921\"]],\"type\":\"histogram2dcontour\"}],\"mesh3d\":[{\"colorbar\":{\"outlinewidth\":0,\"ticks\":\"\"},\"type\":\"mesh3d\"}],\"parcoords\":[{\"line\":{\"colorbar\":{\"outlinewidth\":0,\"ticks\":\"\"}},\"type\":\"parcoords\"}],\"pie\":[{\"automargin\":true,\"type\":\"pie\"}],\"scatter\":[{\"marker\":{\"colorbar\":{\"outlinewidth\":0,\"ticks\":\"\"}},\"type\":\"scatter\"}],\"scatter3d\":[{\"line\":{\"colorbar\":{\"outlinewidth\":0,\"ticks\":\"\"}},\"marker\":{\"colorbar\":{\"outlinewidth\":0,\"ticks\":\"\"}},\"type\":\"scatter3d\"}],\"scattercarpet\":[{\"marker\":{\"colorbar\":{\"outlinewidth\":0,\"ticks\":\"\"}},\"type\":\"scattercarpet\"}],\"scattergeo\":[{\"marker\":{\"colorbar\":{\"outlinewidth\":0,\"ticks\":\"\"}},\"type\":\"scattergeo\"}],\"scattergl\":[{\"marker\":{\"colorbar\":{\"outlinewidth\":0,\"ticks\":\"\"}},\"type\":\"scattergl\"}],\"scattermapbox\":[{\"marker\":{\"colorbar\":{\"outlinewidth\":0,\"ticks\":\"\"}},\"type\":\"scattermapbox\"}],\"scatterpolar\":[{\"marker\":{\"colorbar\":{\"outlinewidth\":0,\"ticks\":\"\"}},\"type\":\"scatterpolar\"}],\"scatterpolargl\":[{\"marker\":{\"colorbar\":{\"outlinewidth\":0,\"ticks\":\"\"}},\"type\":\"scatterpolargl\"}],\"scatterternary\":[{\"marker\":{\"colorbar\":{\"outlinewidth\":0,\"ticks\":\"\"}},\"type\":\"scatterternary\"}],\"surface\":[{\"colorbar\":{\"outlinewidth\":0,\"ticks\":\"\"},\"colorscale\":[[0.0,\"#0d0887\"],[0.1111111111111111,\"#46039f\"],[0.2222222222222222,\"#7201a8\"],[0.3333333333333333,\"#9c179e\"],[0.4444444444444444,\"#bd3786\"],[0.5555555555555556,\"#d8576b\"],[0.6666666666666666,\"#ed7953\"],[0.7777777777777778,\"#fb9f3a\"],[0.8888888888888888,\"#fdca26\"],[1.0,\"#f0f921\"]],\"type\":\"surface\"}],\"table\":[{\"cells\":{\"fill\":{\"color\":\"#EBF0F8\"},\"line\":{\"color\":\"white\"}},\"header\":{\"fill\":{\"color\":\"#C8D4E3\"},\"line\":{\"color\":\"white\"}},\"type\":\"table\"}]},\"layout\":{\"annotationdefaults\":{\"arrowcolor\":\"#2a3f5f\",\"arrowhead\":0,\"arrowwidth\":1},\"autotypenumbers\":\"strict\",\"coloraxis\":{\"colorbar\":{\"outlinewidth\":0,\"ticks\":\"\"}},\"colorscale\":{\"diverging\":[[0,\"#8e0152\"],[0.1,\"#c51b7d\"],[0.2,\"#de77ae\"],[0.3,\"#f1b6da\"],[0.4,\"#fde0ef\"],[0.5,\"#f7f7f7\"],[0.6,\"#e6f5d0\"],[0.7,\"#b8e186\"],[0.8,\"#7fbc41\"],[0.9,\"#4d9221\"],[1,\"#276419\"]],\"sequential\":[[0.0,\"#0d0887\"],[0.1111111111111111,\"#46039f\"],[0.2222222222222222,\"#7201a8\"],[0.3333333333333333,\"#9c179e\"],[0.4444444444444444,\"#bd3786\"],[0.5555555555555556,\"#d8576b\"],[0.6666666666666666,\"#ed7953\"],[0.7777777777777778,\"#fb9f3a\"],[0.8888888888888888,\"#fdca26\"],[1.0,\"#f0f921\"]],\"sequentialminus\":[[0.0,\"#0d0887\"],[0.1111111111111111,\"#46039f\"],[0.2222222222222222,\"#7201a8\"],[0.3333333333333333,\"#9c179e\"],[0.4444444444444444,\"#bd3786\"],[0.5555555555555556,\"#d8576b\"],[0.6666666666666666,\"#ed7953\"],[0.7777777777777778,\"#fb9f3a\"],[0.8888888888888888,\"#fdca26\"],[1.0,\"#f0f921\"]]},\"colorway\":[\"#636efa\",\"#EF553B\",\"#00cc96\",\"#ab63fa\",\"#FFA15A\",\"#19d3f3\",\"#FF6692\",\"#B6E880\",\"#FF97FF\",\"#FECB52\"],\"font\":{\"color\":\"#2a3f5f\"},\"geo\":{\"bgcolor\":\"white\",\"lakecolor\":\"white\",\"landcolor\":\"#E5ECF6\",\"showlakes\":true,\"showland\":true,\"subunitcolor\":\"white\"},\"hoverlabel\":{\"align\":\"left\"},\"hovermode\":\"closest\",\"mapbox\":{\"style\":\"light\"},\"paper_bgcolor\":\"white\",\"plot_bgcolor\":\"#E5ECF6\",\"polar\":{\"angularaxis\":{\"gridcolor\":\"white\",\"linecolor\":\"white\",\"ticks\":\"\"},\"bgcolor\":\"#E5ECF6\",\"radialaxis\":{\"gridcolor\":\"white\",\"linecolor\":\"white\",\"ticks\":\"\"}},\"scene\":{\"xaxis\":{\"backgroundcolor\":\"#E5ECF6\",\"gridcolor\":\"white\",\"gridwidth\":2,\"linecolor\":\"white\",\"showbackground\":true,\"ticks\":\"\",\"zerolinecolor\":\"white\"},\"yaxis\":{\"backgroundcolor\":\"#E5ECF6\",\"gridcolor\":\"white\",\"gridwidth\":2,\"linecolor\":\"white\",\"showbackground\":true,\"ticks\":\"\",\"zerolinecolor\":\"white\"},\"zaxis\":{\"backgroundcolor\":\"#E5ECF6\",\"gridcolor\":\"white\",\"gridwidth\":2,\"linecolor\":\"white\",\"showbackground\":true,\"ticks\":\"\",\"zerolinecolor\":\"white\"}},\"shapedefaults\":{\"line\":{\"color\":\"#2a3f5f\"}},\"ternary\":{\"aaxis\":{\"gridcolor\":\"white\",\"linecolor\":\"white\",\"ticks\":\"\"},\"baxis\":{\"gridcolor\":\"white\",\"linecolor\":\"white\",\"ticks\":\"\"},\"bgcolor\":\"#E5ECF6\",\"caxis\":{\"gridcolor\":\"white\",\"linecolor\":\"white\",\"ticks\":\"\"}},\"title\":{\"x\":0.05},\"xaxis\":{\"automargin\":true,\"gridcolor\":\"white\",\"linecolor\":\"white\",\"ticks\":\"\",\"title\":{\"standoff\":15},\"zerolinecolor\":\"white\",\"zerolinewidth\":2},\"yaxis\":{\"automargin\":true,\"gridcolor\":\"white\",\"linecolor\":\"white\",\"ticks\":\"\",\"title\":{\"standoff\":15},\"zerolinecolor\":\"white\",\"zerolinewidth\":2}}},\"legend\":{\"tracegroupgap\":0,\"title\":{\"text\":\"Number of Songs\"}},\"title\":{\"text\":\"Total Songs Sang by Per Artist\"},\"piecolorway\":[\"rgb(103,0,31)\",\"rgb(178,24,43)\",\"rgb(214,96,77)\",\"rgb(244,165,130)\",\"rgb(253,219,199)\",\"rgb(247,247,247)\",\"rgb(209,229,240)\",\"rgb(146,197,222)\",\"rgb(67,147,195)\",\"rgb(33,102,172)\",\"rgb(5,48,97)\"]},                        {\"responsive\": true}                    ).then(function(){\n",
       "                            \n",
       "var gd = document.getElementById('eac0463c-51d6-45c7-b6c5-f0e12eceef72');\n",
       "var x = new MutationObserver(function (mutations, observer) {{\n",
       "        var display = window.getComputedStyle(gd).display;\n",
       "        if (!display || display === 'none') {{\n",
       "            console.log([gd, 'removed!']);\n",
       "            Plotly.purge(gd);\n",
       "            observer.disconnect();\n",
       "        }}\n",
       "}});\n",
       "\n",
       "// Listen for the removal of the full notebook cells\n",
       "var notebookContainer = gd.closest('#notebook-container');\n",
       "if (notebookContainer) {{\n",
       "    x.observe(notebookContainer, {childList: true});\n",
       "}}\n",
       "\n",
       "// Listen for the clearing of the current output cell\n",
       "var outputEl = gd.closest('.output');\n",
       "if (outputEl) {{\n",
       "    x.observe(outputEl, {childList: true});\n",
       "}}\n",
       "\n",
       "                        })                };                            </script>        </div>\n",
       "</body>\n",
       "</html>"
      ]
     },
     "metadata": {},
     "output_type": "display_data"
    }
   ],
   "source": [
    "fig=px.pie(song_count,values='Artist', names='Artist',\n",
    "           title='Total Songs Sang by Per Artist',\n",
    "           color_discrete_sequence=px.colors.sequential.RdBu,hole=.3)\n",
    "fig.update_layout(legend_title='Number of Songs')\n",
    "fig.show()"
   ]
  },
  {
   "cell_type": "markdown",
   "metadata": {
    "id": "cJtCl3bPGCr0"
   },
   "source": [
    "### 7.   Which song has highest duration_ms ?\n"
   ]
  },
  {
   "cell_type": "code",
   "execution_count": 40,
   "metadata": {
    "colab": {
     "base_uri": "https://localhost:8080/",
     "height": 206
    },
    "executionInfo": {
     "elapsed": 97,
     "status": "ok",
     "timestamp": 1673541692350,
     "user": {
      "displayName": "Ritu Singh",
      "userId": "11452320716915109322"
     },
     "user_tz": -330
    },
    "id": "eYGr2YPAGFSh",
    "outputId": "13f03626-ba6b-4569-9127-99db7702b1c6"
   },
   "outputs": [
    {
     "data": {
      "text/html": [
       "\n",
       "  <div id=\"df-99b76483-7eca-4c65-8f57-a850ecb33d29\">\n",
       "    <div class=\"colab-df-container\">\n",
       "      <div>\n",
       "<style scoped>\n",
       "    .dataframe tbody tr th:only-of-type {\n",
       "        vertical-align: middle;\n",
       "    }\n",
       "\n",
       "    .dataframe tbody tr th {\n",
       "        vertical-align: top;\n",
       "    }\n",
       "\n",
       "    .dataframe thead th {\n",
       "        text-align: right;\n",
       "    }\n",
       "</style>\n",
       "<table border=\"1\" class=\"dataframe\">\n",
       "  <thead>\n",
       "    <tr style=\"text-align: right;\">\n",
       "      <th></th>\n",
       "      <th>Title</th>\n",
       "      <th>duration_ms</th>\n",
       "    </tr>\n",
       "  </thead>\n",
       "  <tbody>\n",
       "    <tr>\n",
       "      <th>0</th>\n",
       "      <td>sign of the times</td>\n",
       "      <td>23849490.0</td>\n",
       "    </tr>\n",
       "    <tr>\n",
       "      <th>1</th>\n",
       "      <td>friends</td>\n",
       "      <td>23895722.0</td>\n",
       "    </tr>\n",
       "    <tr>\n",
       "      <th>2</th>\n",
       "      <td>after hours</td>\n",
       "      <td>24943063.0</td>\n",
       "    </tr>\n",
       "    <tr>\n",
       "      <th>3</th>\n",
       "      <td>all night</td>\n",
       "      <td>25917938.0</td>\n",
       "    </tr>\n",
       "    <tr>\n",
       "      <th>4</th>\n",
       "      <td>stay</td>\n",
       "      <td>26385935.0</td>\n",
       "    </tr>\n",
       "  </tbody>\n",
       "</table>\n",
       "</div>\n",
       "      <button class=\"colab-df-convert\" onclick=\"convertToInteractive('df-99b76483-7eca-4c65-8f57-a850ecb33d29')\"\n",
       "              title=\"Convert this dataframe to an interactive table.\"\n",
       "              style=\"display:none;\">\n",
       "        \n",
       "  <svg xmlns=\"http://www.w3.org/2000/svg\" height=\"24px\"viewBox=\"0 0 24 24\"\n",
       "       width=\"24px\">\n",
       "    <path d=\"M0 0h24v24H0V0z\" fill=\"none\"/>\n",
       "    <path d=\"M18.56 5.44l.94 2.06.94-2.06 2.06-.94-2.06-.94-.94-2.06-.94 2.06-2.06.94zm-11 1L8.5 8.5l.94-2.06 2.06-.94-2.06-.94L8.5 2.5l-.94 2.06-2.06.94zm10 10l.94 2.06.94-2.06 2.06-.94-2.06-.94-.94-2.06-.94 2.06-2.06.94z\"/><path d=\"M17.41 7.96l-1.37-1.37c-.4-.4-.92-.59-1.43-.59-.52 0-1.04.2-1.43.59L10.3 9.45l-7.72 7.72c-.78.78-.78 2.05 0 2.83L4 21.41c.39.39.9.59 1.41.59.51 0 1.02-.2 1.41-.59l7.78-7.78 2.81-2.81c.8-.78.8-2.07 0-2.86zM5.41 20L4 18.59l7.72-7.72 1.47 1.35L5.41 20z\"/>\n",
       "  </svg>\n",
       "      </button>\n",
       "      \n",
       "  <style>\n",
       "    .colab-df-container {\n",
       "      display:flex;\n",
       "      flex-wrap:wrap;\n",
       "      gap: 12px;\n",
       "    }\n",
       "\n",
       "    .colab-df-convert {\n",
       "      background-color: #E8F0FE;\n",
       "      border: none;\n",
       "      border-radius: 50%;\n",
       "      cursor: pointer;\n",
       "      display: none;\n",
       "      fill: #1967D2;\n",
       "      height: 32px;\n",
       "      padding: 0 0 0 0;\n",
       "      width: 32px;\n",
       "    }\n",
       "\n",
       "    .colab-df-convert:hover {\n",
       "      background-color: #E2EBFA;\n",
       "      box-shadow: 0px 1px 2px rgba(60, 64, 67, 0.3), 0px 1px 3px 1px rgba(60, 64, 67, 0.15);\n",
       "      fill: #174EA6;\n",
       "    }\n",
       "\n",
       "    [theme=dark] .colab-df-convert {\n",
       "      background-color: #3B4455;\n",
       "      fill: #D2E3FC;\n",
       "    }\n",
       "\n",
       "    [theme=dark] .colab-df-convert:hover {\n",
       "      background-color: #434B5C;\n",
       "      box-shadow: 0px 1px 3px 1px rgba(0, 0, 0, 0.15);\n",
       "      filter: drop-shadow(0px 1px 2px rgba(0, 0, 0, 0.3));\n",
       "      fill: #FFFFFF;\n",
       "    }\n",
       "  </style>\n",
       "\n",
       "      <script>\n",
       "        const buttonEl =\n",
       "          document.querySelector('#df-99b76483-7eca-4c65-8f57-a850ecb33d29 button.colab-df-convert');\n",
       "        buttonEl.style.display =\n",
       "          google.colab.kernel.accessAllowed ? 'block' : 'none';\n",
       "\n",
       "        async function convertToInteractive(key) {\n",
       "          const element = document.querySelector('#df-99b76483-7eca-4c65-8f57-a850ecb33d29');\n",
       "          const dataTable =\n",
       "            await google.colab.kernel.invokeFunction('convertToInteractive',\n",
       "                                                     [key], {});\n",
       "          if (!dataTable) return;\n",
       "\n",
       "          const docLinkHtml = 'Like what you see? Visit the ' +\n",
       "            '<a target=\"_blank\" href=https://colab.research.google.com/notebooks/data_table.ipynb>data table notebook</a>'\n",
       "            + ' to learn more about interactive tables.';\n",
       "          element.innerHTML = '';\n",
       "          dataTable['output_type'] = 'display_data';\n",
       "          await google.colab.output.renderOutput(dataTable, element);\n",
       "          const docLink = document.createElement('div');\n",
       "          docLink.innerHTML = docLinkHtml;\n",
       "          element.appendChild(docLink);\n",
       "        }\n",
       "      </script>\n",
       "    </div>\n",
       "  </div>\n",
       "  "
      ],
      "text/plain": [
       "               Title  duration_ms\n",
       "0  sign of the times   23849490.0\n",
       "1            friends   23895722.0\n",
       "2        after hours   24943063.0\n",
       "3          all night   25917938.0\n",
       "4               stay   26385935.0"
      ]
     },
     "execution_count": 40,
     "metadata": {},
     "output_type": "execute_result"
    }
   ],
   "source": [
    "x=pd.DataFrame(df.groupby('Title')['duration_ms'].sum())\n",
    "x_df=x.sort_values('duration_ms').tail().reset_index()\n",
    "x_df"
   ]
  },
  {
   "cell_type": "code",
   "execution_count": 41,
   "metadata": {
    "colab": {
     "base_uri": "https://localhost:8080/",
     "height": 542
    },
    "executionInfo": {
     "elapsed": 96,
     "status": "ok",
     "timestamp": 1673541692351,
     "user": {
      "displayName": "Ritu Singh",
      "userId": "11452320716915109322"
     },
     "user_tz": -330
    },
    "id": "ILtMJRWIGF3J",
    "outputId": "0ba419ad-d9a8-46d8-9828-d2b71aa67311"
   },
   "outputs": [
    {
     "data": {
      "text/html": [
       "<html>\n",
       "<head><meta charset=\"utf-8\" /></head>\n",
       "<body>\n",
       "    <div>            <script src=\"https://cdnjs.cloudflare.com/ajax/libs/mathjax/2.7.5/MathJax.js?config=TeX-AMS-MML_SVG\"></script><script type=\"text/javascript\">if (window.MathJax) {MathJax.Hub.Config({SVG: {font: \"STIX-Web\"}});}</script>                <script type=\"text/javascript\">window.PlotlyConfig = {MathJaxConfig: 'local'};</script>\n",
       "        <script src=\"https://cdn.plot.ly/plotly-2.8.3.min.js\"></script>                <div id=\"736d2da4-ebdb-41c0-9aa7-15889c08965e\" class=\"plotly-graph-div\" style=\"height:525px; width:100%;\"></div>            <script type=\"text/javascript\">                                    window.PLOTLYENV=window.PLOTLYENV || {};                                    if (document.getElementById(\"736d2da4-ebdb-41c0-9aa7-15889c08965e\")) {                    Plotly.newPlot(                        \"736d2da4-ebdb-41c0-9aa7-15889c08965e\",                        [{\"customdata\":[[\"sign of the times\"],[\"friends\"],[\"after hours\"],[\"all night\"],[\"stay\"]],\"domain\":{\"x\":[0.0,1.0],\"y\":[0.0,1.0]},\"hovertemplate\":\"Title=%{customdata[0]}<br>duration_ms=%{value}<extra></extra>\",\"labels\":[\"sign of the times\",\"friends\",\"after hours\",\"all night\",\"stay\"],\"legendgroup\":\"\",\"marker\":{\"colors\":[\"#19d3f3\",\"cyan\",\"#FF6692\",\"#B6E880\",\"green\"]},\"name\":\"\",\"showlegend\":true,\"values\":[23849490.0,23895722.0,24943063.0,25917938.0,26385935.0],\"type\":\"pie\"}],                        {\"template\":{\"data\":{\"bar\":[{\"error_x\":{\"color\":\"#2a3f5f\"},\"error_y\":{\"color\":\"#2a3f5f\"},\"marker\":{\"line\":{\"color\":\"#E5ECF6\",\"width\":0.5},\"pattern\":{\"fillmode\":\"overlay\",\"size\":10,\"solidity\":0.2}},\"type\":\"bar\"}],\"barpolar\":[{\"marker\":{\"line\":{\"color\":\"#E5ECF6\",\"width\":0.5},\"pattern\":{\"fillmode\":\"overlay\",\"size\":10,\"solidity\":0.2}},\"type\":\"barpolar\"}],\"carpet\":[{\"aaxis\":{\"endlinecolor\":\"#2a3f5f\",\"gridcolor\":\"white\",\"linecolor\":\"white\",\"minorgridcolor\":\"white\",\"startlinecolor\":\"#2a3f5f\"},\"baxis\":{\"endlinecolor\":\"#2a3f5f\",\"gridcolor\":\"white\",\"linecolor\":\"white\",\"minorgridcolor\":\"white\",\"startlinecolor\":\"#2a3f5f\"},\"type\":\"carpet\"}],\"choropleth\":[{\"colorbar\":{\"outlinewidth\":0,\"ticks\":\"\"},\"type\":\"choropleth\"}],\"contour\":[{\"colorbar\":{\"outlinewidth\":0,\"ticks\":\"\"},\"colorscale\":[[0.0,\"#0d0887\"],[0.1111111111111111,\"#46039f\"],[0.2222222222222222,\"#7201a8\"],[0.3333333333333333,\"#9c179e\"],[0.4444444444444444,\"#bd3786\"],[0.5555555555555556,\"#d8576b\"],[0.6666666666666666,\"#ed7953\"],[0.7777777777777778,\"#fb9f3a\"],[0.8888888888888888,\"#fdca26\"],[1.0,\"#f0f921\"]],\"type\":\"contour\"}],\"contourcarpet\":[{\"colorbar\":{\"outlinewidth\":0,\"ticks\":\"\"},\"type\":\"contourcarpet\"}],\"heatmap\":[{\"colorbar\":{\"outlinewidth\":0,\"ticks\":\"\"},\"colorscale\":[[0.0,\"#0d0887\"],[0.1111111111111111,\"#46039f\"],[0.2222222222222222,\"#7201a8\"],[0.3333333333333333,\"#9c179e\"],[0.4444444444444444,\"#bd3786\"],[0.5555555555555556,\"#d8576b\"],[0.6666666666666666,\"#ed7953\"],[0.7777777777777778,\"#fb9f3a\"],[0.8888888888888888,\"#fdca26\"],[1.0,\"#f0f921\"]],\"type\":\"heatmap\"}],\"heatmapgl\":[{\"colorbar\":{\"outlinewidth\":0,\"ticks\":\"\"},\"colorscale\":[[0.0,\"#0d0887\"],[0.1111111111111111,\"#46039f\"],[0.2222222222222222,\"#7201a8\"],[0.3333333333333333,\"#9c179e\"],[0.4444444444444444,\"#bd3786\"],[0.5555555555555556,\"#d8576b\"],[0.6666666666666666,\"#ed7953\"],[0.7777777777777778,\"#fb9f3a\"],[0.8888888888888888,\"#fdca26\"],[1.0,\"#f0f921\"]],\"type\":\"heatmapgl\"}],\"histogram\":[{\"marker\":{\"pattern\":{\"fillmode\":\"overlay\",\"size\":10,\"solidity\":0.2}},\"type\":\"histogram\"}],\"histogram2d\":[{\"colorbar\":{\"outlinewidth\":0,\"ticks\":\"\"},\"colorscale\":[[0.0,\"#0d0887\"],[0.1111111111111111,\"#46039f\"],[0.2222222222222222,\"#7201a8\"],[0.3333333333333333,\"#9c179e\"],[0.4444444444444444,\"#bd3786\"],[0.5555555555555556,\"#d8576b\"],[0.6666666666666666,\"#ed7953\"],[0.7777777777777778,\"#fb9f3a\"],[0.8888888888888888,\"#fdca26\"],[1.0,\"#f0f921\"]],\"type\":\"histogram2d\"}],\"histogram2dcontour\":[{\"colorbar\":{\"outlinewidth\":0,\"ticks\":\"\"},\"colorscale\":[[0.0,\"#0d0887\"],[0.1111111111111111,\"#46039f\"],[0.2222222222222222,\"#7201a8\"],[0.3333333333333333,\"#9c179e\"],[0.4444444444444444,\"#bd3786\"],[0.5555555555555556,\"#d8576b\"],[0.6666666666666666,\"#ed7953\"],[0.7777777777777778,\"#fb9f3a\"],[0.8888888888888888,\"#fdca26\"],[1.0,\"#f0f921\"]],\"type\":\"histogram2dcontour\"}],\"mesh3d\":[{\"colorbar\":{\"outlinewidth\":0,\"ticks\":\"\"},\"type\":\"mesh3d\"}],\"parcoords\":[{\"line\":{\"colorbar\":{\"outlinewidth\":0,\"ticks\":\"\"}},\"type\":\"parcoords\"}],\"pie\":[{\"automargin\":true,\"type\":\"pie\"}],\"scatter\":[{\"marker\":{\"colorbar\":{\"outlinewidth\":0,\"ticks\":\"\"}},\"type\":\"scatter\"}],\"scatter3d\":[{\"line\":{\"colorbar\":{\"outlinewidth\":0,\"ticks\":\"\"}},\"marker\":{\"colorbar\":{\"outlinewidth\":0,\"ticks\":\"\"}},\"type\":\"scatter3d\"}],\"scattercarpet\":[{\"marker\":{\"colorbar\":{\"outlinewidth\":0,\"ticks\":\"\"}},\"type\":\"scattercarpet\"}],\"scattergeo\":[{\"marker\":{\"colorbar\":{\"outlinewidth\":0,\"ticks\":\"\"}},\"type\":\"scattergeo\"}],\"scattergl\":[{\"marker\":{\"colorbar\":{\"outlinewidth\":0,\"ticks\":\"\"}},\"type\":\"scattergl\"}],\"scattermapbox\":[{\"marker\":{\"colorbar\":{\"outlinewidth\":0,\"ticks\":\"\"}},\"type\":\"scattermapbox\"}],\"scatterpolar\":[{\"marker\":{\"colorbar\":{\"outlinewidth\":0,\"ticks\":\"\"}},\"type\":\"scatterpolar\"}],\"scatterpolargl\":[{\"marker\":{\"colorbar\":{\"outlinewidth\":0,\"ticks\":\"\"}},\"type\":\"scatterpolargl\"}],\"scatterternary\":[{\"marker\":{\"colorbar\":{\"outlinewidth\":0,\"ticks\":\"\"}},\"type\":\"scatterternary\"}],\"surface\":[{\"colorbar\":{\"outlinewidth\":0,\"ticks\":\"\"},\"colorscale\":[[0.0,\"#0d0887\"],[0.1111111111111111,\"#46039f\"],[0.2222222222222222,\"#7201a8\"],[0.3333333333333333,\"#9c179e\"],[0.4444444444444444,\"#bd3786\"],[0.5555555555555556,\"#d8576b\"],[0.6666666666666666,\"#ed7953\"],[0.7777777777777778,\"#fb9f3a\"],[0.8888888888888888,\"#fdca26\"],[1.0,\"#f0f921\"]],\"type\":\"surface\"}],\"table\":[{\"cells\":{\"fill\":{\"color\":\"#EBF0F8\"},\"line\":{\"color\":\"white\"}},\"header\":{\"fill\":{\"color\":\"#C8D4E3\"},\"line\":{\"color\":\"white\"}},\"type\":\"table\"}]},\"layout\":{\"annotationdefaults\":{\"arrowcolor\":\"#2a3f5f\",\"arrowhead\":0,\"arrowwidth\":1},\"autotypenumbers\":\"strict\",\"coloraxis\":{\"colorbar\":{\"outlinewidth\":0,\"ticks\":\"\"}},\"colorscale\":{\"diverging\":[[0,\"#8e0152\"],[0.1,\"#c51b7d\"],[0.2,\"#de77ae\"],[0.3,\"#f1b6da\"],[0.4,\"#fde0ef\"],[0.5,\"#f7f7f7\"],[0.6,\"#e6f5d0\"],[0.7,\"#b8e186\"],[0.8,\"#7fbc41\"],[0.9,\"#4d9221\"],[1,\"#276419\"]],\"sequential\":[[0.0,\"#0d0887\"],[0.1111111111111111,\"#46039f\"],[0.2222222222222222,\"#7201a8\"],[0.3333333333333333,\"#9c179e\"],[0.4444444444444444,\"#bd3786\"],[0.5555555555555556,\"#d8576b\"],[0.6666666666666666,\"#ed7953\"],[0.7777777777777778,\"#fb9f3a\"],[0.8888888888888888,\"#fdca26\"],[1.0,\"#f0f921\"]],\"sequentialminus\":[[0.0,\"#0d0887\"],[0.1111111111111111,\"#46039f\"],[0.2222222222222222,\"#7201a8\"],[0.3333333333333333,\"#9c179e\"],[0.4444444444444444,\"#bd3786\"],[0.5555555555555556,\"#d8576b\"],[0.6666666666666666,\"#ed7953\"],[0.7777777777777778,\"#fb9f3a\"],[0.8888888888888888,\"#fdca26\"],[1.0,\"#f0f921\"]]},\"colorway\":[\"#636efa\",\"#EF553B\",\"#00cc96\",\"#ab63fa\",\"#FFA15A\",\"#19d3f3\",\"#FF6692\",\"#B6E880\",\"#FF97FF\",\"#FECB52\"],\"font\":{\"color\":\"#2a3f5f\"},\"geo\":{\"bgcolor\":\"white\",\"lakecolor\":\"white\",\"landcolor\":\"#E5ECF6\",\"showlakes\":true,\"showland\":true,\"subunitcolor\":\"white\"},\"hoverlabel\":{\"align\":\"left\"},\"hovermode\":\"closest\",\"mapbox\":{\"style\":\"light\"},\"paper_bgcolor\":\"white\",\"plot_bgcolor\":\"#E5ECF6\",\"polar\":{\"angularaxis\":{\"gridcolor\":\"white\",\"linecolor\":\"white\",\"ticks\":\"\"},\"bgcolor\":\"#E5ECF6\",\"radialaxis\":{\"gridcolor\":\"white\",\"linecolor\":\"white\",\"ticks\":\"\"}},\"scene\":{\"xaxis\":{\"backgroundcolor\":\"#E5ECF6\",\"gridcolor\":\"white\",\"gridwidth\":2,\"linecolor\":\"white\",\"showbackground\":true,\"ticks\":\"\",\"zerolinecolor\":\"white\"},\"yaxis\":{\"backgroundcolor\":\"#E5ECF6\",\"gridcolor\":\"white\",\"gridwidth\":2,\"linecolor\":\"white\",\"showbackground\":true,\"ticks\":\"\",\"zerolinecolor\":\"white\"},\"zaxis\":{\"backgroundcolor\":\"#E5ECF6\",\"gridcolor\":\"white\",\"gridwidth\":2,\"linecolor\":\"white\",\"showbackground\":true,\"ticks\":\"\",\"zerolinecolor\":\"white\"}},\"shapedefaults\":{\"line\":{\"color\":\"#2a3f5f\"}},\"ternary\":{\"aaxis\":{\"gridcolor\":\"white\",\"linecolor\":\"white\",\"ticks\":\"\"},\"baxis\":{\"gridcolor\":\"white\",\"linecolor\":\"white\",\"ticks\":\"\"},\"bgcolor\":\"#E5ECF6\",\"caxis\":{\"gridcolor\":\"white\",\"linecolor\":\"white\",\"ticks\":\"\"}},\"title\":{\"x\":0.05},\"xaxis\":{\"automargin\":true,\"gridcolor\":\"white\",\"linecolor\":\"white\",\"ticks\":\"\",\"title\":{\"standoff\":15},\"zerolinecolor\":\"white\",\"zerolinewidth\":2},\"yaxis\":{\"automargin\":true,\"gridcolor\":\"white\",\"linecolor\":\"white\",\"ticks\":\"\",\"title\":{\"standoff\":15},\"zerolinecolor\":\"white\",\"zerolinewidth\":2}}},\"legend\":{\"tracegroupgap\":0},\"title\":{\"text\":\"Top 5 Highest Duration_ms Songs\"}},                        {\"responsive\": true}                    ).then(function(){\n",
       "                            \n",
       "var gd = document.getElementById('736d2da4-ebdb-41c0-9aa7-15889c08965e');\n",
       "var x = new MutationObserver(function (mutations, observer) {{\n",
       "        var display = window.getComputedStyle(gd).display;\n",
       "        if (!display || display === 'none') {{\n",
       "            console.log([gd, 'removed!']);\n",
       "            Plotly.purge(gd);\n",
       "            observer.disconnect();\n",
       "        }}\n",
       "}});\n",
       "\n",
       "// Listen for the removal of the full notebook cells\n",
       "var notebookContainer = gd.closest('#notebook-container');\n",
       "if (notebookContainer) {{\n",
       "    x.observe(notebookContainer, {childList: true});\n",
       "}}\n",
       "\n",
       "// Listen for the clearing of the current output cell\n",
       "var outputEl = gd.closest('.output');\n",
       "if (outputEl) {{\n",
       "    x.observe(outputEl, {childList: true});\n",
       "}}\n",
       "\n",
       "                        })                };                            </script>        </div>\n",
       "</body>\n",
       "</html>"
      ]
     },
     "metadata": {},
     "output_type": "display_data"
    }
   ],
   "source": [
    "fig = px.pie(x_df, values='duration_ms', names='Title',color='Title',title='Top 5 Highest Duration_ms Songs',\n",
    "             color_discrete_map={'sign of the times\t':'lightcyan',\n",
    "                                 'friends':'cyan',\n",
    "                                 'after hours\t':'royalblue',\n",
    "                                 'all night\t':'darkblue',\n",
    "                                 'stay': 'green'})\n",
    "fig.show()"
   ]
  },
  {
   "cell_type": "markdown",
   "metadata": {
    "id": "HsbXSJmUGGQh"
   },
   "source": [
    "### 8.   How the daceability and energy has changed by year?\n"
   ]
  },
  {
   "cell_type": "code",
   "execution_count": 42,
   "metadata": {
    "colab": {
     "base_uri": "https://localhost:8080/",
     "height": 542
    },
    "executionInfo": {
     "elapsed": 94,
     "status": "ok",
     "timestamp": 1673541692353,
     "user": {
      "displayName": "Ritu Singh",
      "userId": "11452320716915109322"
     },
     "user_tz": -330
    },
    "id": "Wr4r5Lyhex20",
    "outputId": "28e9ac89-f8f6-4333-af95-cc060a0bb483"
   },
   "outputs": [
    {
     "data": {
      "text/html": [
       "<html>\n",
       "<head><meta charset=\"utf-8\" /></head>\n",
       "<body>\n",
       "    <div>            <script src=\"https://cdnjs.cloudflare.com/ajax/libs/mathjax/2.7.5/MathJax.js?config=TeX-AMS-MML_SVG\"></script><script type=\"text/javascript\">if (window.MathJax) {MathJax.Hub.Config({SVG: {font: \"STIX-Web\"}});}</script>                <script type=\"text/javascript\">window.PlotlyConfig = {MathJaxConfig: 'local'};</script>\n",
       "        <script src=\"https://cdn.plot.ly/plotly-2.8.3.min.js\"></script>                <div id=\"7c0b5b28-9128-4ac5-a536-4ee6d282c1f9\" class=\"plotly-graph-div\" style=\"height:525px; width:100%;\"></div>            <script type=\"text/javascript\">                                    window.PLOTLYENV=window.PLOTLYENV || {};                                    if (document.getElementById(\"7c0b5b28-9128-4ac5-a536-4ee6d282c1f9\")) {                    Plotly.newPlot(                        \"7c0b5b28-9128-4ac5-a536-4ee6d282c1f9\",                        [{\"hovertemplate\":\"x=%{x}<br>y=%{y}<extra></extra>\",\"legendgroup\":\"\",\"line\":{\"color\":\"#636efa\",\"dash\":\"solid\"},\"marker\":{\"symbol\":\"circle\"},\"mode\":\"lines\",\"name\":\"\",\"orientation\":\"v\",\"showlegend\":false,\"x\":[0.3429999999999999,0.324,0.293,0.15703225806451615,0.184,0.20747058823529413,0.33125,0.288,0.413,0.336,0.27208405797101454,0.5925999999999999,0.3186,0.3883111111111111,0.293,0.3187649350649351,0.6996274509803921,0.480758064516129,0.38673972602739726,0.3824375,0.5672826086956522,0.42465891472868217,0.4932545454545454,0.5097918181818182,0.4559642857142857,0.46428205128205124,0.857037037037037,0.6874444444444444,0.39334177215189875,0.7034814814814815,0.5499788732394367,0.6141724137931035,0.773765625,0.5901276595744681,0.6660294117647059,0.69607182320442,0.6437499999999999,0.5857222222222221,0.7833695652173914,0.5519047619047619,0.659233082706767,0.5557666666666666,0.5751111111111111,0.37602117647058825,0.644849765258216,0.5073529411764706,0.5272154411764706,0.6092980132450332,0.7815835294117648,0.6262271604938272,0.8017000000000001,0.5988662790697674,0.6723262032085562,0.7892523076923077,0.7321970238095238,0.6628533834586465,0.8352188449848024,0.7527960784313725,0.7090448430493274,0.7494879227053141,0.7590469973890339,0.6079874015748031,0.7343135135135135,0.7388871473354233,0.5104640682095006,0.6995891373801918,0.6427985393258426,0.6462011173184358,0.6635912314635719,0.6601795383411581,0.6440620637042745,0.6375693970963558,0.6295439304906836,0.6360417631194516],\"xaxis\":\"x\",\"y\":[1899,1900,1939,1942,1944,1945,1947,1948,1949,1956,1957,1958,1959,1960,1961,1962,1963,1964,1965,1966,1967,1968,1969,1970,1971,1972,1973,1974,1975,1976,1977,1978,1979,1980,1981,1982,1983,1984,1985,1986,1987,1988,1989,1990,1991,1992,1993,1994,1995,1996,1997,1998,1999,2000,2001,2002,2003,2004,2005,2006,2007,2008,2009,2010,2011,2012,2013,2014,2015,2016,2017,2018,2019,2020],\"yaxis\":\"y\",\"type\":\"scatter\"}],                        {\"template\":{\"data\":{\"bar\":[{\"error_x\":{\"color\":\"#2a3f5f\"},\"error_y\":{\"color\":\"#2a3f5f\"},\"marker\":{\"line\":{\"color\":\"#E5ECF6\",\"width\":0.5},\"pattern\":{\"fillmode\":\"overlay\",\"size\":10,\"solidity\":0.2}},\"type\":\"bar\"}],\"barpolar\":[{\"marker\":{\"line\":{\"color\":\"#E5ECF6\",\"width\":0.5},\"pattern\":{\"fillmode\":\"overlay\",\"size\":10,\"solidity\":0.2}},\"type\":\"barpolar\"}],\"carpet\":[{\"aaxis\":{\"endlinecolor\":\"#2a3f5f\",\"gridcolor\":\"white\",\"linecolor\":\"white\",\"minorgridcolor\":\"white\",\"startlinecolor\":\"#2a3f5f\"},\"baxis\":{\"endlinecolor\":\"#2a3f5f\",\"gridcolor\":\"white\",\"linecolor\":\"white\",\"minorgridcolor\":\"white\",\"startlinecolor\":\"#2a3f5f\"},\"type\":\"carpet\"}],\"choropleth\":[{\"colorbar\":{\"outlinewidth\":0,\"ticks\":\"\"},\"type\":\"choropleth\"}],\"contour\":[{\"colorbar\":{\"outlinewidth\":0,\"ticks\":\"\"},\"colorscale\":[[0.0,\"#0d0887\"],[0.1111111111111111,\"#46039f\"],[0.2222222222222222,\"#7201a8\"],[0.3333333333333333,\"#9c179e\"],[0.4444444444444444,\"#bd3786\"],[0.5555555555555556,\"#d8576b\"],[0.6666666666666666,\"#ed7953\"],[0.7777777777777778,\"#fb9f3a\"],[0.8888888888888888,\"#fdca26\"],[1.0,\"#f0f921\"]],\"type\":\"contour\"}],\"contourcarpet\":[{\"colorbar\":{\"outlinewidth\":0,\"ticks\":\"\"},\"type\":\"contourcarpet\"}],\"heatmap\":[{\"colorbar\":{\"outlinewidth\":0,\"ticks\":\"\"},\"colorscale\":[[0.0,\"#0d0887\"],[0.1111111111111111,\"#46039f\"],[0.2222222222222222,\"#7201a8\"],[0.3333333333333333,\"#9c179e\"],[0.4444444444444444,\"#bd3786\"],[0.5555555555555556,\"#d8576b\"],[0.6666666666666666,\"#ed7953\"],[0.7777777777777778,\"#fb9f3a\"],[0.8888888888888888,\"#fdca26\"],[1.0,\"#f0f921\"]],\"type\":\"heatmap\"}],\"heatmapgl\":[{\"colorbar\":{\"outlinewidth\":0,\"ticks\":\"\"},\"colorscale\":[[0.0,\"#0d0887\"],[0.1111111111111111,\"#46039f\"],[0.2222222222222222,\"#7201a8\"],[0.3333333333333333,\"#9c179e\"],[0.4444444444444444,\"#bd3786\"],[0.5555555555555556,\"#d8576b\"],[0.6666666666666666,\"#ed7953\"],[0.7777777777777778,\"#fb9f3a\"],[0.8888888888888888,\"#fdca26\"],[1.0,\"#f0f921\"]],\"type\":\"heatmapgl\"}],\"histogram\":[{\"marker\":{\"pattern\":{\"fillmode\":\"overlay\",\"size\":10,\"solidity\":0.2}},\"type\":\"histogram\"}],\"histogram2d\":[{\"colorbar\":{\"outlinewidth\":0,\"ticks\":\"\"},\"colorscale\":[[0.0,\"#0d0887\"],[0.1111111111111111,\"#46039f\"],[0.2222222222222222,\"#7201a8\"],[0.3333333333333333,\"#9c179e\"],[0.4444444444444444,\"#bd3786\"],[0.5555555555555556,\"#d8576b\"],[0.6666666666666666,\"#ed7953\"],[0.7777777777777778,\"#fb9f3a\"],[0.8888888888888888,\"#fdca26\"],[1.0,\"#f0f921\"]],\"type\":\"histogram2d\"}],\"histogram2dcontour\":[{\"colorbar\":{\"outlinewidth\":0,\"ticks\":\"\"},\"colorscale\":[[0.0,\"#0d0887\"],[0.1111111111111111,\"#46039f\"],[0.2222222222222222,\"#7201a8\"],[0.3333333333333333,\"#9c179e\"],[0.4444444444444444,\"#bd3786\"],[0.5555555555555556,\"#d8576b\"],[0.6666666666666666,\"#ed7953\"],[0.7777777777777778,\"#fb9f3a\"],[0.8888888888888888,\"#fdca26\"],[1.0,\"#f0f921\"]],\"type\":\"histogram2dcontour\"}],\"mesh3d\":[{\"colorbar\":{\"outlinewidth\":0,\"ticks\":\"\"},\"type\":\"mesh3d\"}],\"parcoords\":[{\"line\":{\"colorbar\":{\"outlinewidth\":0,\"ticks\":\"\"}},\"type\":\"parcoords\"}],\"pie\":[{\"automargin\":true,\"type\":\"pie\"}],\"scatter\":[{\"marker\":{\"colorbar\":{\"outlinewidth\":0,\"ticks\":\"\"}},\"type\":\"scatter\"}],\"scatter3d\":[{\"line\":{\"colorbar\":{\"outlinewidth\":0,\"ticks\":\"\"}},\"marker\":{\"colorbar\":{\"outlinewidth\":0,\"ticks\":\"\"}},\"type\":\"scatter3d\"}],\"scattercarpet\":[{\"marker\":{\"colorbar\":{\"outlinewidth\":0,\"ticks\":\"\"}},\"type\":\"scattercarpet\"}],\"scattergeo\":[{\"marker\":{\"colorbar\":{\"outlinewidth\":0,\"ticks\":\"\"}},\"type\":\"scattergeo\"}],\"scattergl\":[{\"marker\":{\"colorbar\":{\"outlinewidth\":0,\"ticks\":\"\"}},\"type\":\"scattergl\"}],\"scattermapbox\":[{\"marker\":{\"colorbar\":{\"outlinewidth\":0,\"ticks\":\"\"}},\"type\":\"scattermapbox\"}],\"scatterpolar\":[{\"marker\":{\"colorbar\":{\"outlinewidth\":0,\"ticks\":\"\"}},\"type\":\"scatterpolar\"}],\"scatterpolargl\":[{\"marker\":{\"colorbar\":{\"outlinewidth\":0,\"ticks\":\"\"}},\"type\":\"scatterpolargl\"}],\"scatterternary\":[{\"marker\":{\"colorbar\":{\"outlinewidth\":0,\"ticks\":\"\"}},\"type\":\"scatterternary\"}],\"surface\":[{\"colorbar\":{\"outlinewidth\":0,\"ticks\":\"\"},\"colorscale\":[[0.0,\"#0d0887\"],[0.1111111111111111,\"#46039f\"],[0.2222222222222222,\"#7201a8\"],[0.3333333333333333,\"#9c179e\"],[0.4444444444444444,\"#bd3786\"],[0.5555555555555556,\"#d8576b\"],[0.6666666666666666,\"#ed7953\"],[0.7777777777777778,\"#fb9f3a\"],[0.8888888888888888,\"#fdca26\"],[1.0,\"#f0f921\"]],\"type\":\"surface\"}],\"table\":[{\"cells\":{\"fill\":{\"color\":\"#EBF0F8\"},\"line\":{\"color\":\"white\"}},\"header\":{\"fill\":{\"color\":\"#C8D4E3\"},\"line\":{\"color\":\"white\"}},\"type\":\"table\"}]},\"layout\":{\"annotationdefaults\":{\"arrowcolor\":\"#2a3f5f\",\"arrowhead\":0,\"arrowwidth\":1},\"autotypenumbers\":\"strict\",\"coloraxis\":{\"colorbar\":{\"outlinewidth\":0,\"ticks\":\"\"}},\"colorscale\":{\"diverging\":[[0,\"#8e0152\"],[0.1,\"#c51b7d\"],[0.2,\"#de77ae\"],[0.3,\"#f1b6da\"],[0.4,\"#fde0ef\"],[0.5,\"#f7f7f7\"],[0.6,\"#e6f5d0\"],[0.7,\"#b8e186\"],[0.8,\"#7fbc41\"],[0.9,\"#4d9221\"],[1,\"#276419\"]],\"sequential\":[[0.0,\"#0d0887\"],[0.1111111111111111,\"#46039f\"],[0.2222222222222222,\"#7201a8\"],[0.3333333333333333,\"#9c179e\"],[0.4444444444444444,\"#bd3786\"],[0.5555555555555556,\"#d8576b\"],[0.6666666666666666,\"#ed7953\"],[0.7777777777777778,\"#fb9f3a\"],[0.8888888888888888,\"#fdca26\"],[1.0,\"#f0f921\"]],\"sequentialminus\":[[0.0,\"#0d0887\"],[0.1111111111111111,\"#46039f\"],[0.2222222222222222,\"#7201a8\"],[0.3333333333333333,\"#9c179e\"],[0.4444444444444444,\"#bd3786\"],[0.5555555555555556,\"#d8576b\"],[0.6666666666666666,\"#ed7953\"],[0.7777777777777778,\"#fb9f3a\"],[0.8888888888888888,\"#fdca26\"],[1.0,\"#f0f921\"]]},\"colorway\":[\"#636efa\",\"#EF553B\",\"#00cc96\",\"#ab63fa\",\"#FFA15A\",\"#19d3f3\",\"#FF6692\",\"#B6E880\",\"#FF97FF\",\"#FECB52\"],\"font\":{\"color\":\"#2a3f5f\"},\"geo\":{\"bgcolor\":\"white\",\"lakecolor\":\"white\",\"landcolor\":\"#E5ECF6\",\"showlakes\":true,\"showland\":true,\"subunitcolor\":\"white\"},\"hoverlabel\":{\"align\":\"left\"},\"hovermode\":\"closest\",\"mapbox\":{\"style\":\"light\"},\"paper_bgcolor\":\"white\",\"plot_bgcolor\":\"#E5ECF6\",\"polar\":{\"angularaxis\":{\"gridcolor\":\"white\",\"linecolor\":\"white\",\"ticks\":\"\"},\"bgcolor\":\"#E5ECF6\",\"radialaxis\":{\"gridcolor\":\"white\",\"linecolor\":\"white\",\"ticks\":\"\"}},\"scene\":{\"xaxis\":{\"backgroundcolor\":\"#E5ECF6\",\"gridcolor\":\"white\",\"gridwidth\":2,\"linecolor\":\"white\",\"showbackground\":true,\"ticks\":\"\",\"zerolinecolor\":\"white\"},\"yaxis\":{\"backgroundcolor\":\"#E5ECF6\",\"gridcolor\":\"white\",\"gridwidth\":2,\"linecolor\":\"white\",\"showbackground\":true,\"ticks\":\"\",\"zerolinecolor\":\"white\"},\"zaxis\":{\"backgroundcolor\":\"#E5ECF6\",\"gridcolor\":\"white\",\"gridwidth\":2,\"linecolor\":\"white\",\"showbackground\":true,\"ticks\":\"\",\"zerolinecolor\":\"white\"}},\"shapedefaults\":{\"line\":{\"color\":\"#2a3f5f\"}},\"ternary\":{\"aaxis\":{\"gridcolor\":\"white\",\"linecolor\":\"white\",\"ticks\":\"\"},\"baxis\":{\"gridcolor\":\"white\",\"linecolor\":\"white\",\"ticks\":\"\"},\"bgcolor\":\"#E5ECF6\",\"caxis\":{\"gridcolor\":\"white\",\"linecolor\":\"white\",\"ticks\":\"\"}},\"title\":{\"x\":0.05},\"xaxis\":{\"automargin\":true,\"gridcolor\":\"white\",\"linecolor\":\"white\",\"ticks\":\"\",\"title\":{\"standoff\":15},\"zerolinecolor\":\"white\",\"zerolinewidth\":2},\"yaxis\":{\"automargin\":true,\"gridcolor\":\"white\",\"linecolor\":\"white\",\"ticks\":\"\",\"title\":{\"standoff\":15},\"zerolinecolor\":\"white\",\"zerolinewidth\":2}}},\"xaxis\":{\"anchor\":\"y\",\"domain\":[0.0,1.0],\"title\":{\"text\":\"Energy\"}},\"yaxis\":{\"anchor\":\"x\",\"domain\":[0.0,1.0],\"title\":{\"text\":\"Year\"}},\"legend\":{\"tracegroupgap\":0},\"margin\":{\"t\":60},\"font\":{\"color\":\"brown\"},\"title\":{\"text\":\"Energy Changes by Per Year\",\"font\":{\"color\":\"red\"}}},                        {\"responsive\": true}                    ).then(function(){\n",
       "                            \n",
       "var gd = document.getElementById('7c0b5b28-9128-4ac5-a536-4ee6d282c1f9');\n",
       "var x = new MutationObserver(function (mutations, observer) {{\n",
       "        var display = window.getComputedStyle(gd).display;\n",
       "        if (!display || display === 'none') {{\n",
       "            console.log([gd, 'removed!']);\n",
       "            Plotly.purge(gd);\n",
       "            observer.disconnect();\n",
       "        }}\n",
       "}});\n",
       "\n",
       "// Listen for the removal of the full notebook cells\n",
       "var notebookContainer = gd.closest('#notebook-container');\n",
       "if (notebookContainer) {{\n",
       "    x.observe(notebookContainer, {childList: true});\n",
       "}}\n",
       "\n",
       "// Listen for the clearing of the current output cell\n",
       "var outputEl = gd.closest('.output');\n",
       "if (outputEl) {{\n",
       "    x.observe(outputEl, {childList: true});\n",
       "}}\n",
       "\n",
       "                        })                };                            </script>        </div>\n",
       "</body>\n",
       "</html>"
      ]
     },
     "metadata": {},
     "output_type": "display_data"
    }
   ],
   "source": [
    "x= df.groupby('Year')['energy'].mean()\n",
    "fig=px.line(df,\n",
    "           x=x,y=x.index\n",
    "           )\n",
    "fig.update_layout(xaxis_title='Energy',\n",
    "                  yaxis_title='Year',\n",
    "                  title='Energy Changes by Per Year',\n",
    "                  font_color='brown',\n",
    "                  title_font_color='red'\n",
    "                  )\n",
    "fig.show()"
   ]
  },
  {
   "cell_type": "code",
   "execution_count": 43,
   "metadata": {
    "colab": {
     "base_uri": "https://localhost:8080/",
     "height": 542
    },
    "executionInfo": {
     "elapsed": 94,
     "status": "ok",
     "timestamp": 1673541692356,
     "user": {
      "displayName": "Ritu Singh",
      "userId": "11452320716915109322"
     },
     "user_tz": -330
    },
    "id": "m-bVnPvsGSjt",
    "outputId": "1b25622e-0f86-4fdc-b161-84067f1a891f"
   },
   "outputs": [
    {
     "data": {
      "text/html": [
       "<html>\n",
       "<head><meta charset=\"utf-8\" /></head>\n",
       "<body>\n",
       "    <div>            <script src=\"https://cdnjs.cloudflare.com/ajax/libs/mathjax/2.7.5/MathJax.js?config=TeX-AMS-MML_SVG\"></script><script type=\"text/javascript\">if (window.MathJax) {MathJax.Hub.Config({SVG: {font: \"STIX-Web\"}});}</script>                <script type=\"text/javascript\">window.PlotlyConfig = {MathJaxConfig: 'local'};</script>\n",
       "        <script src=\"https://cdn.plot.ly/plotly-2.8.3.min.js\"></script>                <div id=\"94b7c802-667d-4488-b10f-7c717f1a3350\" class=\"plotly-graph-div\" style=\"height:525px; width:100%;\"></div>            <script type=\"text/javascript\">                                    window.PLOTLYENV=window.PLOTLYENV || {};                                    if (document.getElementById(\"94b7c802-667d-4488-b10f-7c717f1a3350\")) {                    Plotly.newPlot(                        \"94b7c802-667d-4488-b10f-7c717f1a3350\",                        [{\"hovertemplate\":\"x=%{x}<br>y=%{y}<extra></extra>\",\"legendgroup\":\"\",\"line\":{\"color\":\"#636efa\",\"dash\":\"solid\"},\"marker\":{\"symbol\":\"circle\"},\"mode\":\"lines\",\"name\":\"\",\"orientation\":\"v\",\"showlegend\":false,\"x\":[0.281,0.5489999999999999,0.48,0.31932258064516134,0.156,0.4503235294117647,0.7955625000000001,0.6106153846153847,0.6409999999999999,0.326,0.5442101449275363,0.6391333333333333,0.4735882352941177,0.5322666666666667,0.3960000000000001,0.4675974025974026,0.3815882352941176,0.581741935483871,0.6075616438356164,0.366625,0.6215108695652174,0.6009689922480621,0.5792363636363637,0.5571454545454546,0.5304821428571429,0.6338205128205129,0.6043703703703704,0.5560925925925926,0.44800000000000006,0.5190617283950618,0.6071338028169013,0.5235172413793103,0.653625,0.7276170212765958,0.4984705882352941,0.733524861878453,0.721139705882353,0.5207777777777778,0.6224130434782609,0.7106785714285714,0.5978195488721805,0.5288077777777778,0.6113111111111111,0.5393176470588236,0.5974882629107982,0.668235294117647,0.5324632352941177,0.43099668874172187,0.5097647058823529,0.6925555555555556,0.6056538461538461,0.5744127906976745,0.6788609625668449,0.5918153846153846,0.5986964285714286,0.6359624060150376,0.6176717325227964,0.6270666666666667,0.634035874439462,0.6025265700483092,0.5713498694516971,0.5827204724409448,0.6244216216216216,0.5545015673981191,0.5575651644336176,0.6005607028753994,0.6059550561797752,0.5971075418994414,0.637966473243069,0.6615561424100157,0.6635395640438653,0.6849374084766328,0.6748144241876349,0.692192886841218],\"xaxis\":\"x\",\"y\":[1899,1900,1939,1942,1944,1945,1947,1948,1949,1956,1957,1958,1959,1960,1961,1962,1963,1964,1965,1966,1967,1968,1969,1970,1971,1972,1973,1974,1975,1976,1977,1978,1979,1980,1981,1982,1983,1984,1985,1986,1987,1988,1989,1990,1991,1992,1993,1994,1995,1996,1997,1998,1999,2000,2001,2002,2003,2004,2005,2006,2007,2008,2009,2010,2011,2012,2013,2014,2015,2016,2017,2018,2019,2020],\"yaxis\":\"y\",\"type\":\"scatter\"}],                        {\"template\":{\"data\":{\"bar\":[{\"error_x\":{\"color\":\"#2a3f5f\"},\"error_y\":{\"color\":\"#2a3f5f\"},\"marker\":{\"line\":{\"color\":\"#E5ECF6\",\"width\":0.5},\"pattern\":{\"fillmode\":\"overlay\",\"size\":10,\"solidity\":0.2}},\"type\":\"bar\"}],\"barpolar\":[{\"marker\":{\"line\":{\"color\":\"#E5ECF6\",\"width\":0.5},\"pattern\":{\"fillmode\":\"overlay\",\"size\":10,\"solidity\":0.2}},\"type\":\"barpolar\"}],\"carpet\":[{\"aaxis\":{\"endlinecolor\":\"#2a3f5f\",\"gridcolor\":\"white\",\"linecolor\":\"white\",\"minorgridcolor\":\"white\",\"startlinecolor\":\"#2a3f5f\"},\"baxis\":{\"endlinecolor\":\"#2a3f5f\",\"gridcolor\":\"white\",\"linecolor\":\"white\",\"minorgridcolor\":\"white\",\"startlinecolor\":\"#2a3f5f\"},\"type\":\"carpet\"}],\"choropleth\":[{\"colorbar\":{\"outlinewidth\":0,\"ticks\":\"\"},\"type\":\"choropleth\"}],\"contour\":[{\"colorbar\":{\"outlinewidth\":0,\"ticks\":\"\"},\"colorscale\":[[0.0,\"#0d0887\"],[0.1111111111111111,\"#46039f\"],[0.2222222222222222,\"#7201a8\"],[0.3333333333333333,\"#9c179e\"],[0.4444444444444444,\"#bd3786\"],[0.5555555555555556,\"#d8576b\"],[0.6666666666666666,\"#ed7953\"],[0.7777777777777778,\"#fb9f3a\"],[0.8888888888888888,\"#fdca26\"],[1.0,\"#f0f921\"]],\"type\":\"contour\"}],\"contourcarpet\":[{\"colorbar\":{\"outlinewidth\":0,\"ticks\":\"\"},\"type\":\"contourcarpet\"}],\"heatmap\":[{\"colorbar\":{\"outlinewidth\":0,\"ticks\":\"\"},\"colorscale\":[[0.0,\"#0d0887\"],[0.1111111111111111,\"#46039f\"],[0.2222222222222222,\"#7201a8\"],[0.3333333333333333,\"#9c179e\"],[0.4444444444444444,\"#bd3786\"],[0.5555555555555556,\"#d8576b\"],[0.6666666666666666,\"#ed7953\"],[0.7777777777777778,\"#fb9f3a\"],[0.8888888888888888,\"#fdca26\"],[1.0,\"#f0f921\"]],\"type\":\"heatmap\"}],\"heatmapgl\":[{\"colorbar\":{\"outlinewidth\":0,\"ticks\":\"\"},\"colorscale\":[[0.0,\"#0d0887\"],[0.1111111111111111,\"#46039f\"],[0.2222222222222222,\"#7201a8\"],[0.3333333333333333,\"#9c179e\"],[0.4444444444444444,\"#bd3786\"],[0.5555555555555556,\"#d8576b\"],[0.6666666666666666,\"#ed7953\"],[0.7777777777777778,\"#fb9f3a\"],[0.8888888888888888,\"#fdca26\"],[1.0,\"#f0f921\"]],\"type\":\"heatmapgl\"}],\"histogram\":[{\"marker\":{\"pattern\":{\"fillmode\":\"overlay\",\"size\":10,\"solidity\":0.2}},\"type\":\"histogram\"}],\"histogram2d\":[{\"colorbar\":{\"outlinewidth\":0,\"ticks\":\"\"},\"colorscale\":[[0.0,\"#0d0887\"],[0.1111111111111111,\"#46039f\"],[0.2222222222222222,\"#7201a8\"],[0.3333333333333333,\"#9c179e\"],[0.4444444444444444,\"#bd3786\"],[0.5555555555555556,\"#d8576b\"],[0.6666666666666666,\"#ed7953\"],[0.7777777777777778,\"#fb9f3a\"],[0.8888888888888888,\"#fdca26\"],[1.0,\"#f0f921\"]],\"type\":\"histogram2d\"}],\"histogram2dcontour\":[{\"colorbar\":{\"outlinewidth\":0,\"ticks\":\"\"},\"colorscale\":[[0.0,\"#0d0887\"],[0.1111111111111111,\"#46039f\"],[0.2222222222222222,\"#7201a8\"],[0.3333333333333333,\"#9c179e\"],[0.4444444444444444,\"#bd3786\"],[0.5555555555555556,\"#d8576b\"],[0.6666666666666666,\"#ed7953\"],[0.7777777777777778,\"#fb9f3a\"],[0.8888888888888888,\"#fdca26\"],[1.0,\"#f0f921\"]],\"type\":\"histogram2dcontour\"}],\"mesh3d\":[{\"colorbar\":{\"outlinewidth\":0,\"ticks\":\"\"},\"type\":\"mesh3d\"}],\"parcoords\":[{\"line\":{\"colorbar\":{\"outlinewidth\":0,\"ticks\":\"\"}},\"type\":\"parcoords\"}],\"pie\":[{\"automargin\":true,\"type\":\"pie\"}],\"scatter\":[{\"marker\":{\"colorbar\":{\"outlinewidth\":0,\"ticks\":\"\"}},\"type\":\"scatter\"}],\"scatter3d\":[{\"line\":{\"colorbar\":{\"outlinewidth\":0,\"ticks\":\"\"}},\"marker\":{\"colorbar\":{\"outlinewidth\":0,\"ticks\":\"\"}},\"type\":\"scatter3d\"}],\"scattercarpet\":[{\"marker\":{\"colorbar\":{\"outlinewidth\":0,\"ticks\":\"\"}},\"type\":\"scattercarpet\"}],\"scattergeo\":[{\"marker\":{\"colorbar\":{\"outlinewidth\":0,\"ticks\":\"\"}},\"type\":\"scattergeo\"}],\"scattergl\":[{\"marker\":{\"colorbar\":{\"outlinewidth\":0,\"ticks\":\"\"}},\"type\":\"scattergl\"}],\"scattermapbox\":[{\"marker\":{\"colorbar\":{\"outlinewidth\":0,\"ticks\":\"\"}},\"type\":\"scattermapbox\"}],\"scatterpolar\":[{\"marker\":{\"colorbar\":{\"outlinewidth\":0,\"ticks\":\"\"}},\"type\":\"scatterpolar\"}],\"scatterpolargl\":[{\"marker\":{\"colorbar\":{\"outlinewidth\":0,\"ticks\":\"\"}},\"type\":\"scatterpolargl\"}],\"scatterternary\":[{\"marker\":{\"colorbar\":{\"outlinewidth\":0,\"ticks\":\"\"}},\"type\":\"scatterternary\"}],\"surface\":[{\"colorbar\":{\"outlinewidth\":0,\"ticks\":\"\"},\"colorscale\":[[0.0,\"#0d0887\"],[0.1111111111111111,\"#46039f\"],[0.2222222222222222,\"#7201a8\"],[0.3333333333333333,\"#9c179e\"],[0.4444444444444444,\"#bd3786\"],[0.5555555555555556,\"#d8576b\"],[0.6666666666666666,\"#ed7953\"],[0.7777777777777778,\"#fb9f3a\"],[0.8888888888888888,\"#fdca26\"],[1.0,\"#f0f921\"]],\"type\":\"surface\"}],\"table\":[{\"cells\":{\"fill\":{\"color\":\"#EBF0F8\"},\"line\":{\"color\":\"white\"}},\"header\":{\"fill\":{\"color\":\"#C8D4E3\"},\"line\":{\"color\":\"white\"}},\"type\":\"table\"}]},\"layout\":{\"annotationdefaults\":{\"arrowcolor\":\"#2a3f5f\",\"arrowhead\":0,\"arrowwidth\":1},\"autotypenumbers\":\"strict\",\"coloraxis\":{\"colorbar\":{\"outlinewidth\":0,\"ticks\":\"\"}},\"colorscale\":{\"diverging\":[[0,\"#8e0152\"],[0.1,\"#c51b7d\"],[0.2,\"#de77ae\"],[0.3,\"#f1b6da\"],[0.4,\"#fde0ef\"],[0.5,\"#f7f7f7\"],[0.6,\"#e6f5d0\"],[0.7,\"#b8e186\"],[0.8,\"#7fbc41\"],[0.9,\"#4d9221\"],[1,\"#276419\"]],\"sequential\":[[0.0,\"#0d0887\"],[0.1111111111111111,\"#46039f\"],[0.2222222222222222,\"#7201a8\"],[0.3333333333333333,\"#9c179e\"],[0.4444444444444444,\"#bd3786\"],[0.5555555555555556,\"#d8576b\"],[0.6666666666666666,\"#ed7953\"],[0.7777777777777778,\"#fb9f3a\"],[0.8888888888888888,\"#fdca26\"],[1.0,\"#f0f921\"]],\"sequentialminus\":[[0.0,\"#0d0887\"],[0.1111111111111111,\"#46039f\"],[0.2222222222222222,\"#7201a8\"],[0.3333333333333333,\"#9c179e\"],[0.4444444444444444,\"#bd3786\"],[0.5555555555555556,\"#d8576b\"],[0.6666666666666666,\"#ed7953\"],[0.7777777777777778,\"#fb9f3a\"],[0.8888888888888888,\"#fdca26\"],[1.0,\"#f0f921\"]]},\"colorway\":[\"#636efa\",\"#EF553B\",\"#00cc96\",\"#ab63fa\",\"#FFA15A\",\"#19d3f3\",\"#FF6692\",\"#B6E880\",\"#FF97FF\",\"#FECB52\"],\"font\":{\"color\":\"#2a3f5f\"},\"geo\":{\"bgcolor\":\"white\",\"lakecolor\":\"white\",\"landcolor\":\"#E5ECF6\",\"showlakes\":true,\"showland\":true,\"subunitcolor\":\"white\"},\"hoverlabel\":{\"align\":\"left\"},\"hovermode\":\"closest\",\"mapbox\":{\"style\":\"light\"},\"paper_bgcolor\":\"white\",\"plot_bgcolor\":\"#E5ECF6\",\"polar\":{\"angularaxis\":{\"gridcolor\":\"white\",\"linecolor\":\"white\",\"ticks\":\"\"},\"bgcolor\":\"#E5ECF6\",\"radialaxis\":{\"gridcolor\":\"white\",\"linecolor\":\"white\",\"ticks\":\"\"}},\"scene\":{\"xaxis\":{\"backgroundcolor\":\"#E5ECF6\",\"gridcolor\":\"white\",\"gridwidth\":2,\"linecolor\":\"white\",\"showbackground\":true,\"ticks\":\"\",\"zerolinecolor\":\"white\"},\"yaxis\":{\"backgroundcolor\":\"#E5ECF6\",\"gridcolor\":\"white\",\"gridwidth\":2,\"linecolor\":\"white\",\"showbackground\":true,\"ticks\":\"\",\"zerolinecolor\":\"white\"},\"zaxis\":{\"backgroundcolor\":\"#E5ECF6\",\"gridcolor\":\"white\",\"gridwidth\":2,\"linecolor\":\"white\",\"showbackground\":true,\"ticks\":\"\",\"zerolinecolor\":\"white\"}},\"shapedefaults\":{\"line\":{\"color\":\"#2a3f5f\"}},\"ternary\":{\"aaxis\":{\"gridcolor\":\"white\",\"linecolor\":\"white\",\"ticks\":\"\"},\"baxis\":{\"gridcolor\":\"white\",\"linecolor\":\"white\",\"ticks\":\"\"},\"bgcolor\":\"#E5ECF6\",\"caxis\":{\"gridcolor\":\"white\",\"linecolor\":\"white\",\"ticks\":\"\"}},\"title\":{\"x\":0.05},\"xaxis\":{\"automargin\":true,\"gridcolor\":\"white\",\"linecolor\":\"white\",\"ticks\":\"\",\"title\":{\"standoff\":15},\"zerolinecolor\":\"white\",\"zerolinewidth\":2},\"yaxis\":{\"automargin\":true,\"gridcolor\":\"white\",\"linecolor\":\"white\",\"ticks\":\"\",\"title\":{\"standoff\":15},\"zerolinecolor\":\"white\",\"zerolinewidth\":2}}},\"xaxis\":{\"anchor\":\"y\",\"domain\":[0.0,1.0],\"title\":{\"text\":\"Danceability\"}},\"yaxis\":{\"anchor\":\"x\",\"domain\":[0.0,1.0],\"title\":{\"text\":\"Year\"}},\"legend\":{\"tracegroupgap\":0},\"margin\":{\"t\":60},\"font\":{\"color\":\"Purple\"},\"title\":{\"text\":\"Danceability Changes by Per Year\",\"font\":{\"color\":\"Orange\"}}},                        {\"responsive\": true}                    ).then(function(){\n",
       "                            \n",
       "var gd = document.getElementById('94b7c802-667d-4488-b10f-7c717f1a3350');\n",
       "var x = new MutationObserver(function (mutations, observer) {{\n",
       "        var display = window.getComputedStyle(gd).display;\n",
       "        if (!display || display === 'none') {{\n",
       "            console.log([gd, 'removed!']);\n",
       "            Plotly.purge(gd);\n",
       "            observer.disconnect();\n",
       "        }}\n",
       "}});\n",
       "\n",
       "// Listen for the removal of the full notebook cells\n",
       "var notebookContainer = gd.closest('#notebook-container');\n",
       "if (notebookContainer) {{\n",
       "    x.observe(notebookContainer, {childList: true});\n",
       "}}\n",
       "\n",
       "// Listen for the clearing of the current output cell\n",
       "var outputEl = gd.closest('.output');\n",
       "if (outputEl) {{\n",
       "    x.observe(outputEl, {childList: true});\n",
       "}}\n",
       "\n",
       "                        })                };                            </script>        </div>\n",
       "</body>\n",
       "</html>"
      ]
     },
     "metadata": {},
     "output_type": "display_data"
    }
   ],
   "source": [
    "x= df.groupby('Year')['danceability'].mean()\n",
    "fig=px.line(df,\n",
    "           x=x,y=x.index\n",
    "           )\n",
    "fig.update_layout(xaxis_title='Danceability',\n",
    "                  yaxis_title='Year',\n",
    "                  title='Danceability Changes by Per Year',\n",
    "                  font_color='Purple',\n",
    "                  title_font_color='Orange'\n",
    "                  )\n",
    "fig.show()"
   ]
  },
  {
   "cell_type": "markdown",
   "metadata": {
    "id": "NDi1WIiIVqWB"
   },
   "source": [
    "## Summary and conclusion"
   ]
  },
  {
   "cell_type": "markdown",
   "metadata": {
    "id": "ex7UJSow38_3"
   },
   "source": [
    "\n",
    "\n",
    "*   This Dataset is Getting updated frequently and there is change in the data along with the columns.\n",
    "\n",
    "*   We can use this notebook to track the spotify operates in 34 countries.\n",
    "\n",
    "*  We are able to find out top 10 Artist on spotify.\n",
    "*  The explanation song is loudest song and Loudness is the quality of a sound that is the primary psychological correlate of physical strength (amplitude).\n",
    "\n",
    "* We have visualized how the daceability and energy has changed by year.\n",
    "* Ed sheeran is the most popular singer on spotify.\n",
    "\n",
    "## NOTE:In this project we took only 1lakh rows of data and the visualisations will vary with change in data\n",
    "\n"
   ]
  },
  {
   "cell_type": "markdown",
   "metadata": {
    "id": "OjQ0H_kpxwdW"
   },
   "source": [
    "## Future Works\n"
   ]
  },
  {
   "cell_type": "markdown",
   "metadata": {
    "id": "DJAgxdlyB-Tz"
   },
   "source": [
    "\n",
    "\n",
    "*   Is there any change in the dancebility and energy in any song?\n",
    "\n",
    "*   Which songs and singers have more popularity platform ?\n",
    "\n",
    "*   Most trending song have highest duration?\n",
    "\n",
    "*   This growth is an indicator of a major shift in music that will define it going forward, both culturally and as a business.\n",
    "\n",
    "* Which songs genre would be most popular through spotify.\n",
    "\n",
    "\n",
    "\n",
    "\n",
    "\n",
    "\n",
    "\n"
   ]
  },
  {
   "cell_type": "markdown",
   "metadata": {
    "id": "g6IuGjBDx0gd"
   },
   "source": [
    "## References\n"
   ]
  },
  {
   "cell_type": "markdown",
   "metadata": {
    "id": "VGSSBcB_yAo0"
   },
   "source": [
    "1. [Jovian](https://jovian.com/)\n",
    "2. [Kaggle](https://www.kaggle.com/)\n",
    "3. [Plotly](https://plotly.com/python/)\n",
    "4. [geeks for geeks](https://www.geeksforgeeks.org/)\n",
    "5. [Matplotlib](https://matplotlib.org/)"
   ]
  }
 ],
 "metadata": {
  "colab": {
   "provenance": []
  },
  "kernelspec": {
   "display_name": "Python 3",
   "language": "python",
   "name": "python3"
  },
  "language_info": {
   "codemirror_mode": {
    "name": "ipython",
    "version": 3
   },
   "file_extension": ".py",
   "mimetype": "text/x-python",
   "name": "python",
   "nbconvert_exporter": "python",
   "pygments_lexer": "ipython3",
   "version": "3.7.6"
  }
 },
 "nbformat": 4,
 "nbformat_minor": 0
}